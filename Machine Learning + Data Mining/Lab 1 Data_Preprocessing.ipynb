{
  "nbformat": 4,
  "nbformat_minor": 0,
  "metadata": {
    "kernelspec": {
      "display_name": "Python 3",
      "language": "python",
      "name": "python3"
    },
    "language_info": {
      "codemirror_mode": {
        "name": "ipython",
        "version": 3
      },
      "file_extension": ".py",
      "mimetype": "text/x-python",
      "name": "python",
      "nbconvert_exporter": "python",
      "pygments_lexer": "ipython3",
      "version": "3.6.9"
    },
    "colab": {
      "name": "Copy of DMA21 - Lab 1: Data Preprocessing",
      "provenance": [],
      "collapsed_sections": []
    }
  },
  "cells": [
    {
      "cell_type": "markdown",
      "metadata": {
        "id": "vKduyi9dItO4"
      },
      "source": [
        "Make sure you fill in any place that says `YOUR CODE HERE` or `YOUR ANSWER HERE`, as well as your name below:"
      ]
    },
    {
      "cell_type": "code",
      "metadata": {
        "id": "FsEVbU41ItO7"
      },
      "source": [
        "NAME = \"Tyler Freund\""
      ],
      "execution_count": null,
      "outputs": []
    },
    {
      "cell_type": "markdown",
      "metadata": {
        "id": "M7sDljEMItPA"
      },
      "source": [
        "---"
      ]
    },
    {
      "cell_type": "markdown",
      "metadata": {
        "deletable": false,
        "editable": false,
        "nbgrader": {
          "checksum": "720281502b9b9c7f8930d61c682cb061",
          "grade": false,
          "grade_id": "cell-731531e531b99c39",
          "locked": true,
          "schema_version": 1,
          "solution": false
        },
        "id": "LJNmSc7sItPB"
      },
      "source": [
        "# Lab 1 - Data Preprocessing\n",
        "\n",
        "Data transformations are useful for preparing a dataset for answering a particular question. Part of this process involves generating features from the dataset you find relevant to the question at hand. For this lab, we will be using a Yelp reviews dataset. Each row in the dataset depicts one review along with the features of the review (the reviewer, the review text, etc.). The goal of this lab is to convert this reviews dataset into a reviewers dataset by creating different features of each reviewer.\n",
        "\n",
        "The submission for this assignment should be done *individually*.\n",
        "\n",
        "# Environment Setup\n",
        "Run this cell to setup your environment."
      ]
    },
    {
      "cell_type": "code",
      "metadata": {
        "deletable": false,
        "editable": false,
        "nbgrader": {
          "checksum": "c4f9a2a35aae087d70dccad8514e5e4f",
          "grade": false,
          "grade_id": "cell-88d067a4407f02bf",
          "locked": true,
          "schema_version": 1,
          "solution": false
        },
        "id": "LIH96tFzItPC",
        "colab": {
          "base_uri": "https://localhost:8080/"
        },
        "outputId": "854b56e2-0b77-442f-cda2-37bc2fcafa61"
      },
      "source": [
        "# Importing libraries\n",
        "import pandas as pd\n",
        "import math\n",
        "import numpy as np\n",
        "import os\n",
        "print('Libraries Imported')\n",
        "\n",
        "#DOWNLOADING DATASET IF NOT PRESENT\n",
        "!wget -nc http://askoski.berkeley.edu/~zp/yelp_reviews.csv\n",
        "\n",
        "#!unzip yelp_reviews.zip\n",
        "print('Dataset Downloaded: yelp_reviews.csv')\n",
        "df=pd.read_csv('yelp_reviews.csv')\n",
        "print(df.head())\n",
        "\n",
        "print('Setup Complete')"
      ],
      "execution_count": null,
      "outputs": [
        {
          "output_type": "stream",
          "name": "stdout",
          "text": [
            "Libraries Imported\n",
            "--2021-09-01 20:35:52--  http://askoski.berkeley.edu/~zp/yelp_reviews.csv\n",
            "Resolving askoski.berkeley.edu (askoski.berkeley.edu)... 169.229.192.179\n",
            "Connecting to askoski.berkeley.edu (askoski.berkeley.edu)|169.229.192.179|:80... connected.\n",
            "HTTP request sent, awaiting response... 200 OK\n",
            "Length: 376638166 (359M) [text/csv]\n",
            "Saving to: ‘yelp_reviews.csv’\n",
            "\n",
            "yelp_reviews.csv    100%[===================>] 359.19M  38.3MB/s    in 24s     \n",
            "\n",
            "2021-09-01 20:36:17 (14.7 MB/s) - ‘yelp_reviews.csv’ saved [376638166/376638166]\n",
            "\n",
            "Dataset Downloaded: yelp_reviews.csv\n",
            "     type             business_id  ... useful_votes  funny_votes\n",
            "0  review  mxrXVZWc6PWk81gvOVNOUw  ...            0            0\n",
            "1  review  mxrXVZWc6PWk81gvOVNOUw  ...            0            0\n",
            "2  review  kK4AzZ0YWI-U2G-paAL7Fg  ...            0            0\n",
            "3  review  mxrXVZWc6PWk81gvOVNOUw  ...            1            0\n",
            "4  review  mxrXVZWc6PWk81gvOVNOUw  ...            0            1\n",
            "\n",
            "[5 rows x 9 columns]\n",
            "Setup Complete\n"
          ]
        }
      ]
    },
    {
      "cell_type": "markdown",
      "metadata": {
        "deletable": false,
        "editable": false,
        "nbgrader": {
          "checksum": "51be56b978a555a682bd1a02d85a7434",
          "grade": false,
          "grade_id": "cell-63034c0f0a81dc85",
          "locked": true,
          "schema_version": 1,
          "solution": false
        },
        "id": "esN8qRHkItPG"
      },
      "source": [
        "**Q1: What was the highest number of reviews for any one business_id?**\n",
        "- For this task, we will need to group the reviews dataset by business_id. This will aggregate data for each business, which is what we need. This can be done using [groupby](https://pandas.pydata.org/pandas-docs/stable/generated/pandas.DataFrame.groupby.html).\n",
        "    - ```yelp_businesses = yelp_dataset.groupby('business_id').size() ```\n",
        "    - The .size() counts the number of instances for each business_id, which gives us the number of reviews as each instance in this dataset is a review.\n",
        "    - The following command will sort this list, after which you can take note of the highest value: ```sorted_yelp_businesses = yelp_businesses.sort_values(ascending=False, inplace=False)```\n",
        "    - This approach allows you to see the data structure being used in the sort. A quicker approach to getting the max would be to use the max function: ```max(yelp_businesses)```\n",
        "<br>\n",
        "<br>"
      ]
    },
    {
      "cell_type": "code",
      "metadata": {
        "deletable": false,
        "nbgrader": {
          "checksum": "a4b3a58ab839a93b83e514e1db0c11e3",
          "grade": false,
          "grade_id": "cell-b9fd95d084732ea0",
          "locked": false,
          "schema_version": 1,
          "solution": true
        },
        "id": "AbKk0rohItPG"
      },
      "source": [
        "#Make sure you return the answer value in this function\n",
        "def q1(df):\n",
        "    \n",
        "    # YOUR CODE HERE\n",
        "    yelp_businesses = df.groupby('business_id').size()\n",
        "    sorted_yelp_businesses = yelp_businesses.sort_values(ascending=False, inplace=False)\n",
        "    # return sorted_yelp_businesses.iloc[0]['business_id']\n",
        "    return max(yelp_businesses)\n",
        "    raise NotImplementedError()"
      ],
      "execution_count": null,
      "outputs": []
    },
    {
      "cell_type": "code",
      "metadata": {
        "deletable": false,
        "editable": false,
        "nbgrader": {
          "checksum": "e989434a5e20d93eb1500308f7ecf163",
          "grade": true,
          "grade_id": "cell-1d1402069f0f336b",
          "locked": true,
          "points": 0.5,
          "schema_version": 1,
          "solution": false
        },
        "id": "rzD83og_ItPJ",
        "colab": {
          "base_uri": "https://localhost:8080/"
        },
        "outputId": "d3ce6a97-3289-4edc-dda0-c0cb6c487fd0"
      },
      "source": [
        "#This is an autograded cell, do not edit\n",
        "print(q1(df))\n"
      ],
      "execution_count": null,
      "outputs": [
        {
          "output_type": "stream",
          "name": "stdout",
          "text": [
            "4128\n"
          ]
        }
      ]
    },
    {
      "cell_type": "markdown",
      "metadata": {
        "deletable": false,
        "editable": false,
        "nbgrader": {
          "checksum": "6cde0278ab840df1fb90b16ca8c14a8a",
          "grade": false,
          "grade_id": "cell-c998b50208612779",
          "locked": true,
          "schema_version": 1,
          "solution": false
        },
        "id": "fZ_McPZ-ItPL"
      },
      "source": [
        "**Q2: What was the average number of reviews for a business_id?**"
      ]
    },
    {
      "cell_type": "code",
      "metadata": {
        "deletable": false,
        "nbgrader": {
          "checksum": "6ff0153f15cd01aa6d958646c22cd2eb",
          "grade": false,
          "grade_id": "cell-bda529e7277d1978",
          "locked": false,
          "schema_version": 1,
          "solution": true
        },
        "id": "0V-m-GMAItPM"
      },
      "source": [
        "#Make sure you return the answer value in this function\n",
        "def q2(df):\n",
        "    \n",
        "    # YOUR CODE HERE\n",
        "    yelp_businesses = df.groupby('business_id').size()\n",
        "    return np.mean(yelp_businesses)\n",
        "\n",
        "    raise NotImplementedError()"
      ],
      "execution_count": null,
      "outputs": []
    },
    {
      "cell_type": "code",
      "metadata": {
        "deletable": false,
        "editable": false,
        "nbgrader": {
          "checksum": "72d8375074f6e5eb294215044c460696",
          "grade": true,
          "grade_id": "cell-febce0a51b6da9da",
          "locked": true,
          "points": 0.5,
          "schema_version": 1,
          "solution": false
        },
        "id": "V_9IXDmvItPO",
        "colab": {
          "base_uri": "https://localhost:8080/"
        },
        "outputId": "40f9a1ff-1cfa-4e57-ec2f-3ecda93ff622"
      },
      "source": [
        "#This is an autograded cell, do not edit\n",
        "print(q2(df))\n"
      ],
      "execution_count": null,
      "outputs": [
        {
          "output_type": "stream",
          "name": "stdout",
          "text": [
            "12.63413902163123\n"
          ]
        }
      ]
    },
    {
      "cell_type": "markdown",
      "metadata": {
        "deletable": false,
        "editable": false,
        "nbgrader": {
          "checksum": "d6874779b6c6d2e361fc9891455b6960",
          "grade": false,
          "grade_id": "cell-a568a611d600caa2",
          "locked": true,
          "schema_version": 1,
          "solution": false
        },
        "id": "T9bRVaYZItPQ"
      },
      "source": [
        "**Q3: What is the average number of reviews per reviewer?**"
      ]
    },
    {
      "cell_type": "code",
      "metadata": {
        "deletable": false,
        "nbgrader": {
          "checksum": "369c594937118aa98e0aea635c345943",
          "grade": false,
          "grade_id": "cell-f92e05c4b7a28174",
          "locked": false,
          "schema_version": 1,
          "solution": true
        },
        "id": "J58jfsKTItPQ"
      },
      "source": [
        "#Make sure you return the answer value in this function\n",
        "\n",
        "\n",
        "def q3(df):\n",
        "    \n",
        "    # YOUR CODE HERE\n",
        "    yelp_reviewers = df.groupby('user_id').size()\n",
        "    return np.mean(yelp_reviewers)\n",
        "    raise NotImplementedError()"
      ],
      "execution_count": null,
      "outputs": []
    },
    {
      "cell_type": "code",
      "metadata": {
        "deletable": false,
        "editable": false,
        "nbgrader": {
          "checksum": "7ed7ddd4ec46674bdd89445dc1034175",
          "grade": true,
          "grade_id": "cell-d76279e8e7d4a79f",
          "locked": true,
          "points": 0.5,
          "schema_version": 1,
          "solution": false
        },
        "id": "Wx5wcx6pItPT",
        "colab": {
          "base_uri": "https://localhost:8080/"
        },
        "outputId": "2f7a8e64-44d0-45bf-93ee-13f4ebfa8f68"
      },
      "source": [
        "#This is an autograded cell, do not edit\n",
        "print(q3(df))\n"
      ],
      "execution_count": null,
      "outputs": [
        {
          "output_type": "stream",
          "name": "stdout",
          "text": [
            "3.188511934933203\n"
          ]
        }
      ]
    },
    {
      "cell_type": "markdown",
      "metadata": {
        "deletable": false,
        "editable": false,
        "nbgrader": {
          "checksum": "e8d5fd42acde59c3bd19cc07db76ac1c",
          "grade": false,
          "grade_id": "cell-c76f8dc8692f2472",
          "locked": true,
          "schema_version": 1,
          "solution": false
        },
        "id": "oa0doTGiItPW"
      },
      "source": [
        "**Q4: Calculate the total cool votes per reviewer, then average these totals across reviewers.**"
      ]
    },
    {
      "cell_type": "code",
      "metadata": {
        "deletable": false,
        "nbgrader": {
          "checksum": "2db144055be1d1f506af2bbdcf924e58",
          "grade": false,
          "grade_id": "cell-f06192fbabe75195",
          "locked": false,
          "schema_version": 1,
          "solution": true
        },
        "id": "sWuWYjrSItPX"
      },
      "source": [
        "#Make sure you return the answer value in this function\n",
        "def q4(df):\n",
        "    \n",
        "    # YOUR CODE HERE\n",
        "    group4 = df.groupby(['user_id']).sum()\n",
        "    new_df4 = group4.add_suffix('_total').reset_index()\n",
        "    return np.mean(new_df4['cool_votes_total'])\n",
        "\n",
        "    raise NotImplementedError()"
      ],
      "execution_count": null,
      "outputs": []
    },
    {
      "cell_type": "code",
      "metadata": {
        "deletable": false,
        "editable": false,
        "nbgrader": {
          "checksum": "70b555da34836694349c4923beb1950b",
          "grade": true,
          "grade_id": "cell-cabbe00e6fee304e",
          "locked": true,
          "points": 0.5,
          "schema_version": 1,
          "solution": false
        },
        "id": "z3o9lMo-ItPZ",
        "colab": {
          "base_uri": "https://localhost:8080/"
        },
        "outputId": "eb22540d-37c7-41f5-aaba-eeebaf216d5b"
      },
      "source": [
        "#This is an autograded cell, do not edit\n",
        "print(q4(df))\n"
      ],
      "execution_count": null,
      "outputs": [
        {
          "output_type": "stream",
          "name": "stdout",
          "text": [
            "1.2417282785380945\n"
          ]
        }
      ]
    },
    {
      "cell_type": "markdown",
      "metadata": {
        "deletable": false,
        "editable": false,
        "nbgrader": {
          "checksum": "1e80dfdd5311c1dd540fafe446ad10c3",
          "grade": false,
          "grade_id": "cell-9e278b8cd31ace62",
          "locked": true,
          "schema_version": 1,
          "solution": false
        },
        "id": "fDD4Lh8fItPb"
      },
      "source": [
        "**Q5: Calculate the total funny votes per reviewer, then average these totals across reviewers.**"
      ]
    },
    {
      "cell_type": "code",
      "metadata": {
        "deletable": false,
        "nbgrader": {
          "checksum": "cb6393f6479792516d064ab368490d90",
          "grade": false,
          "grade_id": "cell-93635f0a6f297df9",
          "locked": false,
          "schema_version": 1,
          "solution": true
        },
        "id": "KiVt8qB7ItPc"
      },
      "source": [
        "#Make sure you return the answer value in this function\n",
        "def q5(df):\n",
        "    \n",
        "    # YOUR CODE HERE\n",
        "    group5 = df.groupby(['user_id']).sum()\n",
        "    new_df5 = group5.add_suffix('_total').reset_index()\n",
        "    return np.mean(new_df5['funny_votes_total'])\n",
        "\n",
        "    raise NotImplementedError()"
      ],
      "execution_count": null,
      "outputs": []
    },
    {
      "cell_type": "code",
      "metadata": {
        "deletable": false,
        "editable": false,
        "nbgrader": {
          "checksum": "d3be5fcefa0f798be6504de7f8f1b344",
          "grade": true,
          "grade_id": "cell-4c41413214d2d4f1",
          "locked": true,
          "points": 0.5,
          "schema_version": 1,
          "solution": false
        },
        "id": "bWzUljWAItPe",
        "colab": {
          "base_uri": "https://localhost:8080/"
        },
        "outputId": "7793e60d-3db3-4da7-9676-b1c05311c721"
      },
      "source": [
        "#This is an autograded cell, do not edit\n",
        "print(q5(df))\n"
      ],
      "execution_count": null,
      "outputs": [
        {
          "output_type": "stream",
          "name": "stdout",
          "text": [
            "1.10126486404605\n"
          ]
        }
      ]
    },
    {
      "cell_type": "markdown",
      "metadata": {
        "deletable": false,
        "editable": false,
        "nbgrader": {
          "checksum": "e62dd2a28323b8d943f63dda321c3aea",
          "grade": false,
          "grade_id": "cell-9554ed7bdee76fb1",
          "locked": true,
          "schema_version": 1,
          "solution": false
        },
        "id": "qx0rBKw9ItPg"
      },
      "source": [
        "**Q6: Calculate the total useful votes per reviewer, then average these totals across reviewers.**"
      ]
    },
    {
      "cell_type": "code",
      "metadata": {
        "deletable": false,
        "nbgrader": {
          "checksum": "4375ea8e9efa96b5ea65a2f4f553faad",
          "grade": false,
          "grade_id": "cell-2cebd87b7f8b37d1",
          "locked": false,
          "schema_version": 1,
          "solution": true
        },
        "id": "KIYaRM3uItPh"
      },
      "source": [
        "#Make sure you return the answer in this function\n",
        "def q6(df):\n",
        "    \n",
        "    # YOUR CODE HERE\n",
        "    group6 = df.groupby(['user_id']).sum()\n",
        "    new_df6 = group6.add_suffix('_total').reset_index()\n",
        "    return np.mean(new_df6['useful_votes_total'])\n",
        "\n",
        "    raise NotImplementedError()"
      ],
      "execution_count": null,
      "outputs": []
    },
    {
      "cell_type": "code",
      "metadata": {
        "deletable": false,
        "editable": false,
        "nbgrader": {
          "checksum": "2435ef28744576ab65e21558b65e0a5e",
          "grade": true,
          "grade_id": "cell-1a546329acbcd0e4",
          "locked": true,
          "points": 0.5,
          "schema_version": 1,
          "solution": false
        },
        "id": "xrNe4FWdItPj",
        "colab": {
          "base_uri": "https://localhost:8080/"
        },
        "outputId": "19179f2d-026d-4e21-9966-af6b1e309735"
      },
      "source": [
        "#This is an autograded cell, do not edit\n",
        "print(q6(df))\n"
      ],
      "execution_count": null,
      "outputs": [
        {
          "output_type": "stream",
          "name": "stdout",
          "text": [
            "2.484476138872867\n"
          ]
        }
      ]
    },
    {
      "cell_type": "markdown",
      "metadata": {
        "deletable": false,
        "editable": false,
        "nbgrader": {
          "checksum": "560323764f6c0effd9615228a4dd9537",
          "grade": false,
          "grade_id": "cell-328aa1a4c9a958d8",
          "locked": true,
          "schema_version": 1,
          "solution": false
        },
        "id": "yUBt7rj9ItP-"
      },
      "source": [
        "**Q7: On average, what percentage of a reviewer's votes are cool votes?**\n",
        "\n",
        "(hint1: calculate the percentage of cool votes for each reviewer, then average across reviewers)\n",
        "\n",
        "(hint2: you should discard reviewers who have zero total votes from your calculation)"
      ]
    },
    {
      "cell_type": "code",
      "metadata": {
        "deletable": false,
        "nbgrader": {
          "checksum": "c4ca0edbf727b2adc41527ebb2129cef",
          "grade": false,
          "grade_id": "cell-54fe5dd9777347a1",
          "locked": false,
          "schema_version": 1,
          "solution": true
        },
        "id": "LuFzcyytItP-"
      },
      "source": [
        "#Make sure you return the answer in this function\n",
        "#Remember to multiply by 100 for percentages\n",
        "def q7(df):\n",
        "    \n",
        "    # YOUR CODE HERE\n",
        "    group7 = df.groupby(['user_id']).sum()\n",
        "    new_df7 = group7.add_suffix('_total').reset_index()\n",
        "    new_df7['cool_votes_percent'] = new_df7['cool_votes_total'] / (new_df7['cool_votes_total'] + new_df7['funny_votes_total'] + new_df7['useful_votes_total'])\n",
        "    new_df7 = new_df7.dropna()\n",
        "    return np.mean(new_df7['cool_votes_percent'])*100\n",
        "\n",
        "\n",
        "    raise NotImplementedError()"
      ],
      "execution_count": null,
      "outputs": []
    },
    {
      "cell_type": "code",
      "metadata": {
        "deletable": false,
        "editable": false,
        "nbgrader": {
          "checksum": "6ba2d96b43cc0796b9c8ec31e17fefe9",
          "grade": true,
          "grade_id": "cell-594b1121d785d15e",
          "locked": true,
          "points": 0.5,
          "schema_version": 1,
          "solution": false
        },
        "id": "ftY6isjeItQA",
        "colab": {
          "base_uri": "https://localhost:8080/"
        },
        "outputId": "ff50a032-18a0-4709-c703-e5be057a0d4a"
      },
      "source": [
        "#This is an autograded cell, do not edit\n",
        "#Remember to multiply by 100 for percentages\n",
        "print(round(q7(df),2))\n"
      ],
      "execution_count": null,
      "outputs": [
        {
          "output_type": "stream",
          "name": "stdout",
          "text": [
            "19.27\n"
          ]
        }
      ]
    },
    {
      "cell_type": "markdown",
      "metadata": {
        "deletable": false,
        "editable": false,
        "nbgrader": {
          "checksum": "f7ca49268591f6d357d5e4d4be17e3c9",
          "grade": false,
          "grade_id": "cell-8b434399df89705e",
          "locked": true,
          "schema_version": 1,
          "solution": false
        },
        "id": "zKe8LJJLItQC"
      },
      "source": [
        "**Q8: On average, what percentage of a reviewer's votes are funny votes?**\n",
        "\n",
        "(hint1: calculate the percentage of funny votes for each reviewer, then average across reviewers)\n",
        "\n",
        "(hint2: you should discard reviewers who have zero total votes from your calculation)"
      ]
    },
    {
      "cell_type": "code",
      "metadata": {
        "deletable": false,
        "nbgrader": {
          "checksum": "b869bd5447e8ea81d0af3cae06012b94",
          "grade": false,
          "grade_id": "cell-a3dc739b16a53957",
          "locked": false,
          "schema_version": 1,
          "solution": true
        },
        "id": "DkXVxKdXItQC"
      },
      "source": [
        "#Make sure you return the answer in this function\n",
        "#Remember to multiply by 100 for percentages\n",
        "def q8(df):\n",
        "    \n",
        "    # YOUR CODE HERE\n",
        "    group8 = df.groupby(['user_id']).sum()\n",
        "    new_df8 = group8.add_suffix('_total').reset_index()\n",
        "    new_df8['funny_votes_percent'] = new_df8['funny_votes_total'] / (new_df8['cool_votes_total'] + new_df8['funny_votes_total'] + new_df8['useful_votes_total'])\n",
        "    new_df8 = new_df8.dropna()\n",
        "    return np.mean(new_df8['funny_votes_percent'])*100\n",
        "\n",
        "    raise NotImplementedError()"
      ],
      "execution_count": null,
      "outputs": []
    },
    {
      "cell_type": "code",
      "metadata": {
        "deletable": false,
        "editable": false,
        "nbgrader": {
          "checksum": "2ef3655caaaedc3e433262c7db94fb77",
          "grade": true,
          "grade_id": "cell-e7fdee0fd548baf1",
          "locked": true,
          "points": 0.5,
          "schema_version": 1,
          "solution": false
        },
        "id": "q6uEzM9HItQE",
        "colab": {
          "base_uri": "https://localhost:8080/"
        },
        "outputId": "dbca6cc1-d68d-4883-9a07-6e0c0c51952f"
      },
      "source": [
        "#This is an autograded cell, do not edit\n",
        "print(round(q8(df),2))\n"
      ],
      "execution_count": null,
      "outputs": [
        {
          "output_type": "stream",
          "name": "stdout",
          "text": [
            "18.26\n"
          ]
        }
      ]
    },
    {
      "cell_type": "markdown",
      "metadata": {
        "deletable": false,
        "editable": false,
        "nbgrader": {
          "checksum": "3ce1c8eefc6053b8515dc4218c5a0afb",
          "grade": false,
          "grade_id": "cell-40cd96c922286117",
          "locked": true,
          "schema_version": 1,
          "solution": false
        },
        "id": "wYs2eqhSItQI"
      },
      "source": [
        "**Q9: On average, what percentage of a reviewer's votes are useful votes?**\n",
        "\n",
        "(hint1: calculate the percentage of useful votes for each reviewer, then average across reviewers)\n",
        "\n",
        "(hint2: you should discard reviewers who have zero total votes from your calculation)"
      ]
    },
    {
      "cell_type": "code",
      "metadata": {
        "deletable": false,
        "nbgrader": {
          "checksum": "c8e322eafbf209672785a2c9f7c97f52",
          "grade": false,
          "grade_id": "cell-38769f4cbbe9cb8f",
          "locked": false,
          "schema_version": 1,
          "solution": true
        },
        "id": "56CBDjgrItQI"
      },
      "source": [
        "#Make sure you return the answer in this function\n",
        "def q9(df):\n",
        "    \n",
        "    # YOUR CODE HERE\n",
        "    group9 = df.groupby(['user_id']).sum()\n",
        "    new_df9 = group9.add_suffix('_total').reset_index()\n",
        "    new_df9['useful_votes_percent'] = new_df9['useful_votes_total'] / (new_df9['cool_votes_total'] + new_df9['funny_votes_total'] + new_df9['useful_votes_total'])\n",
        "    new_df9 = new_df9.dropna()\n",
        "    return np.mean(new_df9['useful_votes_percent'])*100\n",
        "\n",
        "    raise NotImplementedError()"
      ],
      "execution_count": null,
      "outputs": []
    },
    {
      "cell_type": "code",
      "metadata": {
        "deletable": false,
        "editable": false,
        "nbgrader": {
          "checksum": "d3aeca2366b4c12d564167261c6bc6a2",
          "grade": true,
          "grade_id": "cell-590fb1425068cc06",
          "locked": true,
          "points": 0.5,
          "schema_version": 1,
          "solution": false
        },
        "id": "LvE8ZWSOItQL",
        "colab": {
          "base_uri": "https://localhost:8080/"
        },
        "outputId": "83f3cc17-ee1e-43d6-9571-8a409e547b63"
      },
      "source": [
        "#This is an autograded cell, do not edit\n",
        "print(round(q9(df),2))\n"
      ],
      "execution_count": null,
      "outputs": [
        {
          "output_type": "stream",
          "name": "stdout",
          "text": [
            "62.47\n"
          ]
        }
      ]
    },
    {
      "cell_type": "markdown",
      "metadata": {
        "deletable": false,
        "editable": false,
        "nbgrader": {
          "checksum": "2efdbde3ea13f0e1829d7488da2c6d92",
          "grade": false,
          "grade_id": "cell-615a3d7b2c4e0e26",
          "locked": true,
          "schema_version": 1,
          "solution": false
        },
        "id": "2ixankjPItQO"
      },
      "source": [
        "**Q10: Average review text length (in non-space characters)**"
      ]
    },
    {
      "cell_type": "code",
      "metadata": {
        "deletable": false,
        "nbgrader": {
          "checksum": "59cc81340d9a1967bd6d3a0ffcacdcf3",
          "grade": false,
          "grade_id": "cell-75ec15303c64c506",
          "locked": false,
          "schema_version": 1,
          "solution": true
        },
        "id": "qgwHiHaVItQP"
      },
      "source": [
        "#Make sure you return the answer in this function\n",
        "def q10(df):\n",
        "    \n",
        "    # YOUR CODE HERE\n",
        "    df['text'] = df['text'].str.replace(' ', '')\n",
        "    x = pd.Series(df['text'])\n",
        "    df['no_spaces'] = x.str.len()\n",
        "    return np.mean(df['no_spaces'])\n",
        "\n",
        "    raise NotImplementedError()"
      ],
      "execution_count": null,
      "outputs": []
    },
    {
      "cell_type": "code",
      "metadata": {
        "deletable": false,
        "editable": false,
        "nbgrader": {
          "checksum": "083e5ff6b77629d8784b8f6a30352251",
          "grade": true,
          "grade_id": "cell-d9fb4fc39a0b21c4",
          "locked": true,
          "points": 1,
          "schema_version": 1,
          "solution": false
        },
        "id": "_XmxRXdFItQQ",
        "colab": {
          "base_uri": "https://localhost:8080/"
        },
        "outputId": "c489a00e-4940-43e6-dfc2-1469dcb34dd8"
      },
      "source": [
        "#This is an autograded cell, do not edit\n",
        "print(round(q10(df),0))\n"
      ],
      "execution_count": null,
      "outputs": [
        {
          "output_type": "stream",
          "name": "stdout",
          "text": [
            "499.0\n"
          ]
        }
      ]
    },
    {
      "cell_type": "markdown",
      "metadata": {
        "deletable": false,
        "editable": false,
        "nbgrader": {
          "checksum": "54c8c584ece619ea786165e50a4e1002",
          "grade": false,
          "grade_id": "cell-a21a423546eb8654",
          "locked": true,
          "schema_version": 1,
          "solution": false
        },
        "id": "03gWN2PAItQS"
      },
      "source": [
        "**Q11: Year in which the reviewer wrote the most reviews. Once you have this for each reviewer, subtract the minimum possible year (2004) from each so that your final feature values are 0, 1, 2 etc.**"
      ]
    },
    {
      "cell_type": "code",
      "metadata": {
        "deletable": false,
        "nbgrader": {
          "checksum": "d6d5ba528ca188b45b1e36e5385caab0",
          "grade": true,
          "grade_id": "cell-5c7a809865483dca",
          "locked": false,
          "points": 1.5,
          "schema_version": 1,
          "solution": true
        },
        "id": "XideHYGkItQT"
      },
      "source": [
        "# YOUR CODE HERE\n",
        "new_df11 = df.copy(deep=True)\n",
        "new_df11['date'] = pd.to_datetime(df['date'])\n",
        "new_df11['year'] = [new_df11['date'][x].year for x in np.arange(547273)]\n",
        "new_df11['time since 2004'] = new_df11['year'] - 2004\n",
        "\n",
        "rev_04 = pd.DataFrame({'# reviews' : new_df11.groupby( ['user_id', 'time since 2004']).size()})\n",
        "final = rev_04.reset_index().loc[rev_04.reset_index().groupby(['user_id'])['time since 2004'].idxmax()]\n",
        "\n",
        "#raise NotImplementedError()"
      ],
      "execution_count": null,
      "outputs": []
    },
    {
      "cell_type": "markdown",
      "metadata": {
        "deletable": false,
        "editable": false,
        "nbgrader": {
          "checksum": "93f7e9ef2385bdac5184802eb7e1ce75",
          "grade": false,
          "grade_id": "cell-da33d981591f0ff3",
          "locked": true,
          "schema_version": 1,
          "solution": false
        },
        "id": "waqvrQeDItQV"
      },
      "source": [
        "**Q12: Come up with a new feature for every review. This may be derived from existing features.\n",
        "Give your feature the name *my_new_feature.* Display head() of this new feature.**"
      ]
    },
    {
      "cell_type": "code",
      "metadata": {
        "deletable": false,
        "nbgrader": {
          "checksum": "787d48b01fdbfeab0810cceb64c1abb3",
          "grade": true,
          "grade_id": "cell-09bbdc6a2946b441",
          "locked": false,
          "points": 1,
          "schema_version": 1,
          "solution": true
        },
        "id": "j3TZ3TD2ItQW",
        "colab": {
          "base_uri": "https://localhost:8080/"
        },
        "outputId": "9d31bb6b-9bd5-48b0-839a-56134f93471c"
      },
      "source": [
        "# YOUR CODE HERE\n",
        "stars_per_cool_vote = df['stars'] / df['cool_votes']\n",
        "df['my_new_feature'] = stars_per_cool_vote\n",
        "df['my_new_feature'].head()\n",
        "#raise NotImplementedError()"
      ],
      "execution_count": null,
      "outputs": [
        {
          "output_type": "execute_result",
          "data": {
            "text/plain": [
              "0    inf\n",
              "1    5.0\n",
              "2    inf\n",
              "3    5.0\n",
              "4    4.0\n",
              "Name: my_new_feature, dtype: float64"
            ]
          },
          "metadata": {},
          "execution_count": 34
        }
      ]
    }
  ]
}