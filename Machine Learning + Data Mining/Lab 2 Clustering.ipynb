{
  "nbformat": 4,
  "nbformat_minor": 0,
  "metadata": {
    "kernelspec": {
      "display_name": "Python 3",
      "language": "python",
      "name": "python3"
    },
    "language_info": {
      "codemirror_mode": {
        "name": "ipython",
        "version": 3
      },
      "file_extension": ".py",
      "mimetype": "text/x-python",
      "name": "python",
      "nbconvert_exporter": "python",
      "pygments_lexer": "ipython3",
      "version": "3.6.9"
    },
    "colab": {
      "name": "Copy of DMA21 - Lab 2: Clustering",
      "provenance": [],
      "collapsed_sections": []
    }
  },
  "cells": [
    {
      "cell_type": "markdown",
      "metadata": {
        "id": "RTtjzb-C8WfV"
      },
      "source": [
        "Make sure you fill in any place that says `YOUR CODE HERE` or `YOUR ANSWER HERE`, as well as your name below:"
      ]
    },
    {
      "cell_type": "code",
      "metadata": {
        "id": "84YmnDPm8WfX"
      },
      "source": [
        "NAME = \"Tyler Freund\""
      ],
      "execution_count": 3,
      "outputs": []
    },
    {
      "cell_type": "markdown",
      "metadata": {
        "id": "mPzgt7538Wfe"
      },
      "source": [
        "---"
      ]
    },
    {
      "cell_type": "markdown",
      "metadata": {
        "deletable": false,
        "editable": false,
        "nbgrader": {
          "checksum": "421e2e076e4bd859041d2c49e8c1b374",
          "grade": false,
          "grade_id": "cell-9ca594c076da14a9",
          "locked": true,
          "schema_version": 1,
          "solution": false
        },
        "id": "a84b7eS58Wff"
      },
      "source": [
        "# Lab 2: Clustering ##\n",
        "\n",
        "**Please read the following instructions very carefully**\n",
        "\n",
        "## About the Dataset\n",
        "The dataset for this lab has been created from some custom features from Lab 1. The columns are named as q1, q2....etc. A description of the features can be found at this link: https://docs.google.com/spreadsheets/d/18wwyjGku2HYfgDX9Vez64lGHz31E_PfbpmAdfb7ly6M/edit?usp=sharing\n",
        "\n",
        "## Working on the assignment / FAQs\n",
        "- **Always use the seed/random_state as *42* wherever applicable** (This is to ensure repeatability in answers, across students and coding environments) \n",
        "- Questions can be either autograded and manually graded.\n",
        "- The type of question and the points they carry are indicated in each question cell\n",
        "- An autograded question has 3 cells\n",
        "     - **Question cell** : Read only cell containing the question\n",
        "     - **Code Cell** : This is where you write the code\n",
        "     - **Grading cell** : This is where the grading occurs, and **you are required not to edit this cell**\n",
        "- Manually graded questions only have the question and code cells.\n",
        "- To avoid any ambiguity, each question also specifies what *value* the function must return. Note that these are dummy values and not the answers\n",
        "- If an autograded question has multiple answers (due to differences in handling NaNs, zeros etc.), all answers will be considered.\n",
        "- Most assignments have bonus questions for extra credit, do try them out! \n",
        "- You can delete the `raise NotImplementedError()` for all manually graded questions.\n",
        "- **Submitting the assignment** : Download the '.ipynb' file from Colab and upload it to canvas. Do not delete any outputs from cells before submitting.\n",
        "- That's about it. Happy coding! "
      ]
    },
    {
      "cell_type": "code",
      "metadata": {
        "deletable": false,
        "editable": false,
        "nbgrader": {
          "checksum": "ccd093de0c01c601220c82809d785907",
          "grade": false,
          "grade_id": "cell-11a8a6cab098e8a1",
          "locked": true,
          "schema_version": 1,
          "solution": false
        },
        "id": "uS-ZiJUd8Wfg",
        "colab": {
          "base_uri": "https://localhost:8080/"
        },
        "outputId": "48d0375b-81ab-464b-aa27-460a0da355dd"
      },
      "source": [
        "import pandas as pd\n",
        "import collections\n",
        "from sklearn.cluster import KMeans\n",
        "from sklearn.metrics import silhouette_score\n",
        "import numpy as np\n",
        "from sklearn.preprocessing import normalize\n",
        "\n",
        "import matplotlib\n",
        "import matplotlib.pyplot as plt\n",
        "\n",
        "%matplotlib inline\n",
        "matplotlib.style.use('ggplot')\n",
        "\n",
        "#DOWNLOADING DATASET\n",
        "!wget -nc http://askoski.berkeley.edu/~zp/yelp_reviewers.csv \n",
        "# !unzip -u yelp_reviewers.zip\n",
        "print('Dataset Downloaded: yelp_reviewers.csv') \n",
        "df = pd.read_csv('yelp_reviewers.csv', delimiter= ',')\n",
        "df = df.sample(frac=0.3, random_state=42)\n",
        "print(df.dropna().describe())\n",
        "\n",
        "print('....SETUP COMPLETE....')"
      ],
      "execution_count": 4,
      "outputs": [
        {
          "output_type": "stream",
          "name": "stdout",
          "text": [
            "--2021-09-08 14:57:58--  http://askoski.berkeley.edu/~zp/yelp_reviewers.csv\n",
            "Resolving askoski.berkeley.edu (askoski.berkeley.edu)... 169.229.192.179\n",
            "Connecting to askoski.berkeley.edu (askoski.berkeley.edu)|169.229.192.179|:80... connected.\n",
            "HTTP request sent, awaiting response... 200 OK\n",
            "Length: 35809479 (34M) [text/csv]\n",
            "Saving to: ‘yelp_reviewers.csv’\n",
            "\n",
            "yelp_reviewers.csv  100%[===================>]  34.15M  52.4MB/s    in 0.7s    \n",
            "\n",
            "2021-09-08 14:57:58 (52.4 MB/s) - ‘yelp_reviewers.csv’ saved [35809479/35809479]\n",
            "\n",
            "Dataset Downloaded: yelp_reviewers.csv\n",
            "                q3           q4  ...        q16ab        q16ac\n",
            "count  7177.000000  7177.000000  ...  7177.000000  7177.000000\n",
            "mean      6.838651     5.281455  ...     1.127751     3.649254\n",
            "std       7.597977    16.208703  ...     4.652206     0.977100\n",
            "min       1.000000     1.000000  ...     0.000000     1.000000\n",
            "25%       3.000000     1.000000  ...     0.000000     3.200000\n",
            "50%       5.000000     2.000000  ...     0.500000     3.777778\n",
            "75%       9.000000     4.000000  ...     1.307692     4.333333\n",
            "max     252.000000   607.000000  ...   342.300000     5.000000\n",
            "\n",
            "[8 rows x 40 columns]\n",
            "....SETUP COMPLETE....\n"
          ]
        }
      ]
    },
    {
      "cell_type": "code",
      "metadata": {
        "id": "ANCMpJ178foc",
        "colab": {
          "base_uri": "https://localhost:8080/",
          "height": 1000
        },
        "outputId": "71beb14a-fe9b-49af-9fbe-3e0df9b656c1"
      },
      "source": [
        "df.head().T"
      ],
      "execution_count": 20,
      "outputs": [
        {
          "output_type": "execute_result",
          "data": {
            "text/html": [
              "<div>\n",
              "<style scoped>\n",
              "    .dataframe tbody tr th:only-of-type {\n",
              "        vertical-align: middle;\n",
              "    }\n",
              "\n",
              "    .dataframe tbody tr th {\n",
              "        vertical-align: top;\n",
              "    }\n",
              "\n",
              "    .dataframe thead th {\n",
              "        text-align: right;\n",
              "    }\n",
              "</style>\n",
              "<table border=\"1\" class=\"dataframe\">\n",
              "  <thead>\n",
              "    <tr style=\"text-align: right;\">\n",
              "      <th></th>\n",
              "      <th>129451</th>\n",
              "      <th>116706</th>\n",
              "      <th>144394</th>\n",
              "      <th>24699</th>\n",
              "      <th>47453</th>\n",
              "    </tr>\n",
              "  </thead>\n",
              "  <tbody>\n",
              "    <tr>\n",
              "      <th>user_id</th>\n",
              "      <td>kIWQXgjmVdgEs9BOgr8G5A</td>\n",
              "      <td>fXU_-5DBmNlGhI8fbX-2vQ</td>\n",
              "      <td>prF_lbKywPnZhNqvJOOaDw</td>\n",
              "      <td>8GHUeOm807bI5Qh4X3CHBA</td>\n",
              "      <td>Gd_IGX3BmRYbPD84ovLEoA</td>\n",
              "    </tr>\n",
              "    <tr>\n",
              "      <th>q3</th>\n",
              "      <td>1</td>\n",
              "      <td>1</td>\n",
              "      <td>1</td>\n",
              "      <td>1</td>\n",
              "      <td>8</td>\n",
              "    </tr>\n",
              "    <tr>\n",
              "      <th>q4</th>\n",
              "      <td>0</td>\n",
              "      <td>0</td>\n",
              "      <td>0</td>\n",
              "      <td>0</td>\n",
              "      <td>2</td>\n",
              "    </tr>\n",
              "    <tr>\n",
              "      <th>q5</th>\n",
              "      <td>0</td>\n",
              "      <td>0</td>\n",
              "      <td>0</td>\n",
              "      <td>0</td>\n",
              "      <td>1</td>\n",
              "    </tr>\n",
              "    <tr>\n",
              "      <th>q6</th>\n",
              "      <td>0</td>\n",
              "      <td>0</td>\n",
              "      <td>0</td>\n",
              "      <td>0</td>\n",
              "      <td>8</td>\n",
              "    </tr>\n",
              "    <tr>\n",
              "      <th>q7</th>\n",
              "      <td>0</td>\n",
              "      <td>0</td>\n",
              "      <td>0</td>\n",
              "      <td>0</td>\n",
              "      <td>2.08</td>\n",
              "    </tr>\n",
              "    <tr>\n",
              "      <th>q8</th>\n",
              "      <td>NaN</td>\n",
              "      <td>NaN</td>\n",
              "      <td>NaN</td>\n",
              "      <td>NaN</td>\n",
              "      <td>0.69</td>\n",
              "    </tr>\n",
              "    <tr>\n",
              "      <th>q9</th>\n",
              "      <td>NaN</td>\n",
              "      <td>NaN</td>\n",
              "      <td>NaN</td>\n",
              "      <td>NaN</td>\n",
              "      <td>0</td>\n",
              "    </tr>\n",
              "    <tr>\n",
              "      <th>q10</th>\n",
              "      <td>NaN</td>\n",
              "      <td>NaN</td>\n",
              "      <td>NaN</td>\n",
              "      <td>NaN</td>\n",
              "      <td>2.08</td>\n",
              "    </tr>\n",
              "    <tr>\n",
              "      <th>q11</th>\n",
              "      <td>NaN</td>\n",
              "      <td>NaN</td>\n",
              "      <td>NaN</td>\n",
              "      <td>NaN</td>\n",
              "      <td>18.18</td>\n",
              "    </tr>\n",
              "    <tr>\n",
              "      <th>q12</th>\n",
              "      <td>NaN</td>\n",
              "      <td>NaN</td>\n",
              "      <td>NaN</td>\n",
              "      <td>NaN</td>\n",
              "      <td>9.09</td>\n",
              "    </tr>\n",
              "    <tr>\n",
              "      <th>q13</th>\n",
              "      <td>NaN</td>\n",
              "      <td>NaN</td>\n",
              "      <td>NaN</td>\n",
              "      <td>NaN</td>\n",
              "      <td>72.73</td>\n",
              "    </tr>\n",
              "    <tr>\n",
              "      <th>q14</th>\n",
              "      <td>7</td>\n",
              "      <td>10</td>\n",
              "      <td>9</td>\n",
              "      <td>8</td>\n",
              "      <td>10</td>\n",
              "    </tr>\n",
              "    <tr>\n",
              "      <th>q15</th>\n",
              "      <td>510</td>\n",
              "      <td>132</td>\n",
              "      <td>1792</td>\n",
              "      <td>283</td>\n",
              "      <td>663.38</td>\n",
              "    </tr>\n",
              "    <tr>\n",
              "      <th>q16a</th>\n",
              "      <td>0</td>\n",
              "      <td>0</td>\n",
              "      <td>0</td>\n",
              "      <td>0</td>\n",
              "      <td>4</td>\n",
              "    </tr>\n",
              "    <tr>\n",
              "      <th>q16b</th>\n",
              "      <td>0</td>\n",
              "      <td>0</td>\n",
              "      <td>0</td>\n",
              "      <td>0</td>\n",
              "      <td>0.353553</td>\n",
              "    </tr>\n",
              "    <tr>\n",
              "      <th>q16c</th>\n",
              "      <td>0</td>\n",
              "      <td>0</td>\n",
              "      <td>0</td>\n",
              "      <td>0</td>\n",
              "      <td>0.00207273</td>\n",
              "    </tr>\n",
              "    <tr>\n",
              "      <th>q16d</th>\n",
              "      <td>3</td>\n",
              "      <td>1</td>\n",
              "      <td>3</td>\n",
              "      <td>5</td>\n",
              "      <td>4.875</td>\n",
              "    </tr>\n",
              "    <tr>\n",
              "      <th>q16e</th>\n",
              "      <td>0.0137255</td>\n",
              "      <td>0.0454545</td>\n",
              "      <td>0.0273438</td>\n",
              "      <td>0.0176678</td>\n",
              "      <td>0.0229885</td>\n",
              "    </tr>\n",
              "    <tr>\n",
              "      <th>q16f</th>\n",
              "      <td>0</td>\n",
              "      <td>0</td>\n",
              "      <td>0</td>\n",
              "      <td>0</td>\n",
              "      <td>0.330719</td>\n",
              "    </tr>\n",
              "    <tr>\n",
              "      <th>q16g</th>\n",
              "      <td>0</td>\n",
              "      <td>1</td>\n",
              "      <td>1</td>\n",
              "      <td>0</td>\n",
              "      <td>2</td>\n",
              "    </tr>\n",
              "    <tr>\n",
              "      <th>q16h</th>\n",
              "      <td>0</td>\n",
              "      <td>1</td>\n",
              "      <td>1</td>\n",
              "      <td>0</td>\n",
              "      <td>6</td>\n",
              "    </tr>\n",
              "    <tr>\n",
              "      <th>q16i</th>\n",
              "      <td>0</td>\n",
              "      <td>0</td>\n",
              "      <td>0</td>\n",
              "      <td>0</td>\n",
              "      <td>0</td>\n",
              "    </tr>\n",
              "    <tr>\n",
              "      <th>q16j</th>\n",
              "      <td>0</td>\n",
              "      <td>0</td>\n",
              "      <td>0</td>\n",
              "      <td>0</td>\n",
              "      <td>1.375</td>\n",
              "    </tr>\n",
              "    <tr>\n",
              "      <th>q16k</th>\n",
              "      <td>0</td>\n",
              "      <td>0</td>\n",
              "      <td>0</td>\n",
              "      <td>0</td>\n",
              "      <td>1</td>\n",
              "    </tr>\n",
              "    <tr>\n",
              "      <th>q16l</th>\n",
              "      <td>0</td>\n",
              "      <td>0</td>\n",
              "      <td>0</td>\n",
              "      <td>0</td>\n",
              "      <td>0</td>\n",
              "    </tr>\n",
              "    <tr>\n",
              "      <th>q16m</th>\n",
              "      <td>3</td>\n",
              "      <td>0</td>\n",
              "      <td>12</td>\n",
              "      <td>1</td>\n",
              "      <td>4.5</td>\n",
              "    </tr>\n",
              "    <tr>\n",
              "      <th>q16n</th>\n",
              "      <td>0</td>\n",
              "      <td>0</td>\n",
              "      <td>1</td>\n",
              "      <td>0</td>\n",
              "      <td>0.125</td>\n",
              "    </tr>\n",
              "    <tr>\n",
              "      <th>q16o</th>\n",
              "      <td>0</td>\n",
              "      <td>1</td>\n",
              "      <td>1</td>\n",
              "      <td>0</td>\n",
              "      <td>0.75</td>\n",
              "    </tr>\n",
              "    <tr>\n",
              "      <th>q16p</th>\n",
              "      <td>0</td>\n",
              "      <td>0</td>\n",
              "      <td>1</td>\n",
              "      <td>0</td>\n",
              "      <td>1</td>\n",
              "    </tr>\n",
              "    <tr>\n",
              "      <th>q16q</th>\n",
              "      <td>0</td>\n",
              "      <td>0</td>\n",
              "      <td>0</td>\n",
              "      <td>0</td>\n",
              "      <td>0.192489</td>\n",
              "    </tr>\n",
              "    <tr>\n",
              "      <th>q16r</th>\n",
              "      <td>3</td>\n",
              "      <td>1</td>\n",
              "      <td>3</td>\n",
              "      <td>5</td>\n",
              "      <td>5</td>\n",
              "    </tr>\n",
              "    <tr>\n",
              "      <th>q16s</th>\n",
              "      <td>experienced</td>\n",
              "      <td>experienced</td>\n",
              "      <td>experienced</td>\n",
              "      <td>experienced</td>\n",
              "      <td>experienced</td>\n",
              "    </tr>\n",
              "    <tr>\n",
              "      <th>q16t</th>\n",
              "      <td>no</td>\n",
              "      <td>no</td>\n",
              "      <td>no</td>\n",
              "      <td>no</td>\n",
              "      <td>no</td>\n",
              "    </tr>\n",
              "    <tr>\n",
              "      <th>q16u</th>\n",
              "      <td>0</td>\n",
              "      <td>0</td>\n",
              "      <td>2</td>\n",
              "      <td>0</td>\n",
              "      <td>0.375</td>\n",
              "    </tr>\n",
              "    <tr>\n",
              "      <th>q16v</th>\n",
              "      <td>13</td>\n",
              "      <td>35</td>\n",
              "      <td>36</td>\n",
              "      <td>33</td>\n",
              "      <td>8</td>\n",
              "    </tr>\n",
              "    <tr>\n",
              "      <th>q16w</th>\n",
              "      <td>3</td>\n",
              "      <td>1</td>\n",
              "      <td>3</td>\n",
              "      <td>5</td>\n",
              "      <td>39</td>\n",
              "    </tr>\n",
              "    <tr>\n",
              "      <th>q16x</th>\n",
              "      <td>0</td>\n",
              "      <td>0.00757576</td>\n",
              "      <td>0.00168539</td>\n",
              "      <td>0</td>\n",
              "      <td>0.00175505</td>\n",
              "    </tr>\n",
              "    <tr>\n",
              "      <th>q16y</th>\n",
              "      <td>101</td>\n",
              "      <td>23</td>\n",
              "      <td>363</td>\n",
              "      <td>50</td>\n",
              "      <td>91.0729</td>\n",
              "    </tr>\n",
              "    <tr>\n",
              "      <th>q16z</th>\n",
              "      <td>0</td>\n",
              "      <td>0</td>\n",
              "      <td>0</td>\n",
              "      <td>0</td>\n",
              "      <td>4</td>\n",
              "    </tr>\n",
              "    <tr>\n",
              "      <th>q16aa</th>\n",
              "      <td>0</td>\n",
              "      <td>0</td>\n",
              "      <td>0</td>\n",
              "      <td>0</td>\n",
              "      <td>0</td>\n",
              "    </tr>\n",
              "    <tr>\n",
              "      <th>q16ab</th>\n",
              "      <td>NaN</td>\n",
              "      <td>0</td>\n",
              "      <td>NaN</td>\n",
              "      <td>2</td>\n",
              "      <td>1</td>\n",
              "    </tr>\n",
              "    <tr>\n",
              "      <th>q16ac</th>\n",
              "      <td>3</td>\n",
              "      <td>1</td>\n",
              "      <td>3</td>\n",
              "      <td>5</td>\n",
              "      <td>4.875</td>\n",
              "    </tr>\n",
              "  </tbody>\n",
              "</table>\n",
              "</div>"
            ],
            "text/plain": [
              "                         129451  ...                  47453 \n",
              "user_id  kIWQXgjmVdgEs9BOgr8G5A  ...  Gd_IGX3BmRYbPD84ovLEoA\n",
              "q3                            1  ...                       8\n",
              "q4                            0  ...                       2\n",
              "q5                            0  ...                       1\n",
              "q6                            0  ...                       8\n",
              "q7                            0  ...                    2.08\n",
              "q8                          NaN  ...                    0.69\n",
              "q9                          NaN  ...                       0\n",
              "q10                         NaN  ...                    2.08\n",
              "q11                         NaN  ...                   18.18\n",
              "q12                         NaN  ...                    9.09\n",
              "q13                         NaN  ...                   72.73\n",
              "q14                           7  ...                      10\n",
              "q15                         510  ...                  663.38\n",
              "q16a                          0  ...                       4\n",
              "q16b                          0  ...                0.353553\n",
              "q16c                          0  ...              0.00207273\n",
              "q16d                          3  ...                   4.875\n",
              "q16e                  0.0137255  ...               0.0229885\n",
              "q16f                          0  ...                0.330719\n",
              "q16g                          0  ...                       2\n",
              "q16h                          0  ...                       6\n",
              "q16i                          0  ...                       0\n",
              "q16j                          0  ...                   1.375\n",
              "q16k                          0  ...                       1\n",
              "q16l                          0  ...                       0\n",
              "q16m                          3  ...                     4.5\n",
              "q16n                          0  ...                   0.125\n",
              "q16o                          0  ...                    0.75\n",
              "q16p                          0  ...                       1\n",
              "q16q                          0  ...                0.192489\n",
              "q16r                          3  ...                       5\n",
              "q16s                experienced  ...             experienced\n",
              "q16t                         no  ...                      no\n",
              "q16u                          0  ...                   0.375\n",
              "q16v                         13  ...                       8\n",
              "q16w                          3  ...                      39\n",
              "q16x                          0  ...              0.00175505\n",
              "q16y                        101  ...                 91.0729\n",
              "q16z                          0  ...                       4\n",
              "q16aa                         0  ...                       0\n",
              "q16ab                       NaN  ...                       1\n",
              "q16ac                         3  ...                   4.875\n",
              "\n",
              "[43 rows x 5 columns]"
            ]
          },
          "metadata": {},
          "execution_count": 20
        }
      ]
    },
    {
      "cell_type": "markdown",
      "metadata": {
        "deletable": false,
        "editable": false,
        "nbgrader": {
          "checksum": "abffba52a1391fd598ceb32fa84a5960",
          "grade": false,
          "grade_id": "cell-91b1f66036bc756a",
          "locked": true,
          "schema_version": 1,
          "solution": false
        },
        "id": "mV9fSZv88Wfk"
      },
      "source": [
        "---"
      ]
    },
    {
      "cell_type": "markdown",
      "metadata": {
        "deletable": false,
        "editable": false,
        "nbgrader": {
          "checksum": "9a3601934d89674b0f1ddb8953f392b8",
          "grade": false,
          "grade_id": "cell-3cb43492c95c0336",
          "locked": true,
          "schema_version": 1,
          "solution": false
        },
        "id": "FyEW1omS8Wfk"
      },
      "source": [
        "### Question 1 `(1 point)`\n",
        "What is the best choice of k according to the silhouette metric for clustering q4-q6? Only consider 2 <= k <= 8. \n",
        "\n",
        "\n",
        "**NOTE**: For features with high variance, empty clusters can occur. There are several ways of dealing with empty clusters. A common approach is to drop empty clusters, the prefered approach for this Lab is to treat the empty cluster as a “singleton” leaving it empty with a single point placeholder.\n"
      ]
    },
    {
      "cell_type": "code",
      "metadata": {
        "id": "5j1dTajRrK3w"
      },
      "source": [
        "df = df.dropna()"
      ],
      "execution_count": 11,
      "outputs": []
    },
    {
      "cell_type": "code",
      "metadata": {
        "deletable": false,
        "nbgrader": {
          "checksum": "d870b56ad1274ceed7a8c1ad14120f4d",
          "grade": false,
          "grade_id": "cell-35daa961ef9ef163",
          "locked": false,
          "schema_version": 1,
          "solution": true
        },
        "id": "SHN499lB8Wfl",
        "colab": {
          "base_uri": "https://localhost:8080/"
        },
        "outputId": "31b663b4-9d68-4f02-fc13-d22ec74e1a39"
      },
      "source": [
        "#Make sure you return the answer value in this function\n",
        "#The return value must be an integer\n",
        "def q1(df):\n",
        "    \n",
        "    # YOUR CODE HERE\n",
        "    best = 0\n",
        "    high = -10\n",
        "    X = df[[\"q4\", \"q5\", \"q6\"]].to_numpy() \n",
        "    for k in range(2, 9):\n",
        "      kmeans = KMeans(n_clusters=k, random_state=42)\n",
        "      kmeans.fit(X)\n",
        "      current = silhouette_score(X, kmeans.labels_)\n",
        "      print(current)\n",
        "      if current>high:\n",
        "        best = k\n",
        "        high=current\n",
        "    return best\n",
        "\n",
        "    raise NotImplementedError()\n",
        "print(q1(df))"
      ],
      "execution_count": 12,
      "outputs": [
        {
          "output_type": "stream",
          "name": "stdout",
          "text": [
            "0.9534555046358499\n",
            "0.9028190522180684\n",
            "0.8293265984185126\n",
            "0.7934989549032336\n",
            "0.6831307846103991\n",
            "0.5908320031843053\n",
            "0.504967506314615\n",
            "2\n"
          ]
        }
      ]
    },
    {
      "cell_type": "markdown",
      "metadata": {
        "deletable": false,
        "editable": false,
        "nbgrader": {
          "checksum": "9229f3626bea7238f91b319b76f8d6c1",
          "grade": false,
          "grade_id": "cell-1f4af152457c700f",
          "locked": true,
          "schema_version": 1,
          "solution": false
        },
        "id": "t1USbOiZ8Wfo"
      },
      "source": [
        "What is the best choice of k? "
      ]
    },
    {
      "cell_type": "code",
      "metadata": {
        "deletable": false,
        "nbgrader": {
          "checksum": "e686f8bb8933c06c0b80f1d3a0ab7c4c",
          "grade": true,
          "grade_id": "cell-75f42d06e03fe139",
          "locked": false,
          "points": 1,
          "schema_version": 1,
          "solution": true
        },
        "id": "IiP-7-BI8Wfp",
        "colab": {
          "base_uri": "https://localhost:8080/",
          "height": 198
        },
        "outputId": "9a3fb25d-76c3-4602-fc82-2c04b7289711"
      },
      "source": [
        "# YOUR ANSWER HERE\n",
        "2\n",
        "raise NotImplementedError()"
      ],
      "execution_count": 13,
      "outputs": [
        {
          "output_type": "error",
          "ename": "NotImplementedError",
          "evalue": "ignored",
          "traceback": [
            "\u001b[0;31m---------------------------------------------------------------------------\u001b[0m",
            "\u001b[0;31mNotImplementedError\u001b[0m                       Traceback (most recent call last)",
            "\u001b[0;32m<ipython-input-13-b5693c6442eb>\u001b[0m in \u001b[0;36m<module>\u001b[0;34m()\u001b[0m\n\u001b[1;32m      1\u001b[0m \u001b[0;31m# YOUR ANSWER HERE\u001b[0m\u001b[0;34m\u001b[0m\u001b[0;34m\u001b[0m\u001b[0;34m\u001b[0m\u001b[0m\n\u001b[1;32m      2\u001b[0m \u001b[0;36m2\u001b[0m\u001b[0;34m\u001b[0m\u001b[0;34m\u001b[0m\u001b[0m\n\u001b[0;32m----> 3\u001b[0;31m \u001b[0;32mraise\u001b[0m \u001b[0mNotImplementedError\u001b[0m\u001b[0;34m(\u001b[0m\u001b[0;34m)\u001b[0m\u001b[0;34m\u001b[0m\u001b[0;34m\u001b[0m\u001b[0m\n\u001b[0m",
            "\u001b[0;31mNotImplementedError\u001b[0m: "
          ]
        }
      ]
    },
    {
      "cell_type": "markdown",
      "metadata": {
        "deletable": false,
        "editable": false,
        "nbgrader": {
          "checksum": "4d1db294cd60c6368ab7f1cc287ac861",
          "grade": false,
          "grade_id": "cell-3f1e7c00e311da4b",
          "locked": true,
          "schema_version": 1,
          "solution": false
        },
        "id": "nR7L0bqm8Wft"
      },
      "source": [
        "### Question 2 `(1 point)`\n",
        "What is the best choice of k according to the silhouette metric for clustering q7-q10? Only consider 2 <= k <= 8. "
      ]
    },
    {
      "cell_type": "code",
      "metadata": {
        "deletable": false,
        "nbgrader": {
          "checksum": "9cf8b96c08dc833c7b88ee35362ed959",
          "grade": false,
          "grade_id": "cell-dc62c66cc9acf621",
          "locked": false,
          "schema_version": 1,
          "solution": true
        },
        "id": "Jv9s-92L8Wft",
        "colab": {
          "base_uri": "https://localhost:8080/"
        },
        "outputId": "587b7c7f-8781-4555-bea4-79a9d43b7e6a"
      },
      "source": [
        "#Make sure you return the answer value in this function\n",
        "#The return value must be an integer\n",
        "def q2(df):\n",
        "    \n",
        "    # YOUR CODE HERE\n",
        "    best = 0\n",
        "    high = -10\n",
        "    X = df[[\"q7\", \"q8\", \"q9\", \"q10\"]].to_numpy() \n",
        "    for k in range(2, 9):\n",
        "      kmeans = KMeans(n_clusters=k, random_state=42)\n",
        "      kmeans.fit(X)\n",
        "      current = silhouette_score(X, kmeans.labels_)\n",
        "      print(current)\n",
        "      if current>high:\n",
        "        best = k\n",
        "        high=current\n",
        "    return best\n",
        "    raise NotImplementedError()\n",
        "print(q2(df))"
      ],
      "execution_count": 14,
      "outputs": [
        {
          "output_type": "stream",
          "name": "stdout",
          "text": [
            "0.4153726016542452\n",
            "0.3189882052864622\n",
            "0.2758554641423279\n",
            "0.27001221927799257\n",
            "0.2494106760674293\n",
            "0.2395527387134132\n",
            "0.23957055208932793\n",
            "2\n"
          ]
        }
      ]
    },
    {
      "cell_type": "markdown",
      "metadata": {
        "deletable": false,
        "editable": false,
        "nbgrader": {
          "checksum": "13a5d949504f1ed6dbf3bf474d135175",
          "grade": false,
          "grade_id": "cell-a798fe1067889c85",
          "locked": true,
          "schema_version": 1,
          "solution": false
        },
        "id": "ohkPzjsf8Wfz"
      },
      "source": [
        "What is the best choice of k? "
      ]
    },
    {
      "cell_type": "code",
      "metadata": {
        "deletable": false,
        "nbgrader": {
          "checksum": "39518f72ac99d22c2be6e053d683ecb3",
          "grade": true,
          "grade_id": "cell-b9c0fc321a251e1e",
          "locked": false,
          "points": 0.5,
          "schema_version": 1,
          "solution": true
        },
        "id": "WwlzPYjj8Wf0"
      },
      "source": [
        "# YOUR ANSWER HERE\n",
        "2\n",
        "raise NotImplementedError()"
      ],
      "execution_count": null,
      "outputs": []
    },
    {
      "cell_type": "markdown",
      "metadata": {
        "deletable": false,
        "editable": false,
        "nbgrader": {
          "checksum": "685cbed1a7666b907cfd74876798b246",
          "grade": false,
          "grade_id": "cell-abc5d1274688008b",
          "locked": true,
          "schema_version": 1,
          "solution": false
        },
        "id": "QW6AW5SN8Wf3"
      },
      "source": [
        "### Question 3 `(1 point)`\n",
        "What is the best choice of k according to the silhouette metric for clustering q11-q13? Only consider 2 <= k <= 8. "
      ]
    },
    {
      "cell_type": "code",
      "metadata": {
        "deletable": false,
        "nbgrader": {
          "checksum": "79b98812400934790474017de005b61b",
          "grade": false,
          "grade_id": "cell-fa2944f22a609780",
          "locked": false,
          "schema_version": 1,
          "solution": true
        },
        "id": "FU0QGeDx8Wf6",
        "colab": {
          "base_uri": "https://localhost:8080/"
        },
        "outputId": "11a44c5a-c508-4568-84af-37ee69c3f6ac"
      },
      "source": [
        "#Make sure you return the answer value in this function\n",
        "#The return value must be an integer\n",
        "def q3(df):\n",
        "    \n",
        "    # YOUR CODE HERE\n",
        "    best = 0\n",
        "    high = -10\n",
        "    X = df[[\"q11\", \"q12\", \"q13\"]].to_numpy() \n",
        "    for k in range(2, 9):\n",
        "      kmeans = KMeans(n_clusters=k, random_state=42)\n",
        "      kmeans.fit(X)\n",
        "      current = silhouette_score(X, kmeans.labels_)\n",
        "      print(current)\n",
        "      if current>high:\n",
        "        best = k\n",
        "        high=current\n",
        "    return best\n",
        "    raise NotImplementedError()\n",
        "print(q3(df))"
      ],
      "execution_count": 15,
      "outputs": [
        {
          "output_type": "stream",
          "name": "stdout",
          "text": [
            "0.4223971863331268\n",
            "0.3684964959597974\n",
            "0.38413956837896623\n",
            "0.410964093281446\n",
            "0.4200919661305776\n",
            "0.43278306606486655\n",
            "0.4427085066763058\n",
            "8\n"
          ]
        }
      ]
    },
    {
      "cell_type": "markdown",
      "metadata": {
        "deletable": false,
        "editable": false,
        "nbgrader": {
          "checksum": "7f1e4d9e7bc46ed5b72756983c3ea7d1",
          "grade": false,
          "grade_id": "cell-ffde459d3d7f30d4",
          "locked": true,
          "schema_version": 1,
          "solution": false
        },
        "id": "Y-5NyKXZ8Wf_"
      },
      "source": [
        "What is the best choice of k?"
      ]
    },
    {
      "cell_type": "code",
      "metadata": {
        "deletable": false,
        "nbgrader": {
          "checksum": "286a814a2fc12cff437655784716f2d7",
          "grade": true,
          "grade_id": "cell-dd60c729c46b5610",
          "locked": false,
          "points": 0.5,
          "schema_version": 1,
          "solution": true
        },
        "id": "AZfZebXo8WgB"
      },
      "source": [
        "# YOUR ANSWER HERE\n",
        "8\n",
        "raise NotImplementedError()"
      ],
      "execution_count": null,
      "outputs": []
    },
    {
      "cell_type": "code",
      "metadata": {
        "id": "dbETQKTIFQLL"
      },
      "source": [
        "df = pd.read_csv('yelp_reviewers.csv', delimiter= ',')\n",
        "df = df.sample(frac=0.3, random_state=42)"
      ],
      "execution_count": null,
      "outputs": []
    },
    {
      "cell_type": "markdown",
      "metadata": {
        "deletable": false,
        "editable": false,
        "nbgrader": {
          "checksum": "a18ebc832af60a47193b79496235a06c",
          "grade": false,
          "grade_id": "cell-3bf4719c7aa218c6",
          "locked": true,
          "schema_version": 1,
          "solution": false
        },
        "id": "aQMzO6nF8WgJ"
      },
      "source": [
        "### Question 4 `(1 point)`\n",
        "Consider the best clustering (i.e., best value of K) from Question 3 and list the number of data points in each cluster."
      ]
    },
    {
      "cell_type": "code",
      "metadata": {
        "deletable": false,
        "nbgrader": {
          "checksum": "cc9c33b42265e3a41d8fefb18770a4e8",
          "grade": false,
          "grade_id": "cell-24fde636c2f83a67",
          "locked": false,
          "schema_version": 1,
          "solution": true
        },
        "id": "ztW4Dgbc8WgN"
      },
      "source": [
        "#Make sure you return the answer value in this function\n",
        "#The return value must be an dictionary. Eg : {0:1000,1:500,2:1460}\n",
        "def q4(df):\n",
        "    \n",
        "    # YOUR CODE HERE\n",
        "    X = df.loc[:, 'q11':'q13'].dropna()\n",
        "    kmeanq4 = KMeans(n_clusters=8, random_state=42)\n",
        "    kmeanq4.fit(X)\n",
        "    arr = kmeanq4.labels_\n",
        "    result = {}\n",
        "    for i in range(0,8):\n",
        "      result[i] = np.count_nonzero(arr == i)\n",
        "    return result\n",
        "    raise NotImplementedError()"
      ],
      "execution_count": 50,
      "outputs": []
    },
    {
      "cell_type": "code",
      "metadata": {
        "deletable": false,
        "editable": false,
        "nbgrader": {
          "checksum": "99637ce263f2207d1701716f5f1f44ca",
          "grade": true,
          "grade_id": "cell-2deca552fa9f803f",
          "locked": true,
          "points": 1,
          "schema_version": 1,
          "solution": false
        },
        "id": "iIUdLPIw8WgQ",
        "colab": {
          "base_uri": "https://localhost:8080/"
        },
        "outputId": "23c122ec-8ff7-4fc5-eba7-79c841f3314a"
      },
      "source": [
        "#This is an autograded cell, do not edit\n",
        "print(q4(df))"
      ],
      "execution_count": 51,
      "outputs": [
        {
          "output_type": "stream",
          "name": "stdout",
          "text": [
            "{0: 3307, 1: 1632, 2: 2862, 3: 9848, 4: 5723, 5: 3405, 6: 1192, 7: 2140}\n"
          ]
        }
      ]
    },
    {
      "cell_type": "markdown",
      "metadata": {
        "deletable": false,
        "editable": false,
        "nbgrader": {
          "checksum": "f455a94d03bf20a31ce26a2da672ee98",
          "grade": false,
          "grade_id": "cell-4277f89074807c16",
          "locked": true,
          "schema_version": 1,
          "solution": false
        },
        "id": "xgii61fI8WgT"
      },
      "source": [
        "### Question 5 `(1 point)`\n",
        "Consider the best cluster from Question 3. Were there clusters that represented very funny but useless reviewers (check column definitions for columns corresponding to funny, useless etc)?  If so, print the center of that cluster."
      ]
    },
    {
      "cell_type": "code",
      "metadata": {
        "deletable": false,
        "nbgrader": {
          "checksum": "d2664de57a82a4d02c7d529617a1450c",
          "grade": false,
          "grade_id": "cell-550e8e6942843343",
          "locked": false,
          "schema_version": 1,
          "solution": true
        },
        "id": "_XzB8j6f8WgU"
      },
      "source": [
        "#Make sure you return the answer value in this function\n",
        "#The return value must be an Array. Eg : [10,30,54]\n",
        "def q5(df):\n",
        "    \n",
        "    # YOUR CODE HERE\n",
        "    X = df.loc[:, 'q11':'q13'].dropna()\n",
        "    kmeanq5 = KMeans(n_clusters=8, random_state=42)\n",
        "    kmeanq5.fit(X)\n",
        "    for i in range(0,8):\n",
        "      centroids = kmeanq5.cluster_centers_[i]\n",
        "      print(centroids)\n",
        "    print(\"centroid closest to description:\")\n",
        "    return kmeanq5.cluster_centers_[1]\n",
        "    raise NotImplementedError()"
      ],
      "execution_count": 54,
      "outputs": []
    },
    {
      "cell_type": "code",
      "metadata": {
        "deletable": false,
        "editable": false,
        "nbgrader": {
          "checksum": "36e1fb3627b616460376cfe2db01762c",
          "grade": true,
          "grade_id": "cell-5c9ad8f64f9e3cb9",
          "locked": true,
          "points": 1,
          "schema_version": 1,
          "solution": false
        },
        "id": "g22ke0I48WgX",
        "colab": {
          "base_uri": "https://localhost:8080/"
        },
        "outputId": "39b15f14-faca-4092-908f-e8b684c7d378"
      },
      "source": [
        "#This is an autograded cell, do not edit\n",
        "print(np.round_(q5(df), decimals=1, out=None))"
      ],
      "execution_count": 55,
      "outputs": [
        {
          "output_type": "stream",
          "name": "stdout",
          "text": [
            "[10.02046238 23.16876398 66.81187972]\n",
            "[ 1.13148897 98.30148897  0.56707721]\n",
            "[50.52725559  2.37334497 47.09952514]\n",
            "[ 0.303684    0.21966186 99.47663079]\n",
            "[31.44817308 30.39612587 38.15302273]\n",
            "[28.36471366  3.86088106 67.77426138]\n",
            "[98.88163591  0.93032718  0.18802852]\n",
            "[ 3.69567555 52.25672744 44.04774661]\n",
            "centroid closest to description:\n",
            "[ 1.1 98.3  0.6]\n"
          ]
        }
      ]
    },
    {
      "cell_type": "markdown",
      "metadata": {
        "deletable": false,
        "editable": false,
        "nbgrader": {
          "checksum": "423fac1c99ce7c9090dd9e96e6778777",
          "grade": false,
          "grade_id": "cell-303792a4ac61cb3a",
          "locked": true,
          "schema_version": 1,
          "solution": false
        },
        "id": "U2yg2Z2_8Wgd"
      },
      "source": [
        "### Question 6 `(1 point)`\n",
        "Consider the best clustering from Question 3. What was the centroid of the cluster that represented relatively equal strength in all voting categories?"
      ]
    },
    {
      "cell_type": "code",
      "metadata": {
        "deletable": false,
        "nbgrader": {
          "checksum": "9b6ebc1ed5ed8d8042dcf7cd49952b57",
          "grade": false,
          "grade_id": "cell-391c7439f978dff8",
          "locked": false,
          "schema_version": 1,
          "solution": true
        },
        "id": "94isPDi08Wgf"
      },
      "source": [
        "#Make sure you return the answer value in this function\n",
        "def q6(df):\n",
        "    \n",
        "    # YOUR CODE HERE\n",
        "    X = df.loc[:, 'q11':'q13'].dropna()\n",
        "    kmeanq5 = KMeans(n_clusters=8, random_state=42)\n",
        "    kmeanq5.fit(X)\n",
        "    for i in range(0,8):\n",
        "      centroids = kmeanq5.cluster_centers_[i]\n",
        "      print(centroids)\n",
        "    print(\"centroid closest to description:\")\n",
        "    return kmeanq5.cluster_centers_[4]\n",
        "    raise NotImplementedError()"
      ],
      "execution_count": 58,
      "outputs": []
    },
    {
      "cell_type": "code",
      "metadata": {
        "deletable": false,
        "editable": false,
        "nbgrader": {
          "checksum": "cfcf6b7a02a8426368b49ab70898113b",
          "grade": true,
          "grade_id": "cell-4a75c628cdd62ed3",
          "locked": true,
          "points": 1,
          "schema_version": 1,
          "solution": false
        },
        "id": "GKePHYay8Wgl",
        "colab": {
          "base_uri": "https://localhost:8080/"
        },
        "outputId": "8e6e6642-1379-41d0-cf6c-80378a9526bb"
      },
      "source": [
        "#This is an autograded cell, do not edit\n",
        "print(q6(df))"
      ],
      "execution_count": 59,
      "outputs": [
        {
          "output_type": "stream",
          "name": "stdout",
          "text": [
            "[10.02046238 23.16876398 66.81187972]\n",
            "[ 1.13148897 98.30148897  0.56707721]\n",
            "[50.52725559  2.37334497 47.09952514]\n",
            "[ 0.303684    0.21966186 99.47663079]\n",
            "[31.44817308 30.39612587 38.15302273]\n",
            "[28.36471366  3.86088106 67.77426138]\n",
            "[98.88163591  0.93032718  0.18802852]\n",
            "[ 3.69567555 52.25672744 44.04774661]\n",
            "centroid closest to description:\n",
            "[31.44817308 30.39612587 38.15302273]\n"
          ]
        }
      ]
    },
    {
      "cell_type": "markdown",
      "metadata": {
        "deletable": false,
        "editable": false,
        "nbgrader": {
          "checksum": "7277b47e7131491c1b5bc8487bc7f848",
          "grade": false,
          "grade_id": "cell-b29200abdbf3f648",
          "locked": true,
          "schema_version": 1,
          "solution": false
        },
        "id": "BlCXYH7J8Wgp"
      },
      "source": [
        "### Question 7 `(1 point)`\n",
        "Cluster the dataset using $k = 5$ and using features q7-q15 (refer to the column descriptions if needed).\n",
        "What is the silhouette metric for this clustering?\n",
        "For a more in-depth understanding of cluster analysis with silhouette, look [here](http://scikit-learn.org/stable/auto_examples/cluster/plot_kmeans_silhouette_analysis.html)"
      ]
    },
    {
      "cell_type": "code",
      "metadata": {
        "deletable": false,
        "nbgrader": {
          "checksum": "aadc8b4d3daea84bcdf7326f7d9e1e48",
          "grade": false,
          "grade_id": "cell-692872a9776a2f81",
          "locked": false,
          "schema_version": 1,
          "solution": true
        },
        "id": "P5AW-1Hj8Wgq"
      },
      "source": [
        "#Make sure you return the answer value in this function\n",
        "#The return value must be a float\n",
        "def q7(df):\n",
        "    \n",
        "    # YOUR CODE HERE\n",
        "    X = df.loc[:, 'q7':'q15'].dropna()\n",
        "    kmeans = KMeans(n_clusters=5, random_state=42)\n",
        "    kmeans.fit(X)\n",
        "    sil_coeff = silhouette_score(X, kmeans.labels_)\n",
        "    return sil_coeff\n",
        "    raise NotImplementedError()"
      ],
      "execution_count": 60,
      "outputs": []
    },
    {
      "cell_type": "code",
      "metadata": {
        "deletable": false,
        "editable": false,
        "nbgrader": {
          "checksum": "7c847dc80333efefec63b12bce9a3c23",
          "grade": true,
          "grade_id": "cell-d5a3ed8462b9b40b",
          "locked": true,
          "points": 1,
          "schema_version": 1,
          "solution": false
        },
        "id": "Kx23kyP18Wgw",
        "colab": {
          "base_uri": "https://localhost:8080/"
        },
        "outputId": "bc6560aa-4a3c-4103-d50b-eb30c4faeeac"
      },
      "source": [
        "#This is an autograded cell, do not edit\n",
        "print(q7(df))"
      ],
      "execution_count": 61,
      "outputs": [
        {
          "output_type": "stream",
          "name": "stdout",
          "text": [
            "0.5481158706623568\n"
          ]
        }
      ]
    },
    {
      "cell_type": "markdown",
      "metadata": {
        "deletable": false,
        "editable": false,
        "nbgrader": {
          "checksum": "b5206e977bdec3a2a2da9a55d42539e1",
          "grade": false,
          "grade_id": "cell-bb20d152047de4c0",
          "locked": true,
          "schema_version": 1,
          "solution": false
        },
        "id": "ghXtWRlm8Wg1"
      },
      "source": [
        "### Question 8 `(1 point)`\n",
        "Cluster the dataset using $k = 5$ and using features q7-q15 (refer to the column descriptions if needed).\n",
        "\n",
        "What was the average q3 among the points in each of the clusters?"
      ]
    },
    {
      "cell_type": "code",
      "metadata": {
        "deletable": false,
        "nbgrader": {
          "checksum": "cec8fcc62994a8c42d2a828240cf8d70",
          "grade": false,
          "grade_id": "cell-ce75d2c2b37a5939",
          "locked": false,
          "schema_version": 1,
          "solution": true
        },
        "id": "7VLNa7ZT8Wg2",
        "colab": {
          "base_uri": "https://localhost:8080/",
          "height": 130
        },
        "outputId": "42bbcc85-a114-49b9-a345-a50b08feca20"
      },
      "source": [
        "#Make sure you return the answer value in this function\n",
        "#The return value must be an Array. Eg : [10,30,54]\n",
        "def q8(df):\n",
        "    \n",
        "    # YOUR CODE HERE\n",
        "    # X = df.loc[:, 'q7':'q15'].dropna()\n",
        "    # kmeans = KMeans(n_clusters=5, random_state=42)\n",
        "    # kmeans.fit(X)\n",
        "    # arr = np.array([])\n",
        "    # for i in range(0,5):\n",
        "    #   np.append(arr[mean(df['q3'])])\n",
        "    # return\n",
        "   # raise NotImplementedError()"
      ],
      "execution_count": 35,
      "outputs": [
        {
          "output_type": "error",
          "ename": "IndentationError",
          "evalue": "ignored",
          "traceback": [
            "\u001b[0;36m  File \u001b[0;32m\"<ipython-input-35-8b7907daa133>\"\u001b[0;36m, line \u001b[0;32m12\u001b[0m\n\u001b[0;31m    return\u001b[0m\n\u001b[0m         ^\u001b[0m\n\u001b[0;31mIndentationError\u001b[0m\u001b[0;31m:\u001b[0m expected an indented block\n"
          ]
        }
      ]
    },
    {
      "cell_type": "code",
      "metadata": {
        "deletable": false,
        "editable": false,
        "nbgrader": {
          "checksum": "8fcac0a1587052a68abfd2dc22e6a444",
          "grade": true,
          "grade_id": "cell-125a523ba764c027",
          "locked": true,
          "points": 1,
          "schema_version": 1,
          "solution": false
        },
        "id": "uU1zA9hQ8Wg7"
      },
      "source": [
        "#This is an autograded cell, do not edit\n",
        "print(np.round_(q8(df), decimals=1, out=None))"
      ],
      "execution_count": null,
      "outputs": []
    },
    {
      "cell_type": "markdown",
      "metadata": {
        "deletable": false,
        "editable": false,
        "nbgrader": {
          "checksum": "539014b1c77f0d5159b9158216999ffa",
          "grade": false,
          "grade_id": "cell-32dc52f985a4469b",
          "locked": true,
          "schema_version": 1,
          "solution": false
        },
        "id": "ImMBccCv8WhE"
      },
      "source": [
        "### Question 9 `(2 points)`\n",
        "**This question will be manually graded.**\n",
        "\n",
        "Cluster the dataset using all features in the dataset\n",
        "\n",
        "We can drop features with high incidents of -Inf / blank / or NaN values). It is suggested that you perform some form of normalization on these question 16 features so as not to over bias the clustering towards the larger magnitude features. Let's do that now.\n",
        "\n",
        "#### Data Cleansing and Normalization ####\n",
        "Check how many null values there are in each column."
      ]
    },
    {
      "cell_type": "code",
      "metadata": {
        "id": "ifJhsh9rDlK4"
      },
      "source": [
        "df = pd.read_csv('yelp_reviewers.csv', delimiter= ',')\n",
        "df = df.sample(frac=0.3, random_state=42)"
      ],
      "execution_count": 48,
      "outputs": []
    },
    {
      "cell_type": "code",
      "metadata": {
        "deletable": false,
        "editable": false,
        "nbgrader": {
          "checksum": "26c5eee0748fe77d6f219f2f654adc69",
          "grade": false,
          "grade_id": "cell-00e25d9828db774a",
          "locked": true,
          "schema_version": 1,
          "solution": false
        },
        "id": "vdt07lvl8WhH",
        "colab": {
          "base_uri": "https://localhost:8080/"
        },
        "outputId": "6a0d4ed9-ccf6-423f-f498-a87f3018cd0f"
      },
      "source": [
        "# YOUR CODE HERE\n",
        "df.isna().sum()"
      ],
      "execution_count": 49,
      "outputs": [
        {
          "output_type": "execute_result",
          "data": {
            "text/plain": [
              "user_id        0\n",
              "q3             0\n",
              "q4             0\n",
              "q5             0\n",
              "q6             0\n",
              "q7             0\n",
              "q8         35280\n",
              "q9         36743\n",
              "q10        24338\n",
              "q11        21383\n",
              "q12        21383\n",
              "q13        21383\n",
              "q14            0\n",
              "q15            0\n",
              "q16a           0\n",
              "q16b           0\n",
              "q16c           0\n",
              "q16d           0\n",
              "q16e           0\n",
              "q16f           0\n",
              "q16g           0\n",
              "q16h           0\n",
              "q16i           0\n",
              "q16j           0\n",
              "q16k           0\n",
              "q16l           0\n",
              "q16m           0\n",
              "q16n           0\n",
              "q16o           0\n",
              "q16p           0\n",
              "q16q           0\n",
              "q16r           0\n",
              "q16s           0\n",
              "q16t           0\n",
              "q16u           0\n",
              "q16v           0\n",
              "q16w           0\n",
              "q16x           0\n",
              "q16y           0\n",
              "q16z           0\n",
              "q16aa          0\n",
              "q16ab      14469\n",
              "q16ac          0\n",
              "dtype: int64"
            ]
          },
          "metadata": {},
          "execution_count": 49
        }
      ]
    },
    {
      "cell_type": "markdown",
      "metadata": {
        "deletable": false,
        "editable": false,
        "nbgrader": {
          "checksum": "059796c35a25a2239b6af643d573077c",
          "grade": false,
          "grade_id": "cell-dda1709aadca4b74",
          "locked": true,
          "schema_version": 1,
          "solution": false
        },
        "id": "yzAo6QRS8WhO"
      },
      "source": [
        "It looks like q8 - q13 and q16ab have a lot of null values. Let's see what the impact is of removing the two columns with the most null values."
      ]
    },
    {
      "cell_type": "code",
      "metadata": {
        "deletable": false,
        "editable": false,
        "nbgrader": {
          "checksum": "c9201f034d5527471e11c4bdf4259a06",
          "grade": false,
          "grade_id": "cell-e67e9b14f016567d",
          "locked": true,
          "schema_version": 1,
          "solution": false
        },
        "id": "pSrZ9i3g8WhQ",
        "colab": {
          "base_uri": "https://localhost:8080/",
          "height": 224
        },
        "outputId": "a9bcc5cb-9a03-4701-827d-429360695524"
      },
      "source": [
        "# YOUR CODE HERE\n",
        "nona_df = df.drop(columns=['user_id','q8', 'q9']).dropna()\n",
        "nona_df.head()"
      ],
      "execution_count": 105,
      "outputs": [
        {
          "output_type": "execute_result",
          "data": {
            "text/html": [
              "<div>\n",
              "<style scoped>\n",
              "    .dataframe tbody tr th:only-of-type {\n",
              "        vertical-align: middle;\n",
              "    }\n",
              "\n",
              "    .dataframe tbody tr th {\n",
              "        vertical-align: top;\n",
              "    }\n",
              "\n",
              "    .dataframe thead th {\n",
              "        text-align: right;\n",
              "    }\n",
              "</style>\n",
              "<table border=\"1\" class=\"dataframe\">\n",
              "  <thead>\n",
              "    <tr style=\"text-align: right;\">\n",
              "      <th></th>\n",
              "      <th>q3</th>\n",
              "      <th>q4</th>\n",
              "      <th>q5</th>\n",
              "      <th>q6</th>\n",
              "      <th>q7</th>\n",
              "      <th>q10</th>\n",
              "      <th>q11</th>\n",
              "      <th>q12</th>\n",
              "      <th>q13</th>\n",
              "      <th>q14</th>\n",
              "      <th>q15</th>\n",
              "      <th>q16a</th>\n",
              "      <th>q16b</th>\n",
              "      <th>q16c</th>\n",
              "      <th>q16d</th>\n",
              "      <th>q16e</th>\n",
              "      <th>q16f</th>\n",
              "      <th>q16g</th>\n",
              "      <th>q16h</th>\n",
              "      <th>q16i</th>\n",
              "      <th>q16j</th>\n",
              "      <th>q16k</th>\n",
              "      <th>q16l</th>\n",
              "      <th>q16m</th>\n",
              "      <th>q16n</th>\n",
              "      <th>q16o</th>\n",
              "      <th>q16p</th>\n",
              "      <th>q16q</th>\n",
              "      <th>q16r</th>\n",
              "      <th>q16s</th>\n",
              "      <th>q16t</th>\n",
              "      <th>q16u</th>\n",
              "      <th>q16v</th>\n",
              "      <th>q16w</th>\n",
              "      <th>q16x</th>\n",
              "      <th>q16y</th>\n",
              "      <th>q16z</th>\n",
              "      <th>q16aa</th>\n",
              "      <th>q16ab</th>\n",
              "      <th>q16ac</th>\n",
              "    </tr>\n",
              "  </thead>\n",
              "  <tbody>\n",
              "    <tr>\n",
              "      <th>47453</th>\n",
              "      <td>8</td>\n",
              "      <td>2</td>\n",
              "      <td>1</td>\n",
              "      <td>8</td>\n",
              "      <td>2.08</td>\n",
              "      <td>2.08</td>\n",
              "      <td>18.18</td>\n",
              "      <td>9.09</td>\n",
              "      <td>72.73</td>\n",
              "      <td>10</td>\n",
              "      <td>663.38</td>\n",
              "      <td>4</td>\n",
              "      <td>0.353553</td>\n",
              "      <td>0.002073</td>\n",
              "      <td>4.875</td>\n",
              "      <td>0.022989</td>\n",
              "      <td>0.330719</td>\n",
              "      <td>2</td>\n",
              "      <td>6</td>\n",
              "      <td>0</td>\n",
              "      <td>1.375</td>\n",
              "      <td>1</td>\n",
              "      <td>0</td>\n",
              "      <td>4.5</td>\n",
              "      <td>0.125</td>\n",
              "      <td>0.75</td>\n",
              "      <td>1.00</td>\n",
              "      <td>0.192489</td>\n",
              "      <td>5</td>\n",
              "      <td>experienced</td>\n",
              "      <td>no</td>\n",
              "      <td>0.375</td>\n",
              "      <td>8</td>\n",
              "      <td>39</td>\n",
              "      <td>0.001755</td>\n",
              "      <td>91.072917</td>\n",
              "      <td>4</td>\n",
              "      <td>0</td>\n",
              "      <td>1.00</td>\n",
              "      <td>4.875</td>\n",
              "    </tr>\n",
              "    <tr>\n",
              "      <th>53000</th>\n",
              "      <td>2</td>\n",
              "      <td>1</td>\n",
              "      <td>1</td>\n",
              "      <td>2</td>\n",
              "      <td>0.69</td>\n",
              "      <td>0.69</td>\n",
              "      <td>25.00</td>\n",
              "      <td>25.00</td>\n",
              "      <td>50.00</td>\n",
              "      <td>10</td>\n",
              "      <td>532.50</td>\n",
              "      <td>0</td>\n",
              "      <td>1.414214</td>\n",
              "      <td>0.003756</td>\n",
              "      <td>3.000</td>\n",
              "      <td>0.024413</td>\n",
              "      <td>1.000000</td>\n",
              "      <td>0</td>\n",
              "      <td>0</td>\n",
              "      <td>0</td>\n",
              "      <td>2.000</td>\n",
              "      <td>1</td>\n",
              "      <td>0</td>\n",
              "      <td>5.5</td>\n",
              "      <td>0.000</td>\n",
              "      <td>0.00</td>\n",
              "      <td>0.00</td>\n",
              "      <td>0.205055</td>\n",
              "      <td>2</td>\n",
              "      <td>experienced</td>\n",
              "      <td>no</td>\n",
              "      <td>1.000</td>\n",
              "      <td>22</td>\n",
              "      <td>6</td>\n",
              "      <td>0.000000</td>\n",
              "      <td>46.500000</td>\n",
              "      <td>0</td>\n",
              "      <td>3</td>\n",
              "      <td>0.00</td>\n",
              "      <td>3.000</td>\n",
              "    </tr>\n",
              "    <tr>\n",
              "      <th>64580</th>\n",
              "      <td>1</td>\n",
              "      <td>0</td>\n",
              "      <td>0</td>\n",
              "      <td>1</td>\n",
              "      <td>0.00</td>\n",
              "      <td>0.00</td>\n",
              "      <td>0.00</td>\n",
              "      <td>0.00</td>\n",
              "      <td>100.00</td>\n",
              "      <td>5</td>\n",
              "      <td>2018.00</td>\n",
              "      <td>0</td>\n",
              "      <td>0.000000</td>\n",
              "      <td>0.000496</td>\n",
              "      <td>5.000</td>\n",
              "      <td>0.026759</td>\n",
              "      <td>0.000000</td>\n",
              "      <td>2</td>\n",
              "      <td>1</td>\n",
              "      <td>0</td>\n",
              "      <td>1.000</td>\n",
              "      <td>0</td>\n",
              "      <td>0</td>\n",
              "      <td>12.0</td>\n",
              "      <td>0.000</td>\n",
              "      <td>1.00</td>\n",
              "      <td>1.00</td>\n",
              "      <td>0.049554</td>\n",
              "      <td>5</td>\n",
              "      <td>experienced</td>\n",
              "      <td>no</td>\n",
              "      <td>1.000</td>\n",
              "      <td>37</td>\n",
              "      <td>5</td>\n",
              "      <td>0.000498</td>\n",
              "      <td>197.000000</td>\n",
              "      <td>0</td>\n",
              "      <td>0</td>\n",
              "      <td>0.00</td>\n",
              "      <td>5.000</td>\n",
              "    </tr>\n",
              "    <tr>\n",
              "      <th>84662</th>\n",
              "      <td>5</td>\n",
              "      <td>0</td>\n",
              "      <td>0</td>\n",
              "      <td>4</td>\n",
              "      <td>1.61</td>\n",
              "      <td>1.39</td>\n",
              "      <td>0.00</td>\n",
              "      <td>0.00</td>\n",
              "      <td>100.00</td>\n",
              "      <td>6</td>\n",
              "      <td>1303.40</td>\n",
              "      <td>1</td>\n",
              "      <td>1.673320</td>\n",
              "      <td>0.000614</td>\n",
              "      <td>3.600</td>\n",
              "      <td>0.020715</td>\n",
              "      <td>1.496663</td>\n",
              "      <td>3</td>\n",
              "      <td>3</td>\n",
              "      <td>0</td>\n",
              "      <td>0.800</td>\n",
              "      <td>2</td>\n",
              "      <td>0</td>\n",
              "      <td>12.8</td>\n",
              "      <td>1.000</td>\n",
              "      <td>0.60</td>\n",
              "      <td>0.40</td>\n",
              "      <td>0.086515</td>\n",
              "      <td>5</td>\n",
              "      <td>experienced</td>\n",
              "      <td>no</td>\n",
              "      <td>1.400</td>\n",
              "      <td>14</td>\n",
              "      <td>18</td>\n",
              "      <td>0.001578</td>\n",
              "      <td>167.000000</td>\n",
              "      <td>1</td>\n",
              "      <td>0</td>\n",
              "      <td>1.25</td>\n",
              "      <td>3.600</td>\n",
              "    </tr>\n",
              "    <tr>\n",
              "      <th>50079</th>\n",
              "      <td>8</td>\n",
              "      <td>8</td>\n",
              "      <td>5</td>\n",
              "      <td>13</td>\n",
              "      <td>2.08</td>\n",
              "      <td>2.56</td>\n",
              "      <td>30.77</td>\n",
              "      <td>19.23</td>\n",
              "      <td>50.00</td>\n",
              "      <td>9</td>\n",
              "      <td>1047.50</td>\n",
              "      <td>2</td>\n",
              "      <td>1.281740</td>\n",
              "      <td>0.003103</td>\n",
              "      <td>3.750</td>\n",
              "      <td>0.030788</td>\n",
              "      <td>1.198958</td>\n",
              "      <td>3</td>\n",
              "      <td>8</td>\n",
              "      <td>0</td>\n",
              "      <td>3.250</td>\n",
              "      <td>0</td>\n",
              "      <td>0</td>\n",
              "      <td>5.5</td>\n",
              "      <td>1.125</td>\n",
              "      <td>1.00</td>\n",
              "      <td>0.25</td>\n",
              "      <td>0.137523</td>\n",
              "      <td>5</td>\n",
              "      <td>experienced</td>\n",
              "      <td>no</td>\n",
              "      <td>0.500</td>\n",
              "      <td>3</td>\n",
              "      <td>30</td>\n",
              "      <td>0.009861</td>\n",
              "      <td>91.552083</td>\n",
              "      <td>1</td>\n",
              "      <td>13</td>\n",
              "      <td>4.00</td>\n",
              "      <td>3.750</td>\n",
              "    </tr>\n",
              "  </tbody>\n",
              "</table>\n",
              "</div>"
            ],
            "text/plain": [
              "       q3  q4  q5  q6    q7  ...        q16y  q16z  q16aa  q16ab  q16ac\n",
              "47453   8   2   1   8  2.08  ...   91.072917     4      0   1.00  4.875\n",
              "53000   2   1   1   2  0.69  ...   46.500000     0      3   0.00  3.000\n",
              "64580   1   0   0   1  0.00  ...  197.000000     0      0   0.00  5.000\n",
              "84662   5   0   0   4  1.61  ...  167.000000     1      0   1.25  3.600\n",
              "50079   8   8   5  13  2.08  ...   91.552083     1     13   4.00  3.750\n",
              "\n",
              "[5 rows x 40 columns]"
            ]
          },
          "metadata": {},
          "execution_count": 105
        }
      ]
    },
    {
      "cell_type": "markdown",
      "metadata": {
        "deletable": false,
        "editable": false,
        "nbgrader": {
          "checksum": "55ec19beab75bcb01d51763aa77b7c7d",
          "grade": false,
          "grade_id": "cell-0832f08869a19534",
          "locked": true,
          "schema_version": 1,
          "solution": false
        },
        "id": "gQbRuq_Z8Whb"
      },
      "source": [
        "By removing two features, we effectively have doubled the number of rows remaining. That's pretty good.  \n",
        "Now, let's preprocess categorical variables into dummy values."
      ]
    },
    {
      "cell_type": "code",
      "metadata": {
        "deletable": false,
        "editable": false,
        "nbgrader": {
          "checksum": "9520a1834882784cba16fa1e635aeb9e",
          "grade": false,
          "grade_id": "cell-46dc2129f7ac4991",
          "locked": true,
          "schema_version": 1,
          "solution": false
        },
        "id": "xnXUaCHl8Whc",
        "colab": {
          "base_uri": "https://localhost:8080/",
          "height": 224
        },
        "outputId": "61987127-a04b-480c-de18-366085420a33"
      },
      "source": [
        "# YOUR CODE HERE\n",
        "nona_df.loc[nona_df.q16s == 'experienced','q16s'] = 1\n",
        "nona_df.loc[nona_df.q16s == 'freshman','q16s'] = 0\n",
        "\n",
        "nona_df.loc[nona_df.q16t == 'yes','q16t'] = 1\n",
        "nona_df.loc[nona_df.q16t == 'no','q16t'] = 0\n",
        "\n",
        "nona_df.head()"
      ],
      "execution_count": 106,
      "outputs": [
        {
          "output_type": "execute_result",
          "data": {
            "text/html": [
              "<div>\n",
              "<style scoped>\n",
              "    .dataframe tbody tr th:only-of-type {\n",
              "        vertical-align: middle;\n",
              "    }\n",
              "\n",
              "    .dataframe tbody tr th {\n",
              "        vertical-align: top;\n",
              "    }\n",
              "\n",
              "    .dataframe thead th {\n",
              "        text-align: right;\n",
              "    }\n",
              "</style>\n",
              "<table border=\"1\" class=\"dataframe\">\n",
              "  <thead>\n",
              "    <tr style=\"text-align: right;\">\n",
              "      <th></th>\n",
              "      <th>q3</th>\n",
              "      <th>q4</th>\n",
              "      <th>q5</th>\n",
              "      <th>q6</th>\n",
              "      <th>q7</th>\n",
              "      <th>q10</th>\n",
              "      <th>q11</th>\n",
              "      <th>q12</th>\n",
              "      <th>q13</th>\n",
              "      <th>q14</th>\n",
              "      <th>q15</th>\n",
              "      <th>q16a</th>\n",
              "      <th>q16b</th>\n",
              "      <th>q16c</th>\n",
              "      <th>q16d</th>\n",
              "      <th>q16e</th>\n",
              "      <th>q16f</th>\n",
              "      <th>q16g</th>\n",
              "      <th>q16h</th>\n",
              "      <th>q16i</th>\n",
              "      <th>q16j</th>\n",
              "      <th>q16k</th>\n",
              "      <th>q16l</th>\n",
              "      <th>q16m</th>\n",
              "      <th>q16n</th>\n",
              "      <th>q16o</th>\n",
              "      <th>q16p</th>\n",
              "      <th>q16q</th>\n",
              "      <th>q16r</th>\n",
              "      <th>q16s</th>\n",
              "      <th>q16t</th>\n",
              "      <th>q16u</th>\n",
              "      <th>q16v</th>\n",
              "      <th>q16w</th>\n",
              "      <th>q16x</th>\n",
              "      <th>q16y</th>\n",
              "      <th>q16z</th>\n",
              "      <th>q16aa</th>\n",
              "      <th>q16ab</th>\n",
              "      <th>q16ac</th>\n",
              "    </tr>\n",
              "  </thead>\n",
              "  <tbody>\n",
              "    <tr>\n",
              "      <th>47453</th>\n",
              "      <td>8</td>\n",
              "      <td>2</td>\n",
              "      <td>1</td>\n",
              "      <td>8</td>\n",
              "      <td>2.08</td>\n",
              "      <td>2.08</td>\n",
              "      <td>18.18</td>\n",
              "      <td>9.09</td>\n",
              "      <td>72.73</td>\n",
              "      <td>10</td>\n",
              "      <td>663.38</td>\n",
              "      <td>4</td>\n",
              "      <td>0.353553</td>\n",
              "      <td>0.002073</td>\n",
              "      <td>4.875</td>\n",
              "      <td>0.022989</td>\n",
              "      <td>0.330719</td>\n",
              "      <td>2</td>\n",
              "      <td>6</td>\n",
              "      <td>0</td>\n",
              "      <td>1.375</td>\n",
              "      <td>1</td>\n",
              "      <td>0</td>\n",
              "      <td>4.5</td>\n",
              "      <td>0.125</td>\n",
              "      <td>0.75</td>\n",
              "      <td>1.00</td>\n",
              "      <td>0.192489</td>\n",
              "      <td>5</td>\n",
              "      <td>1</td>\n",
              "      <td>0</td>\n",
              "      <td>0.375</td>\n",
              "      <td>8</td>\n",
              "      <td>39</td>\n",
              "      <td>0.001755</td>\n",
              "      <td>91.072917</td>\n",
              "      <td>4</td>\n",
              "      <td>0</td>\n",
              "      <td>1.00</td>\n",
              "      <td>4.875</td>\n",
              "    </tr>\n",
              "    <tr>\n",
              "      <th>53000</th>\n",
              "      <td>2</td>\n",
              "      <td>1</td>\n",
              "      <td>1</td>\n",
              "      <td>2</td>\n",
              "      <td>0.69</td>\n",
              "      <td>0.69</td>\n",
              "      <td>25.00</td>\n",
              "      <td>25.00</td>\n",
              "      <td>50.00</td>\n",
              "      <td>10</td>\n",
              "      <td>532.50</td>\n",
              "      <td>0</td>\n",
              "      <td>1.414214</td>\n",
              "      <td>0.003756</td>\n",
              "      <td>3.000</td>\n",
              "      <td>0.024413</td>\n",
              "      <td>1.000000</td>\n",
              "      <td>0</td>\n",
              "      <td>0</td>\n",
              "      <td>0</td>\n",
              "      <td>2.000</td>\n",
              "      <td>1</td>\n",
              "      <td>0</td>\n",
              "      <td>5.5</td>\n",
              "      <td>0.000</td>\n",
              "      <td>0.00</td>\n",
              "      <td>0.00</td>\n",
              "      <td>0.205055</td>\n",
              "      <td>2</td>\n",
              "      <td>1</td>\n",
              "      <td>0</td>\n",
              "      <td>1.000</td>\n",
              "      <td>22</td>\n",
              "      <td>6</td>\n",
              "      <td>0.000000</td>\n",
              "      <td>46.500000</td>\n",
              "      <td>0</td>\n",
              "      <td>3</td>\n",
              "      <td>0.00</td>\n",
              "      <td>3.000</td>\n",
              "    </tr>\n",
              "    <tr>\n",
              "      <th>64580</th>\n",
              "      <td>1</td>\n",
              "      <td>0</td>\n",
              "      <td>0</td>\n",
              "      <td>1</td>\n",
              "      <td>0.00</td>\n",
              "      <td>0.00</td>\n",
              "      <td>0.00</td>\n",
              "      <td>0.00</td>\n",
              "      <td>100.00</td>\n",
              "      <td>5</td>\n",
              "      <td>2018.00</td>\n",
              "      <td>0</td>\n",
              "      <td>0.000000</td>\n",
              "      <td>0.000496</td>\n",
              "      <td>5.000</td>\n",
              "      <td>0.026759</td>\n",
              "      <td>0.000000</td>\n",
              "      <td>2</td>\n",
              "      <td>1</td>\n",
              "      <td>0</td>\n",
              "      <td>1.000</td>\n",
              "      <td>0</td>\n",
              "      <td>0</td>\n",
              "      <td>12.0</td>\n",
              "      <td>0.000</td>\n",
              "      <td>1.00</td>\n",
              "      <td>1.00</td>\n",
              "      <td>0.049554</td>\n",
              "      <td>5</td>\n",
              "      <td>1</td>\n",
              "      <td>0</td>\n",
              "      <td>1.000</td>\n",
              "      <td>37</td>\n",
              "      <td>5</td>\n",
              "      <td>0.000498</td>\n",
              "      <td>197.000000</td>\n",
              "      <td>0</td>\n",
              "      <td>0</td>\n",
              "      <td>0.00</td>\n",
              "      <td>5.000</td>\n",
              "    </tr>\n",
              "    <tr>\n",
              "      <th>84662</th>\n",
              "      <td>5</td>\n",
              "      <td>0</td>\n",
              "      <td>0</td>\n",
              "      <td>4</td>\n",
              "      <td>1.61</td>\n",
              "      <td>1.39</td>\n",
              "      <td>0.00</td>\n",
              "      <td>0.00</td>\n",
              "      <td>100.00</td>\n",
              "      <td>6</td>\n",
              "      <td>1303.40</td>\n",
              "      <td>1</td>\n",
              "      <td>1.673320</td>\n",
              "      <td>0.000614</td>\n",
              "      <td>3.600</td>\n",
              "      <td>0.020715</td>\n",
              "      <td>1.496663</td>\n",
              "      <td>3</td>\n",
              "      <td>3</td>\n",
              "      <td>0</td>\n",
              "      <td>0.800</td>\n",
              "      <td>2</td>\n",
              "      <td>0</td>\n",
              "      <td>12.8</td>\n",
              "      <td>1.000</td>\n",
              "      <td>0.60</td>\n",
              "      <td>0.40</td>\n",
              "      <td>0.086515</td>\n",
              "      <td>5</td>\n",
              "      <td>1</td>\n",
              "      <td>0</td>\n",
              "      <td>1.400</td>\n",
              "      <td>14</td>\n",
              "      <td>18</td>\n",
              "      <td>0.001578</td>\n",
              "      <td>167.000000</td>\n",
              "      <td>1</td>\n",
              "      <td>0</td>\n",
              "      <td>1.25</td>\n",
              "      <td>3.600</td>\n",
              "    </tr>\n",
              "    <tr>\n",
              "      <th>50079</th>\n",
              "      <td>8</td>\n",
              "      <td>8</td>\n",
              "      <td>5</td>\n",
              "      <td>13</td>\n",
              "      <td>2.08</td>\n",
              "      <td>2.56</td>\n",
              "      <td>30.77</td>\n",
              "      <td>19.23</td>\n",
              "      <td>50.00</td>\n",
              "      <td>9</td>\n",
              "      <td>1047.50</td>\n",
              "      <td>2</td>\n",
              "      <td>1.281740</td>\n",
              "      <td>0.003103</td>\n",
              "      <td>3.750</td>\n",
              "      <td>0.030788</td>\n",
              "      <td>1.198958</td>\n",
              "      <td>3</td>\n",
              "      <td>8</td>\n",
              "      <td>0</td>\n",
              "      <td>3.250</td>\n",
              "      <td>0</td>\n",
              "      <td>0</td>\n",
              "      <td>5.5</td>\n",
              "      <td>1.125</td>\n",
              "      <td>1.00</td>\n",
              "      <td>0.25</td>\n",
              "      <td>0.137523</td>\n",
              "      <td>5</td>\n",
              "      <td>1</td>\n",
              "      <td>0</td>\n",
              "      <td>0.500</td>\n",
              "      <td>3</td>\n",
              "      <td>30</td>\n",
              "      <td>0.009861</td>\n",
              "      <td>91.552083</td>\n",
              "      <td>1</td>\n",
              "      <td>13</td>\n",
              "      <td>4.00</td>\n",
              "      <td>3.750</td>\n",
              "    </tr>\n",
              "  </tbody>\n",
              "</table>\n",
              "</div>"
            ],
            "text/plain": [
              "       q3  q4  q5  q6    q7  ...        q16y  q16z  q16aa  q16ab  q16ac\n",
              "47453   8   2   1   8  2.08  ...   91.072917     4      0   1.00  4.875\n",
              "53000   2   1   1   2  0.69  ...   46.500000     0      3   0.00  3.000\n",
              "64580   1   0   0   1  0.00  ...  197.000000     0      0   0.00  5.000\n",
              "84662   5   0   0   4  1.61  ...  167.000000     1      0   1.25  3.600\n",
              "50079   8   8   5  13  2.08  ...   91.552083     1     13   4.00  3.750\n",
              "\n",
              "[5 rows x 40 columns]"
            ]
          },
          "metadata": {},
          "execution_count": 106
        }
      ]
    },
    {
      "cell_type": "markdown",
      "metadata": {
        "deletable": false,
        "editable": false,
        "nbgrader": {
          "checksum": "7409a97cd6cc5a2203cb5953fd78951e",
          "grade": false,
          "grade_id": "cell-0bf07ed81b15a7c6",
          "locked": true,
          "schema_version": 1,
          "solution": false
        },
        "id": "AGnnilDI8Whl"
      },
      "source": [
        "Now, normalize the remaining values."
      ]
    },
    {
      "cell_type": "code",
      "metadata": {
        "deletable": false,
        "editable": false,
        "nbgrader": {
          "checksum": "d415896af702471cbf3bad5e3bbf2298",
          "grade": false,
          "grade_id": "cell-d0c0fa3af31b680b",
          "locked": true,
          "schema_version": 1,
          "solution": false
        },
        "id": "-tYTGviT8Whm",
        "colab": {
          "base_uri": "https://localhost:8080/",
          "height": 309
        },
        "outputId": "09d883c6-62fa-44fe-8ea9-4dd56e4bac3e"
      },
      "source": [
        "# YOUR CODE HERE\n",
        "normal_q9 = pd.DataFrame(normalize(nona_df))\n",
        "normal_q9.columns = nona_df.columns\n",
        "normal_q9.index = nona_df.index\n",
        "normal_q9.head()"
      ],
      "execution_count": 107,
      "outputs": [
        {
          "output_type": "execute_result",
          "data": {
            "text/html": [
              "<div>\n",
              "<style scoped>\n",
              "    .dataframe tbody tr th:only-of-type {\n",
              "        vertical-align: middle;\n",
              "    }\n",
              "\n",
              "    .dataframe tbody tr th {\n",
              "        vertical-align: top;\n",
              "    }\n",
              "\n",
              "    .dataframe thead th {\n",
              "        text-align: right;\n",
              "    }\n",
              "</style>\n",
              "<table border=\"1\" class=\"dataframe\">\n",
              "  <thead>\n",
              "    <tr style=\"text-align: right;\">\n",
              "      <th></th>\n",
              "      <th>q3</th>\n",
              "      <th>q4</th>\n",
              "      <th>q5</th>\n",
              "      <th>q6</th>\n",
              "      <th>q7</th>\n",
              "      <th>q10</th>\n",
              "      <th>q11</th>\n",
              "      <th>q12</th>\n",
              "      <th>q13</th>\n",
              "      <th>q14</th>\n",
              "      <th>q15</th>\n",
              "      <th>q16a</th>\n",
              "      <th>q16b</th>\n",
              "      <th>q16c</th>\n",
              "      <th>q16d</th>\n",
              "      <th>q16e</th>\n",
              "      <th>q16f</th>\n",
              "      <th>q16g</th>\n",
              "      <th>q16h</th>\n",
              "      <th>q16i</th>\n",
              "      <th>q16j</th>\n",
              "      <th>q16k</th>\n",
              "      <th>q16l</th>\n",
              "      <th>q16m</th>\n",
              "      <th>q16n</th>\n",
              "      <th>q16o</th>\n",
              "      <th>q16p</th>\n",
              "      <th>q16q</th>\n",
              "      <th>q16r</th>\n",
              "      <th>q16s</th>\n",
              "      <th>q16t</th>\n",
              "      <th>q16u</th>\n",
              "      <th>q16v</th>\n",
              "      <th>q16w</th>\n",
              "      <th>q16x</th>\n",
              "      <th>q16y</th>\n",
              "      <th>q16z</th>\n",
              "      <th>q16aa</th>\n",
              "      <th>q16ab</th>\n",
              "      <th>q16ac</th>\n",
              "    </tr>\n",
              "  </thead>\n",
              "  <tbody>\n",
              "    <tr>\n",
              "      <th>47453</th>\n",
              "      <td>0.011846</td>\n",
              "      <td>0.002962</td>\n",
              "      <td>0.001481</td>\n",
              "      <td>0.011846</td>\n",
              "      <td>0.003080</td>\n",
              "      <td>0.003080</td>\n",
              "      <td>0.026920</td>\n",
              "      <td>0.013460</td>\n",
              "      <td>0.107696</td>\n",
              "      <td>0.014808</td>\n",
              "      <td>0.982307</td>\n",
              "      <td>0.005923</td>\n",
              "      <td>0.000524</td>\n",
              "      <td>3.069224e-06</td>\n",
              "      <td>0.007219</td>\n",
              "      <td>0.000034</td>\n",
              "      <td>0.000490</td>\n",
              "      <td>0.002962</td>\n",
              "      <td>0.008885</td>\n",
              "      <td>0.0</td>\n",
              "      <td>0.002036</td>\n",
              "      <td>0.001481</td>\n",
              "      <td>0.0</td>\n",
              "      <td>0.006663</td>\n",
              "      <td>0.000185</td>\n",
              "      <td>0.001111</td>\n",
              "      <td>0.001481</td>\n",
              "      <td>0.000285</td>\n",
              "      <td>0.007404</td>\n",
              "      <td>0.001481</td>\n",
              "      <td>0.0</td>\n",
              "      <td>0.000555</td>\n",
              "      <td>0.011846</td>\n",
              "      <td>0.057750</td>\n",
              "      <td>2.598808e-06</td>\n",
              "      <td>0.134857</td>\n",
              "      <td>0.005923</td>\n",
              "      <td>0.000000</td>\n",
              "      <td>0.001481</td>\n",
              "      <td>0.007219</td>\n",
              "    </tr>\n",
              "    <tr>\n",
              "      <th>53000</th>\n",
              "      <td>0.003713</td>\n",
              "      <td>0.001856</td>\n",
              "      <td>0.001856</td>\n",
              "      <td>0.003713</td>\n",
              "      <td>0.001281</td>\n",
              "      <td>0.001281</td>\n",
              "      <td>0.046410</td>\n",
              "      <td>0.046410</td>\n",
              "      <td>0.092820</td>\n",
              "      <td>0.018564</td>\n",
              "      <td>0.988537</td>\n",
              "      <td>0.000000</td>\n",
              "      <td>0.002625</td>\n",
              "      <td>6.972421e-06</td>\n",
              "      <td>0.005569</td>\n",
              "      <td>0.000045</td>\n",
              "      <td>0.001856</td>\n",
              "      <td>0.000000</td>\n",
              "      <td>0.000000</td>\n",
              "      <td>0.0</td>\n",
              "      <td>0.003713</td>\n",
              "      <td>0.001856</td>\n",
              "      <td>0.0</td>\n",
              "      <td>0.010210</td>\n",
              "      <td>0.000000</td>\n",
              "      <td>0.000000</td>\n",
              "      <td>0.000000</td>\n",
              "      <td>0.000381</td>\n",
              "      <td>0.003713</td>\n",
              "      <td>0.001856</td>\n",
              "      <td>0.0</td>\n",
              "      <td>0.001856</td>\n",
              "      <td>0.040841</td>\n",
              "      <td>0.011138</td>\n",
              "      <td>0.000000e+00</td>\n",
              "      <td>0.086323</td>\n",
              "      <td>0.000000</td>\n",
              "      <td>0.005569</td>\n",
              "      <td>0.000000</td>\n",
              "      <td>0.005569</td>\n",
              "    </tr>\n",
              "    <tr>\n",
              "      <th>64580</th>\n",
              "      <td>0.000492</td>\n",
              "      <td>0.000000</td>\n",
              "      <td>0.000000</td>\n",
              "      <td>0.000492</td>\n",
              "      <td>0.000000</td>\n",
              "      <td>0.000000</td>\n",
              "      <td>0.000000</td>\n",
              "      <td>0.000000</td>\n",
              "      <td>0.049250</td>\n",
              "      <td>0.002462</td>\n",
              "      <td>0.993862</td>\n",
              "      <td>0.000000</td>\n",
              "      <td>0.000000</td>\n",
              "      <td>2.440526e-07</td>\n",
              "      <td>0.002462</td>\n",
              "      <td>0.000013</td>\n",
              "      <td>0.000000</td>\n",
              "      <td>0.000985</td>\n",
              "      <td>0.000492</td>\n",
              "      <td>0.0</td>\n",
              "      <td>0.000492</td>\n",
              "      <td>0.000000</td>\n",
              "      <td>0.0</td>\n",
              "      <td>0.005910</td>\n",
              "      <td>0.000000</td>\n",
              "      <td>0.000492</td>\n",
              "      <td>0.000492</td>\n",
              "      <td>0.000024</td>\n",
              "      <td>0.002462</td>\n",
              "      <td>0.000492</td>\n",
              "      <td>0.0</td>\n",
              "      <td>0.000492</td>\n",
              "      <td>0.018222</td>\n",
              "      <td>0.002462</td>\n",
              "      <td>2.450238e-07</td>\n",
              "      <td>0.097022</td>\n",
              "      <td>0.000000</td>\n",
              "      <td>0.000000</td>\n",
              "      <td>0.000000</td>\n",
              "      <td>0.002462</td>\n",
              "    </tr>\n",
              "    <tr>\n",
              "      <th>84662</th>\n",
              "      <td>0.003793</td>\n",
              "      <td>0.000000</td>\n",
              "      <td>0.000000</td>\n",
              "      <td>0.003034</td>\n",
              "      <td>0.001221</td>\n",
              "      <td>0.001054</td>\n",
              "      <td>0.000000</td>\n",
              "      <td>0.000000</td>\n",
              "      <td>0.075862</td>\n",
              "      <td>0.004552</td>\n",
              "      <td>0.988789</td>\n",
              "      <td>0.000759</td>\n",
              "      <td>0.001269</td>\n",
              "      <td>4.656269e-07</td>\n",
              "      <td>0.002731</td>\n",
              "      <td>0.000016</td>\n",
              "      <td>0.001135</td>\n",
              "      <td>0.002276</td>\n",
              "      <td>0.002276</td>\n",
              "      <td>0.0</td>\n",
              "      <td>0.000607</td>\n",
              "      <td>0.001517</td>\n",
              "      <td>0.0</td>\n",
              "      <td>0.009710</td>\n",
              "      <td>0.000759</td>\n",
              "      <td>0.000455</td>\n",
              "      <td>0.000303</td>\n",
              "      <td>0.000066</td>\n",
              "      <td>0.003793</td>\n",
              "      <td>0.000759</td>\n",
              "      <td>0.0</td>\n",
              "      <td>0.001062</td>\n",
              "      <td>0.010621</td>\n",
              "      <td>0.013655</td>\n",
              "      <td>1.197059e-06</td>\n",
              "      <td>0.126690</td>\n",
              "      <td>0.000759</td>\n",
              "      <td>0.000000</td>\n",
              "      <td>0.000948</td>\n",
              "      <td>0.002731</td>\n",
              "    </tr>\n",
              "    <tr>\n",
              "      <th>50079</th>\n",
              "      <td>0.007589</td>\n",
              "      <td>0.007589</td>\n",
              "      <td>0.004743</td>\n",
              "      <td>0.012333</td>\n",
              "      <td>0.001973</td>\n",
              "      <td>0.002429</td>\n",
              "      <td>0.029191</td>\n",
              "      <td>0.018243</td>\n",
              "      <td>0.047434</td>\n",
              "      <td>0.008538</td>\n",
              "      <td>0.993732</td>\n",
              "      <td>0.001897</td>\n",
              "      <td>0.001216</td>\n",
              "      <td>2.943369e-06</td>\n",
              "      <td>0.003558</td>\n",
              "      <td>0.000029</td>\n",
              "      <td>0.001137</td>\n",
              "      <td>0.002846</td>\n",
              "      <td>0.007589</td>\n",
              "      <td>0.0</td>\n",
              "      <td>0.003083</td>\n",
              "      <td>0.000000</td>\n",
              "      <td>0.0</td>\n",
              "      <td>0.005218</td>\n",
              "      <td>0.001067</td>\n",
              "      <td>0.000949</td>\n",
              "      <td>0.000237</td>\n",
              "      <td>0.000130</td>\n",
              "      <td>0.004743</td>\n",
              "      <td>0.000949</td>\n",
              "      <td>0.0</td>\n",
              "      <td>0.000474</td>\n",
              "      <td>0.002846</td>\n",
              "      <td>0.028460</td>\n",
              "      <td>9.355191e-06</td>\n",
              "      <td>0.086853</td>\n",
              "      <td>0.000949</td>\n",
              "      <td>0.012333</td>\n",
              "      <td>0.003795</td>\n",
              "      <td>0.003558</td>\n",
              "    </tr>\n",
              "  </tbody>\n",
              "</table>\n",
              "</div>"
            ],
            "text/plain": [
              "             q3        q4        q5  ...     q16aa     q16ab     q16ac\n",
              "47453  0.011846  0.002962  0.001481  ...  0.000000  0.001481  0.007219\n",
              "53000  0.003713  0.001856  0.001856  ...  0.005569  0.000000  0.005569\n",
              "64580  0.000492  0.000000  0.000000  ...  0.000000  0.000000  0.002462\n",
              "84662  0.003793  0.000000  0.000000  ...  0.000000  0.000948  0.002731\n",
              "50079  0.007589  0.007589  0.004743  ...  0.012333  0.003795  0.003558\n",
              "\n",
              "[5 rows x 40 columns]"
            ]
          },
          "metadata": {},
          "execution_count": 107
        }
      ]
    },
    {
      "cell_type": "markdown",
      "metadata": {
        "deletable": false,
        "editable": false,
        "nbgrader": {
          "checksum": "26e9bec01f855d44456f65879afa7ccf",
          "grade": false,
          "grade_id": "cell-be1b2a4ecbcb5558",
          "locked": true,
          "schema_version": 1,
          "solution": false
        },
        "id": "jSJjHlsc8Wht"
      },
      "source": [
        "Using the the `sum of within cluster variance` metric with the elbow method, what was the best k?"
      ]
    },
    {
      "cell_type": "code",
      "metadata": {
        "deletable": false,
        "nbgrader": {
          "checksum": "3971d6b7067c2e2b586a79b0fca34252",
          "grade": true,
          "grade_id": "cell-f49f54902337159c",
          "locked": false,
          "points": 2,
          "schema_version": 1,
          "solution": true
        },
        "id": "HoZOPumL8Whv",
        "colab": {
          "base_uri": "https://localhost:8080/",
          "height": 316
        },
        "outputId": "0822c407-be4f-4fbc-f740-209ff30b39fa"
      },
      "source": [
        "# YOUR CODE HERE\n",
        "saved = []\n",
        "X=range(1,10)\n",
        "for k in X:\n",
        "  kmean = KMeans(n_clusters=k, random_state=42)\n",
        "  kmean.fit(normal_q9)\n",
        "  saved.append(kmean.inertia_/normal_q9.shape[0])\n",
        "plt.plot(X,saved,'bx-')\n",
        "plt.xlabel('k')\n",
        "plt.ylabel('variance in cluster sum')\n",
        "plt.title('Elbow method')\n",
        "plt.show()\n",
        "print('Best K equal 2')\n",
        "\n",
        "#raise NotImplementedError()"
      ],
      "execution_count": 111,
      "outputs": [
        {
          "output_type": "display_data",
          "data": {
            "image/png": "[encoded data removed]",
            "text/plain": [
              "<Figure size 432x288 with 1 Axes>"
            ]
          },
          "metadata": {}
        },
        {
          "output_type": "stream",
          "name": "stdout",
          "text": [
            "Best K equal 2\n"
          ]
        }
      ]
    },
    {
      "cell_type": "code",
      "metadata": {
        "id": "6LJ4rsSukkKr"
      },
      "source": [
        "df = pd.read_csv('yelp_reviewers.csv', delimiter= ',')\n",
        "df = df.sample(frac=0.3, random_state=42)"
      ],
      "execution_count": 104,
      "outputs": []
    },
    {
      "cell_type": "markdown",
      "metadata": {
        "deletable": false,
        "editable": false,
        "nbgrader": {
          "checksum": "78e8416b2c9c63fb2e91cc747a982eb9",
          "grade": false,
          "grade_id": "cell-ed56b09f2baf02c7",
          "locked": true,
          "schema_version": 1,
          "solution": false
        },
        "id": "_-cRpVgA8Wh2"
      },
      "source": [
        "### Question 10 `(1 points)`\n",
        "**This question will be manually graded.**\n",
        "\n",
        "For this question, please come up with your own question about this dataset and using a clustering technique as part of your method of answering it. Describe in short the question, and how clustering can answer that question. Feel free to use additional cells.\n"
      ]
    },
    {
      "cell_type": "markdown",
      "metadata": {
        "id": "T-KCZ6HnELl_"
      },
      "source": [
        "Double click to enter your answer."
      ]
    },
    {
      "cell_type": "code",
      "metadata": {
        "deletable": false,
        "nbgrader": {
          "checksum": "5ec519964252120ba10b8ea5633da3d3",
          "grade": true,
          "grade_id": "cell-01090109d82adc22",
          "locked": false,
          "points": 1,
          "schema_version": 1,
          "solution": true
        },
        "id": "vGcMVdVM8Wh6",
        "colab": {
          "base_uri": "https://localhost:8080/"
        },
        "outputId": "9658cdb9-65e9-41a4-8a46-fa73d502778b"
      },
      "source": [
        "# YOUR CODE HERE\n",
        "#I decided to explore the relationship between average characters length and average star reviews.\n",
        "#I was curious to see if longer or shorter reviews get more stars or if these two variables are unrelated.\n",
        "#To explore my question I will use the kmeans approach to analyze these variables and see if they display meaningful clusters.\n",
        "#More specifically I intend to check if the centroids are located in similar areas (ie lots/few of stars for long/short reviews).\n",
        "def q10(df):\n",
        "    df['q15'].dropna()\n",
        "    df['q16ac'].dropna()\n",
        "    X = df[['q15','q16ac']].to_numpy()\n",
        "    best = 0\n",
        "    high = -10\n",
        "    for k in range(2, 9):\n",
        "      kmeans = KMeans(n_clusters=k, random_state=42)\n",
        "      kmeans.fit(X)\n",
        "      current = silhouette_score(X, kmeans.labels_)\n",
        "      if current>high:\n",
        "        best = k\n",
        "        high=current\n",
        "    kmeanq5 = KMeans(n_clusters=best, random_state=42)\n",
        "    kmeanq5.fit(X)\n",
        "    for i in range(0,best):\n",
        "      centroids = kmeanq5.cluster_centers_[i]\n",
        "      print(centroids)\n",
        "    return kmeanq5.cluster_centers_\n",
        "print(q10(df))\n",
        "#raise NotImplementedError()"
      ],
      "execution_count": 86,
      "outputs": [
        {
          "output_type": "stream",
          "name": "stdout",
          "text": [
            "[421.68891405   3.68064189]\n",
            "[1546.46868741    3.12635245]\n",
            "[[ 421.68891405    3.68064189]\n",
            " [1546.46868741    3.12635245]]\n"
          ]
        }
      ]
    },
    {
      "cell_type": "markdown",
      "metadata": {
        "deletable": false,
        "editable": false,
        "nbgrader": {
          "checksum": "47c18987b74081b9f0e201d36229f33d",
          "grade": false,
          "grade_id": "cell-b549ed2cba475bb7",
          "locked": true,
          "schema_version": 1,
          "solution": false
        },
        "id": "Ylv6UWqm8WiC"
      },
      "source": [
        "## Bonus question (`2 Points`) - Reviewer overlap:\n",
        "- Download last week's dataset\n",
        "- Aggregate cool, funny and useful votes for each business id\n",
        "- You may transform the aggregations (take %, log, or leave it as it is)\n",
        "- Cluster this dataframe (you can choose k). Do you find any meaningful/interesting clusters?\n",
        "- Assign the cluster label to each business id\n",
        "- Merge this with users to show what clusters the reviewers have reviewed. (You may need to use the pivot function) "
      ]
    },
    {
      "cell_type": "code",
      "metadata": {
        "deletable": false,
        "nbgrader": {
          "checksum": "b07907c97fe5a173c8ed578ba3d2876b",
          "grade": true,
          "grade_id": "cell-33aa50b382e692ca",
          "locked": false,
          "points": 2,
          "schema_version": 1,
          "solution": true
        },
        "id": "j319ReI98WiH"
      },
      "source": [
        "# YOUR CODE HERE\n",
        "raise NotImplementedError()"
      ],
      "execution_count": null,
      "outputs": []
    }
  ]
}