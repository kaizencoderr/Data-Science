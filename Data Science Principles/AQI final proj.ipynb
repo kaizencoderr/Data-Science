{
 "cells": [
  {
   "cell_type": "code",
   "execution_count": 1,
   "id": "497b6978",
   "metadata": {
    "deletable": false,
    "editable": false
   },
   "outputs": [],
   "source": [
    "# Initialize Otter\n",
    "import otter\n",
    "grader = otter.Notebook(\"AQI.ipynb\")"
   ]
  },
  {
   "cell_type": "markdown",
   "id": "3c611a37",
   "metadata": {},
   "source": [
    "# Final Project: Air Quality Dataset\n",
    "## Analyzing and Predicting AQI Data through Modeling\n",
    "## Due Date: Thursday, December 17th, 11:59 PM\n",
    "## Collaboration Policy\n",
    "\n",
    "Data science is a collaborative activity. While you may talk with other groups about\n",
    "the project, we ask that you **write your solutions individually**. If you do\n",
    "discuss the assignments with others outside of your group please **include their names** at the top\n",
    "of your notebook."
   ]
  },
  {
   "cell_type": "markdown",
   "id": "299ff619",
   "metadata": {},
   "source": [
    "## This Assignment\n",
    "\n",
    "In this final project, we will investigate AQI data for the year 2020 from **USA EPA** data. All the data used for this project can be accessed from the [EPA Website](https://aqs.epa.gov/aqsweb/airdata/download_files.html), which we will pull from directly in this notebook. This dataset contains geographical and time-series data on various factors that contribute to AQI from all government sites. The main goal at the end for you will be to understand how AQI varies both geographically and over time, and use your analysis (as well as other data that you can find) to be predict AQI at a certain point in time for various locations in California.\n",
    "\n",
    "Through this final project, you will demonstrate your experience with:\n",
    "* EDA and merging on location using Pandas\n",
    "* Unsupervised and supervised learning techniques\n",
    "* Visualization and interpolation\n",
    "\n",
    "This is **part 1** of the project, which includes the data cleaning, guided EDA and open-ended EDA components of the project. This will help you for part 2, where you will be completing the modeling component. "
   ]
  },
  {
   "cell_type": "code",
   "execution_count": 2,
   "id": "5e624bff",
   "metadata": {},
   "outputs": [],
   "source": [
    "import pandas as pd\n",
    "import numpy as np\n",
    "import seaborn as sns\n",
    "import matplotlib.pyplot as plt\n",
    "import re\n",
    "import geopandas as gpd\n",
    "\n",
    "import os\n",
    "import requests, zipfile, io\n",
    "\n",
    "import warnings\n",
    "warnings.filterwarnings('ignore')"
   ]
  },
  {
   "cell_type": "markdown",
   "id": "105f2ec9",
   "metadata": {},
   "source": [
    "<br/><br/>\n",
    "\n",
    "---\n",
    "## Section 1: Data Cleaning\n",
    "\n",
    "As mentioned, we will be using the **US EPA** data from the EPA website. Below is a dataframe of the files we will be using for the project. The following two cells will download the data and put it into a dictionary called `epa_data`."
   ]
  },
  {
   "cell_type": "code",
   "execution_count": 3,
   "id": "c875d9e9",
   "metadata": {},
   "outputs": [
    {
     "data": {
      "text/html": [
       "<div>\n",
       "<style scoped>\n",
       "    .dataframe tbody tr th:only-of-type {\n",
       "        vertical-align: middle;\n",
       "    }\n",
       "\n",
       "    .dataframe tbody tr th {\n",
       "        vertical-align: top;\n",
       "    }\n",
       "\n",
       "    .dataframe thead th {\n",
       "        text-align: right;\n",
       "    }\n",
       "</style>\n",
       "<table border=\"1\" class=\"dataframe\">\n",
       "  <thead>\n",
       "    <tr style=\"text-align: right;\">\n",
       "      <th></th>\n",
       "      <th>name</th>\n",
       "      <th>epa_filename</th>\n",
       "    </tr>\n",
       "  </thead>\n",
       "  <tbody>\n",
       "    <tr>\n",
       "      <th>0</th>\n",
       "      <td>annual_county_aqi</td>\n",
       "      <td>annual_aqi_by_county_2020</td>\n",
       "    </tr>\n",
       "    <tr>\n",
       "      <th>1</th>\n",
       "      <td>daily_county_aqi</td>\n",
       "      <td>daily_aqi_by_county_2020</td>\n",
       "    </tr>\n",
       "    <tr>\n",
       "      <th>2</th>\n",
       "      <td>daily_ozone</td>\n",
       "      <td>daily_44201_2020</td>\n",
       "    </tr>\n",
       "    <tr>\n",
       "      <th>3</th>\n",
       "      <td>daily_so2</td>\n",
       "      <td>daily_42401_2020</td>\n",
       "    </tr>\n",
       "    <tr>\n",
       "      <th>4</th>\n",
       "      <td>daily_co</td>\n",
       "      <td>daily_42101_2020</td>\n",
       "    </tr>\n",
       "    <tr>\n",
       "      <th>5</th>\n",
       "      <td>daily_no2</td>\n",
       "      <td>daily_42602_2020</td>\n",
       "    </tr>\n",
       "    <tr>\n",
       "      <th>6</th>\n",
       "      <td>daily_temp</td>\n",
       "      <td>daily_WIND_2020</td>\n",
       "    </tr>\n",
       "    <tr>\n",
       "      <th>7</th>\n",
       "      <td>daily_wind</td>\n",
       "      <td>daily_TEMP_2020</td>\n",
       "    </tr>\n",
       "    <tr>\n",
       "      <th>8</th>\n",
       "      <td>aqs_sites</td>\n",
       "      <td>aqs_sites</td>\n",
       "    </tr>\n",
       "  </tbody>\n",
       "</table>\n",
       "</div>"
      ],
      "text/plain": [
       "                name               epa_filename\n",
       "0  annual_county_aqi  annual_aqi_by_county_2020\n",
       "1   daily_county_aqi   daily_aqi_by_county_2020\n",
       "2        daily_ozone           daily_44201_2020\n",
       "3          daily_so2           daily_42401_2020\n",
       "4           daily_co           daily_42101_2020\n",
       "5          daily_no2           daily_42602_2020\n",
       "6         daily_temp            daily_WIND_2020\n",
       "7         daily_wind            daily_TEMP_2020\n",
       "8          aqs_sites                  aqs_sites"
      ]
     },
     "execution_count": 3,
     "metadata": {},
     "output_type": "execute_result"
    }
   ],
   "source": [
    "epa_weburl = \"https://web.archive.org/web/20211118232504/https://aqs.epa.gov/aqsweb/airdata/\"\n",
    "epa_filenames = pd.read_csv(\"data/epa_filenames.csv\")\n",
    "epa_filenames"
   ]
  },
  {
   "cell_type": "markdown",
   "id": "37d5a045",
   "metadata": {},
   "source": [
    "Below is code that we used to extract the code from the AQI website, which we encourage you to understand! This will pull directly from the website urls and put it into your `data/` folder. "
   ]
  },
  {
   "cell_type": "code",
   "execution_count": 4,
   "id": "45792402",
   "metadata": {},
   "outputs": [],
   "source": [
    "epa_data = {}\n",
    "for name, filename in zip(epa_filenames['name'], epa_filenames['epa_filename']):\n",
    "    path_name = 'data/{}'.format(name)\n",
    "    # if not os.path.isdir(path_name): \n",
    "    data_url = '{}{}.zip'.format(epa_weburl, filename)\n",
    "    req = requests.get(data_url)\n",
    "    z = zipfile.ZipFile(io.BytesIO(req.content))\n",
    "    z.extractall(path_name)\n",
    "    data = pd.read_csv(f'data/{name}/{filename}.csv')\n",
    "    epa_data[name] = data"
   ]
  },
  {
   "cell_type": "markdown",
   "id": "f86fef96",
   "metadata": {},
   "source": [
    "Use the below cell to explore each of the datasets, which can be accessed using the keys in the `name` column of `epa_filenames` above. Currently, the cell is viewing the `annual_county_aqi` dataset, but feel free to change it to whichever dataset you want to explore. "
   ]
  },
  {
   "cell_type": "code",
   "execution_count": 5,
   "id": "4a83d60d",
   "metadata": {},
   "outputs": [
    {
     "data": {
      "text/html": [
       "<div>\n",
       "<style scoped>\n",
       "    .dataframe tbody tr th:only-of-type {\n",
       "        vertical-align: middle;\n",
       "    }\n",
       "\n",
       "    .dataframe tbody tr th {\n",
       "        vertical-align: top;\n",
       "    }\n",
       "\n",
       "    .dataframe thead th {\n",
       "        text-align: right;\n",
       "    }\n",
       "</style>\n",
       "<table border=\"1\" class=\"dataframe\">\n",
       "  <thead>\n",
       "    <tr style=\"text-align: right;\">\n",
       "      <th></th>\n",
       "      <th>State</th>\n",
       "      <th>County</th>\n",
       "      <th>Year</th>\n",
       "      <th>Days with AQI</th>\n",
       "      <th>Good Days</th>\n",
       "      <th>Moderate Days</th>\n",
       "      <th>Unhealthy for Sensitive Groups Days</th>\n",
       "      <th>Unhealthy Days</th>\n",
       "      <th>Very Unhealthy Days</th>\n",
       "      <th>Hazardous Days</th>\n",
       "      <th>Max AQI</th>\n",
       "      <th>90th Percentile AQI</th>\n",
       "      <th>Median AQI</th>\n",
       "      <th>Days CO</th>\n",
       "      <th>Days NO2</th>\n",
       "      <th>Days Ozone</th>\n",
       "      <th>Days SO2</th>\n",
       "      <th>Days PM2.5</th>\n",
       "      <th>Days PM10</th>\n",
       "    </tr>\n",
       "  </thead>\n",
       "  <tbody>\n",
       "    <tr>\n",
       "      <th>0</th>\n",
       "      <td>Alabama</td>\n",
       "      <td>Baldwin</td>\n",
       "      <td>2020</td>\n",
       "      <td>269</td>\n",
       "      <td>250</td>\n",
       "      <td>19</td>\n",
       "      <td>0</td>\n",
       "      <td>0</td>\n",
       "      <td>0</td>\n",
       "      <td>0</td>\n",
       "      <td>74</td>\n",
       "      <td>49</td>\n",
       "      <td>36</td>\n",
       "      <td>0</td>\n",
       "      <td>0</td>\n",
       "      <td>198</td>\n",
       "      <td>0</td>\n",
       "      <td>71</td>\n",
       "      <td>0</td>\n",
       "    </tr>\n",
       "    <tr>\n",
       "      <th>1</th>\n",
       "      <td>Alabama</td>\n",
       "      <td>Clay</td>\n",
       "      <td>2020</td>\n",
       "      <td>108</td>\n",
       "      <td>99</td>\n",
       "      <td>9</td>\n",
       "      <td>0</td>\n",
       "      <td>0</td>\n",
       "      <td>0</td>\n",
       "      <td>0</td>\n",
       "      <td>86</td>\n",
       "      <td>49</td>\n",
       "      <td>26</td>\n",
       "      <td>0</td>\n",
       "      <td>0</td>\n",
       "      <td>0</td>\n",
       "      <td>0</td>\n",
       "      <td>108</td>\n",
       "      <td>0</td>\n",
       "    </tr>\n",
       "    <tr>\n",
       "      <th>2</th>\n",
       "      <td>Alabama</td>\n",
       "      <td>DeKalb</td>\n",
       "      <td>2020</td>\n",
       "      <td>364</td>\n",
       "      <td>350</td>\n",
       "      <td>14</td>\n",
       "      <td>0</td>\n",
       "      <td>0</td>\n",
       "      <td>0</td>\n",
       "      <td>0</td>\n",
       "      <td>90</td>\n",
       "      <td>45</td>\n",
       "      <td>36</td>\n",
       "      <td>0</td>\n",
       "      <td>0</td>\n",
       "      <td>331</td>\n",
       "      <td>0</td>\n",
       "      <td>33</td>\n",
       "      <td>0</td>\n",
       "    </tr>\n",
       "    <tr>\n",
       "      <th>3</th>\n",
       "      <td>Alabama</td>\n",
       "      <td>Elmore</td>\n",
       "      <td>2020</td>\n",
       "      <td>197</td>\n",
       "      <td>197</td>\n",
       "      <td>0</td>\n",
       "      <td>0</td>\n",
       "      <td>0</td>\n",
       "      <td>0</td>\n",
       "      <td>0</td>\n",
       "      <td>47</td>\n",
       "      <td>41</td>\n",
       "      <td>31</td>\n",
       "      <td>0</td>\n",
       "      <td>0</td>\n",
       "      <td>197</td>\n",
       "      <td>0</td>\n",
       "      <td>0</td>\n",
       "      <td>0</td>\n",
       "    </tr>\n",
       "    <tr>\n",
       "      <th>4</th>\n",
       "      <td>Alabama</td>\n",
       "      <td>Etowah</td>\n",
       "      <td>2020</td>\n",
       "      <td>278</td>\n",
       "      <td>260</td>\n",
       "      <td>18</td>\n",
       "      <td>0</td>\n",
       "      <td>0</td>\n",
       "      <td>0</td>\n",
       "      <td>0</td>\n",
       "      <td>92</td>\n",
       "      <td>46</td>\n",
       "      <td>34</td>\n",
       "      <td>0</td>\n",
       "      <td>0</td>\n",
       "      <td>204</td>\n",
       "      <td>0</td>\n",
       "      <td>74</td>\n",
       "      <td>0</td>\n",
       "    </tr>\n",
       "  </tbody>\n",
       "</table>\n",
       "</div>"
      ],
      "text/plain": [
       "     State   County  Year  Days with AQI  Good Days  Moderate Days  \\\n",
       "0  Alabama  Baldwin  2020            269        250             19   \n",
       "1  Alabama     Clay  2020            108         99              9   \n",
       "2  Alabama   DeKalb  2020            364        350             14   \n",
       "3  Alabama   Elmore  2020            197        197              0   \n",
       "4  Alabama   Etowah  2020            278        260             18   \n",
       "\n",
       "   Unhealthy for Sensitive Groups Days  Unhealthy Days  Very Unhealthy Days  \\\n",
       "0                                    0               0                    0   \n",
       "1                                    0               0                    0   \n",
       "2                                    0               0                    0   \n",
       "3                                    0               0                    0   \n",
       "4                                    0               0                    0   \n",
       "\n",
       "   Hazardous Days  Max AQI  90th Percentile AQI  Median AQI  Days CO  \\\n",
       "0               0       74                   49          36        0   \n",
       "1               0       86                   49          26        0   \n",
       "2               0       90                   45          36        0   \n",
       "3               0       47                   41          31        0   \n",
       "4               0       92                   46          34        0   \n",
       "\n",
       "   Days NO2  Days Ozone  Days SO2  Days PM2.5  Days PM10  \n",
       "0         0         198         0          71          0  \n",
       "1         0           0         0         108          0  \n",
       "2         0         331         0          33          0  \n",
       "3         0         197         0           0          0  \n",
       "4         0         204         0          74          0  "
      ]
     },
     "execution_count": 5,
     "metadata": {},
     "output_type": "execute_result"
    }
   ],
   "source": [
    "epa_data.get('annual_county_aqi').head()"
   ]
  },
  {
   "cell_type": "markdown",
   "id": "bb2e3c82",
   "metadata": {
    "deletable": false,
    "editable": false
   },
   "source": [
    "<!-- BEGIN QUESTION -->\n",
    "\n",
    "<br/>\n",
    "\n",
    "### Question 0: Understanding the Data\n",
    "\n",
    "Notice that for the table `annual_county_aqi`, the 90th percentile AQI is reported as a column. Why would the 90th percentile AQI be useful as opposed to the maximum? What does it mean when the difference between the 90th percentile AQI and Max AQI is very large compared to the difference between the 90th percentile AQI and the median AQI?\n",
    "\n",
    "<!--\n",
    "BEGIN QUESTION\n",
    "name: q0\n",
    "manual: True\n",
    "points: 2\n",
    "-->"
   ]
  },
  {
   "cell_type": "markdown",
   "id": "09a64f72",
   "metadata": {},
   "source": [
    "_It means that there are many outlier values when it comes to AQI, which may heavily skew our modeling._"
   ]
  },
  {
   "cell_type": "markdown",
   "id": "f81fa62f",
   "metadata": {
    "deletable": false,
    "editable": false
   },
   "source": [
    "<!-- END QUESTION -->\n",
    "\n",
    "<br/>\n",
    "\n",
    "### Question 1a: Creating Month and Day Columns\n",
    "\n",
    "In the `daily_county_aqi` table in `epa_data`, add two new columns called `Day` and `Month` that denote the day and month, respectively, of the AQI reading. The day and month should both be reported as an **integer** as opposed to a string (`Jan`, `Feb`, etc.)\n",
    "\n",
    "hint: `pd.to_datetime` may be useful.\n",
    "\n",
    "<!--\n",
    "BEGIN QUESTION\n",
    "name: q1a\n",
    "points: 1\n",
    "-->"
   ]
  },
  {
   "cell_type": "code",
   "execution_count": 6,
   "id": "e3287b23",
   "metadata": {},
   "outputs": [
    {
     "data": {
      "text/html": [
       "<div>\n",
       "<style scoped>\n",
       "    .dataframe tbody tr th:only-of-type {\n",
       "        vertical-align: middle;\n",
       "    }\n",
       "\n",
       "    .dataframe tbody tr th {\n",
       "        vertical-align: top;\n",
       "    }\n",
       "\n",
       "    .dataframe thead th {\n",
       "        text-align: right;\n",
       "    }\n",
       "</style>\n",
       "<table border=\"1\" class=\"dataframe\">\n",
       "  <thead>\n",
       "    <tr style=\"text-align: right;\">\n",
       "      <th></th>\n",
       "      <th>State Name</th>\n",
       "      <th>county Name</th>\n",
       "      <th>State Code</th>\n",
       "      <th>County Code</th>\n",
       "      <th>Date</th>\n",
       "      <th>AQI</th>\n",
       "      <th>Category</th>\n",
       "      <th>Defining Parameter</th>\n",
       "      <th>Defining Site</th>\n",
       "      <th>Number of Sites Reporting</th>\n",
       "      <th>Month</th>\n",
       "      <th>Day</th>\n",
       "    </tr>\n",
       "  </thead>\n",
       "  <tbody>\n",
       "    <tr>\n",
       "      <th>0</th>\n",
       "      <td>Alabama</td>\n",
       "      <td>Baldwin</td>\n",
       "      <td>1</td>\n",
       "      <td>3</td>\n",
       "      <td>2020-01-01</td>\n",
       "      <td>48</td>\n",
       "      <td>Good</td>\n",
       "      <td>PM2.5</td>\n",
       "      <td>01-003-0010</td>\n",
       "      <td>1</td>\n",
       "      <td>1</td>\n",
       "      <td>1</td>\n",
       "    </tr>\n",
       "    <tr>\n",
       "      <th>1</th>\n",
       "      <td>Alabama</td>\n",
       "      <td>Baldwin</td>\n",
       "      <td>1</td>\n",
       "      <td>3</td>\n",
       "      <td>2020-01-04</td>\n",
       "      <td>13</td>\n",
       "      <td>Good</td>\n",
       "      <td>PM2.5</td>\n",
       "      <td>01-003-0010</td>\n",
       "      <td>1</td>\n",
       "      <td>1</td>\n",
       "      <td>1</td>\n",
       "    </tr>\n",
       "    <tr>\n",
       "      <th>2</th>\n",
       "      <td>Alabama</td>\n",
       "      <td>Baldwin</td>\n",
       "      <td>1</td>\n",
       "      <td>3</td>\n",
       "      <td>2020-01-07</td>\n",
       "      <td>14</td>\n",
       "      <td>Good</td>\n",
       "      <td>PM2.5</td>\n",
       "      <td>01-003-0010</td>\n",
       "      <td>1</td>\n",
       "      <td>1</td>\n",
       "      <td>1</td>\n",
       "    </tr>\n",
       "    <tr>\n",
       "      <th>3</th>\n",
       "      <td>Alabama</td>\n",
       "      <td>Baldwin</td>\n",
       "      <td>1</td>\n",
       "      <td>3</td>\n",
       "      <td>2020-01-10</td>\n",
       "      <td>39</td>\n",
       "      <td>Good</td>\n",
       "      <td>PM2.5</td>\n",
       "      <td>01-003-0010</td>\n",
       "      <td>1</td>\n",
       "      <td>1</td>\n",
       "      <td>1</td>\n",
       "    </tr>\n",
       "    <tr>\n",
       "      <th>4</th>\n",
       "      <td>Alabama</td>\n",
       "      <td>Baldwin</td>\n",
       "      <td>1</td>\n",
       "      <td>3</td>\n",
       "      <td>2020-01-13</td>\n",
       "      <td>29</td>\n",
       "      <td>Good</td>\n",
       "      <td>PM2.5</td>\n",
       "      <td>01-003-0010</td>\n",
       "      <td>1</td>\n",
       "      <td>1</td>\n",
       "      <td>1</td>\n",
       "    </tr>\n",
       "  </tbody>\n",
       "</table>\n",
       "</div>"
      ],
      "text/plain": [
       "  State Name county Name  State Code  County Code        Date  AQI Category  \\\n",
       "0    Alabama     Baldwin           1            3  2020-01-01   48     Good   \n",
       "1    Alabama     Baldwin           1            3  2020-01-04   13     Good   \n",
       "2    Alabama     Baldwin           1            3  2020-01-07   14     Good   \n",
       "3    Alabama     Baldwin           1            3  2020-01-10   39     Good   \n",
       "4    Alabama     Baldwin           1            3  2020-01-13   29     Good   \n",
       "\n",
       "  Defining Parameter Defining Site  Number of Sites Reporting  Month  Day  \n",
       "0              PM2.5   01-003-0010                          1      1    1  \n",
       "1              PM2.5   01-003-0010                          1      1    1  \n",
       "2              PM2.5   01-003-0010                          1      1    1  \n",
       "3              PM2.5   01-003-0010                          1      1    1  \n",
       "4              PM2.5   01-003-0010                          1      1    1  "
      ]
     },
     "execution_count": 6,
     "metadata": {},
     "output_type": "execute_result"
    }
   ],
   "source": [
    "daily_county = epa_data.get('daily_county_aqi')\n",
    "daily_county['Month'] = pd.to_datetime(daily_county['Date']).dt.month\n",
    "daily_county['Day'] = pd.to_datetime(daily_county['Date']).dt.month\n",
    "\n",
    "\n",
    "daily_county.head()"
   ]
  },
  {
   "cell_type": "code",
   "execution_count": 7,
   "id": "a01fb006",
   "metadata": {
    "deletable": false,
    "editable": false
   },
   "outputs": [
    {
     "data": {
      "text/html": [
       "<p><strong><pre style='display: inline;'>q1a</pre></strong> passed!</p>"
      ],
      "text/plain": [
       "q1a results: All test cases passed!"
      ]
     },
     "execution_count": 7,
     "metadata": {},
     "output_type": "execute_result"
    }
   ],
   "source": [
    "grader.check(\"q1a\")"
   ]
  },
  {
   "cell_type": "markdown",
   "id": "d7aac1d3",
   "metadata": {
    "deletable": false,
    "editable": false
   },
   "source": [
    "<br/>\n",
    "\n",
    "### Question 1b: California Data\n",
    "\n",
    "Currently, `epa_data` contains data for **all** counties in the United States. For the guided part of this project, we are specifically going to be focusing on AQI data for counties in California only. Your task is to assign `epa_data_CA` a dictionary mapping table names to dataframes. This map should have the same contents as `epa_data` but only tables that contain **daily data** in the state of `California`.\n",
    "\n",
    "<!--\n",
    "BEGIN QUESTION\n",
    "name: q1b\n",
    "points: 3\n",
    "-->"
   ]
  },
  {
   "cell_type": "code",
   "execution_count": 8,
   "id": "d63a633c-ff75-479f-aeaa-97252b6b29d3",
   "metadata": {},
   "outputs": [
    {
     "data": {
      "text/html": [
       "<div>\n",
       "<style scoped>\n",
       "    .dataframe tbody tr th:only-of-type {\n",
       "        vertical-align: middle;\n",
       "    }\n",
       "\n",
       "    .dataframe tbody tr th {\n",
       "        vertical-align: top;\n",
       "    }\n",
       "\n",
       "    .dataframe thead th {\n",
       "        text-align: right;\n",
       "    }\n",
       "</style>\n",
       "<table border=\"1\" class=\"dataframe\">\n",
       "  <thead>\n",
       "    <tr style=\"text-align: right;\">\n",
       "      <th></th>\n",
       "      <th>State Name</th>\n",
       "      <th>county Name</th>\n",
       "      <th>State Code</th>\n",
       "      <th>County Code</th>\n",
       "      <th>Date</th>\n",
       "      <th>AQI</th>\n",
       "      <th>Category</th>\n",
       "      <th>Defining Parameter</th>\n",
       "      <th>Defining Site</th>\n",
       "      <th>Number of Sites Reporting</th>\n",
       "      <th>Month</th>\n",
       "      <th>Day</th>\n",
       "    </tr>\n",
       "  </thead>\n",
       "  <tbody>\n",
       "    <tr>\n",
       "      <th>14003</th>\n",
       "      <td>California</td>\n",
       "      <td>Alameda</td>\n",
       "      <td>6</td>\n",
       "      <td>1</td>\n",
       "      <td>2020-01-01</td>\n",
       "      <td>53</td>\n",
       "      <td>Moderate</td>\n",
       "      <td>PM2.5</td>\n",
       "      <td>06-001-0009</td>\n",
       "      <td>7</td>\n",
       "      <td>1</td>\n",
       "      <td>1</td>\n",
       "    </tr>\n",
       "    <tr>\n",
       "      <th>14004</th>\n",
       "      <td>California</td>\n",
       "      <td>Alameda</td>\n",
       "      <td>6</td>\n",
       "      <td>1</td>\n",
       "      <td>2020-01-02</td>\n",
       "      <td>43</td>\n",
       "      <td>Good</td>\n",
       "      <td>PM2.5</td>\n",
       "      <td>06-001-0013</td>\n",
       "      <td>7</td>\n",
       "      <td>1</td>\n",
       "      <td>1</td>\n",
       "    </tr>\n",
       "    <tr>\n",
       "      <th>14005</th>\n",
       "      <td>California</td>\n",
       "      <td>Alameda</td>\n",
       "      <td>6</td>\n",
       "      <td>1</td>\n",
       "      <td>2020-01-03</td>\n",
       "      <td>74</td>\n",
       "      <td>Moderate</td>\n",
       "      <td>PM2.5</td>\n",
       "      <td>06-001-0013</td>\n",
       "      <td>7</td>\n",
       "      <td>1</td>\n",
       "      <td>1</td>\n",
       "    </tr>\n",
       "    <tr>\n",
       "      <th>14006</th>\n",
       "      <td>California</td>\n",
       "      <td>Alameda</td>\n",
       "      <td>6</td>\n",
       "      <td>1</td>\n",
       "      <td>2020-01-04</td>\n",
       "      <td>45</td>\n",
       "      <td>Good</td>\n",
       "      <td>PM2.5</td>\n",
       "      <td>06-001-0007</td>\n",
       "      <td>7</td>\n",
       "      <td>1</td>\n",
       "      <td>1</td>\n",
       "    </tr>\n",
       "    <tr>\n",
       "      <th>14007</th>\n",
       "      <td>California</td>\n",
       "      <td>Alameda</td>\n",
       "      <td>6</td>\n",
       "      <td>1</td>\n",
       "      <td>2020-01-05</td>\n",
       "      <td>33</td>\n",
       "      <td>Good</td>\n",
       "      <td>PM2.5</td>\n",
       "      <td>06-001-0007</td>\n",
       "      <td>7</td>\n",
       "      <td>1</td>\n",
       "      <td>1</td>\n",
       "    </tr>\n",
       "    <tr>\n",
       "      <th>...</th>\n",
       "      <td>...</td>\n",
       "      <td>...</td>\n",
       "      <td>...</td>\n",
       "      <td>...</td>\n",
       "      <td>...</td>\n",
       "      <td>...</td>\n",
       "      <td>...</td>\n",
       "      <td>...</td>\n",
       "      <td>...</td>\n",
       "      <td>...</td>\n",
       "      <td>...</td>\n",
       "      <td>...</td>\n",
       "    </tr>\n",
       "    <tr>\n",
       "      <th>33223</th>\n",
       "      <td>California</td>\n",
       "      <td>Yolo</td>\n",
       "      <td>6</td>\n",
       "      <td>113</td>\n",
       "      <td>2020-12-27</td>\n",
       "      <td>20</td>\n",
       "      <td>Good</td>\n",
       "      <td>Ozone</td>\n",
       "      <td>06-113-0004</td>\n",
       "      <td>2</td>\n",
       "      <td>12</td>\n",
       "      <td>12</td>\n",
       "    </tr>\n",
       "    <tr>\n",
       "      <th>33224</th>\n",
       "      <td>California</td>\n",
       "      <td>Yolo</td>\n",
       "      <td>6</td>\n",
       "      <td>113</td>\n",
       "      <td>2020-12-28</td>\n",
       "      <td>33</td>\n",
       "      <td>Good</td>\n",
       "      <td>Ozone</td>\n",
       "      <td>06-113-0004</td>\n",
       "      <td>2</td>\n",
       "      <td>12</td>\n",
       "      <td>12</td>\n",
       "    </tr>\n",
       "    <tr>\n",
       "      <th>33225</th>\n",
       "      <td>California</td>\n",
       "      <td>Yolo</td>\n",
       "      <td>6</td>\n",
       "      <td>113</td>\n",
       "      <td>2020-12-29</td>\n",
       "      <td>28</td>\n",
       "      <td>Good</td>\n",
       "      <td>Ozone</td>\n",
       "      <td>06-113-0004</td>\n",
       "      <td>3</td>\n",
       "      <td>12</td>\n",
       "      <td>12</td>\n",
       "    </tr>\n",
       "    <tr>\n",
       "      <th>33226</th>\n",
       "      <td>California</td>\n",
       "      <td>Yolo</td>\n",
       "      <td>6</td>\n",
       "      <td>113</td>\n",
       "      <td>2020-12-30</td>\n",
       "      <td>39</td>\n",
       "      <td>Good</td>\n",
       "      <td>PM2.5</td>\n",
       "      <td>06-113-0004</td>\n",
       "      <td>2</td>\n",
       "      <td>12</td>\n",
       "      <td>12</td>\n",
       "    </tr>\n",
       "    <tr>\n",
       "      <th>33227</th>\n",
       "      <td>California</td>\n",
       "      <td>Yolo</td>\n",
       "      <td>6</td>\n",
       "      <td>113</td>\n",
       "      <td>2020-12-31</td>\n",
       "      <td>35</td>\n",
       "      <td>Good</td>\n",
       "      <td>PM2.5</td>\n",
       "      <td>06-113-0004</td>\n",
       "      <td>2</td>\n",
       "      <td>12</td>\n",
       "      <td>12</td>\n",
       "    </tr>\n",
       "  </tbody>\n",
       "</table>\n",
       "<p>19225 rows × 12 columns</p>\n",
       "</div>"
      ],
      "text/plain": [
       "       State Name county Name  State Code  County Code        Date  AQI  \\\n",
       "14003  California     Alameda           6            1  2020-01-01   53   \n",
       "14004  California     Alameda           6            1  2020-01-02   43   \n",
       "14005  California     Alameda           6            1  2020-01-03   74   \n",
       "14006  California     Alameda           6            1  2020-01-04   45   \n",
       "14007  California     Alameda           6            1  2020-01-05   33   \n",
       "...           ...         ...         ...          ...         ...  ...   \n",
       "33223  California        Yolo           6          113  2020-12-27   20   \n",
       "33224  California        Yolo           6          113  2020-12-28   33   \n",
       "33225  California        Yolo           6          113  2020-12-29   28   \n",
       "33226  California        Yolo           6          113  2020-12-30   39   \n",
       "33227  California        Yolo           6          113  2020-12-31   35   \n",
       "\n",
       "       Category Defining Parameter Defining Site  Number of Sites Reporting  \\\n",
       "14003  Moderate              PM2.5   06-001-0009                          7   \n",
       "14004      Good              PM2.5   06-001-0013                          7   \n",
       "14005  Moderate              PM2.5   06-001-0013                          7   \n",
       "14006      Good              PM2.5   06-001-0007                          7   \n",
       "14007      Good              PM2.5   06-001-0007                          7   \n",
       "...         ...                ...           ...                        ...   \n",
       "33223      Good              Ozone   06-113-0004                          2   \n",
       "33224      Good              Ozone   06-113-0004                          2   \n",
       "33225      Good              Ozone   06-113-0004                          3   \n",
       "33226      Good              PM2.5   06-113-0004                          2   \n",
       "33227      Good              PM2.5   06-113-0004                          2   \n",
       "\n",
       "       Month  Day  \n",
       "14003      1    1  \n",
       "14004      1    1  \n",
       "14005      1    1  \n",
       "14006      1    1  \n",
       "14007      1    1  \n",
       "...      ...  ...  \n",
       "33223     12   12  \n",
       "33224     12   12  \n",
       "33225     12   12  \n",
       "33226     12   12  \n",
       "33227     12   12  \n",
       "\n",
       "[19225 rows x 12 columns]"
      ]
     },
     "execution_count": 8,
     "metadata": {},
     "output_type": "execute_result"
    }
   ],
   "source": [
    "b = epa_data.get('daily_county_aqi')\n",
    "b[b['State Name'] == 'California']"
   ]
  },
  {
   "cell_type": "code",
   "execution_count": 9,
   "id": "59d2679e-d07c-44f4-a86f-7348cb291307",
   "metadata": {},
   "outputs": [
    {
     "data": {
      "text/plain": [
       "1       52\n",
       "2       52\n",
       "1001    46\n",
       "3       44\n",
       "4       41\n",
       "        ..\n",
       "1501     1\n",
       "1406     1\n",
       "1405     1\n",
       "1404     1\n",
       "3000     1\n",
       "Name: Site Number, Length: 220, dtype: int64"
      ]
     },
     "execution_count": 9,
     "metadata": {},
     "output_type": "execute_result"
    }
   ],
   "source": [
    "a = epa_data.get('aqs_sites')\n",
    "a[a['State Name'] == 'California']['Site Number'].value_counts()"
   ]
  },
  {
   "cell_type": "code",
   "execution_count": 10,
   "id": "0b203093",
   "metadata": {},
   "outputs": [
    {
     "data": {
      "text/html": [
       "<div>\n",
       "<style scoped>\n",
       "    .dataframe tbody tr th:only-of-type {\n",
       "        vertical-align: middle;\n",
       "    }\n",
       "\n",
       "    .dataframe tbody tr th {\n",
       "        vertical-align: top;\n",
       "    }\n",
       "\n",
       "    .dataframe thead th {\n",
       "        text-align: right;\n",
       "    }\n",
       "</style>\n",
       "<table border=\"1\" class=\"dataframe\">\n",
       "  <thead>\n",
       "    <tr style=\"text-align: right;\">\n",
       "      <th></th>\n",
       "      <th>State Name</th>\n",
       "      <th>county Name</th>\n",
       "      <th>State Code</th>\n",
       "      <th>County Code</th>\n",
       "      <th>Date</th>\n",
       "      <th>AQI</th>\n",
       "      <th>Category</th>\n",
       "      <th>Defining Parameter</th>\n",
       "      <th>Defining Site</th>\n",
       "      <th>Number of Sites Reporting</th>\n",
       "      <th>Month</th>\n",
       "      <th>Day</th>\n",
       "    </tr>\n",
       "  </thead>\n",
       "  <tbody>\n",
       "    <tr>\n",
       "      <th>14003</th>\n",
       "      <td>California</td>\n",
       "      <td>Alameda</td>\n",
       "      <td>6</td>\n",
       "      <td>1</td>\n",
       "      <td>2020-01-01</td>\n",
       "      <td>53</td>\n",
       "      <td>Moderate</td>\n",
       "      <td>PM2.5</td>\n",
       "      <td>06-001-0009</td>\n",
       "      <td>7</td>\n",
       "      <td>1</td>\n",
       "      <td>1</td>\n",
       "    </tr>\n",
       "    <tr>\n",
       "      <th>14004</th>\n",
       "      <td>California</td>\n",
       "      <td>Alameda</td>\n",
       "      <td>6</td>\n",
       "      <td>1</td>\n",
       "      <td>2020-01-02</td>\n",
       "      <td>43</td>\n",
       "      <td>Good</td>\n",
       "      <td>PM2.5</td>\n",
       "      <td>06-001-0013</td>\n",
       "      <td>7</td>\n",
       "      <td>1</td>\n",
       "      <td>1</td>\n",
       "    </tr>\n",
       "    <tr>\n",
       "      <th>14005</th>\n",
       "      <td>California</td>\n",
       "      <td>Alameda</td>\n",
       "      <td>6</td>\n",
       "      <td>1</td>\n",
       "      <td>2020-01-03</td>\n",
       "      <td>74</td>\n",
       "      <td>Moderate</td>\n",
       "      <td>PM2.5</td>\n",
       "      <td>06-001-0013</td>\n",
       "      <td>7</td>\n",
       "      <td>1</td>\n",
       "      <td>1</td>\n",
       "    </tr>\n",
       "    <tr>\n",
       "      <th>14006</th>\n",
       "      <td>California</td>\n",
       "      <td>Alameda</td>\n",
       "      <td>6</td>\n",
       "      <td>1</td>\n",
       "      <td>2020-01-04</td>\n",
       "      <td>45</td>\n",
       "      <td>Good</td>\n",
       "      <td>PM2.5</td>\n",
       "      <td>06-001-0007</td>\n",
       "      <td>7</td>\n",
       "      <td>1</td>\n",
       "      <td>1</td>\n",
       "    </tr>\n",
       "    <tr>\n",
       "      <th>14007</th>\n",
       "      <td>California</td>\n",
       "      <td>Alameda</td>\n",
       "      <td>6</td>\n",
       "      <td>1</td>\n",
       "      <td>2020-01-05</td>\n",
       "      <td>33</td>\n",
       "      <td>Good</td>\n",
       "      <td>PM2.5</td>\n",
       "      <td>06-001-0007</td>\n",
       "      <td>7</td>\n",
       "      <td>1</td>\n",
       "      <td>1</td>\n",
       "    </tr>\n",
       "  </tbody>\n",
       "</table>\n",
       "</div>"
      ],
      "text/plain": [
       "       State Name county Name  State Code  County Code        Date  AQI  \\\n",
       "14003  California     Alameda           6            1  2020-01-01   53   \n",
       "14004  California     Alameda           6            1  2020-01-02   43   \n",
       "14005  California     Alameda           6            1  2020-01-03   74   \n",
       "14006  California     Alameda           6            1  2020-01-04   45   \n",
       "14007  California     Alameda           6            1  2020-01-05   33   \n",
       "\n",
       "       Category Defining Parameter Defining Site  Number of Sites Reporting  \\\n",
       "14003  Moderate              PM2.5   06-001-0009                          7   \n",
       "14004      Good              PM2.5   06-001-0013                          7   \n",
       "14005  Moderate              PM2.5   06-001-0013                          7   \n",
       "14006      Good              PM2.5   06-001-0007                          7   \n",
       "14007      Good              PM2.5   06-001-0007                          7   \n",
       "\n",
       "       Month  Day  \n",
       "14003      1    1  \n",
       "14004      1    1  \n",
       "14005      1    1  \n",
       "14006      1    1  \n",
       "14007      1    1  "
      ]
     },
     "execution_count": 10,
     "metadata": {},
     "output_type": "execute_result"
    }
   ],
   "source": [
    "epa_data_CA = epa_data.copy()\n",
    "epa_data_CA.pop('annual_county_aqi')\n",
    "epa_data_CA.pop('aqs_sites')\n",
    "for key,value in epa_data_CA.items():\n",
    "    newdata = epa_data_CA.get(key)\n",
    "    newdata = newdata[newdata['State Name'] == 'California']\n",
    "    epa_data_CA[key] = newdata\n",
    "    \n",
    "epa_data_CA.get('daily_county_aqi').head()"
   ]
  },
  {
   "cell_type": "code",
   "execution_count": 11,
   "id": "3ff29afa",
   "metadata": {
    "deletable": false,
    "editable": false
   },
   "outputs": [
    {
     "data": {
      "text/html": [
       "<p><strong><pre style='display: inline;'>q1b</pre></strong> passed!</p>"
      ],
      "text/plain": [
       "q1b results: All test cases passed!"
      ]
     },
     "execution_count": 11,
     "metadata": {},
     "output_type": "execute_result"
    }
   ],
   "source": [
    "grader.check(\"q1b\")"
   ]
  },
  {
   "cell_type": "markdown",
   "id": "cbd789c4",
   "metadata": {
    "deletable": false,
    "editable": false
   },
   "source": [
    "<br/>\n",
    "\n",
    "### Question 1c: Merging Site Information\n",
    "\n",
    "Now take a look at this [link](https://www.epa.gov/outdoor-air-quality-data/about-air-data-reports) and look under \"Site ID\". For later analysis, we want to first get the latitude and longitudes of each of the measurements in the `daily_county_aqi` table by merging two or more tables in `epa_data_CA` (one of the tables is `daily_county_aqi`).\n",
    "\n",
    "Our final merged table should be assigned to `epa_data_CA_merged` and the result should contain the following columns: `State Name`, `county Name`, `Month`, `Day`, `AQI`, `Category`, `Defining Site`, `Latitude`, and `Longitude`\n",
    "\n",
    "<!--\n",
    "BEGIN QUESTION\n",
    "name: q1c\n",
    "points: 4\n",
    "-->"
   ]
  },
  {
   "cell_type": "code",
   "execution_count": 12,
   "id": "be28f7dc",
   "metadata": {},
   "outputs": [
    {
     "data": {
      "text/html": [
       "<div>\n",
       "<style scoped>\n",
       "    .dataframe tbody tr th:only-of-type {\n",
       "        vertical-align: middle;\n",
       "    }\n",
       "\n",
       "    .dataframe tbody tr th {\n",
       "        vertical-align: top;\n",
       "    }\n",
       "\n",
       "    .dataframe thead th {\n",
       "        text-align: right;\n",
       "    }\n",
       "</style>\n",
       "<table border=\"1\" class=\"dataframe\">\n",
       "  <thead>\n",
       "    <tr style=\"text-align: right;\">\n",
       "      <th></th>\n",
       "      <th>State Name</th>\n",
       "      <th>county Name</th>\n",
       "      <th>Month</th>\n",
       "      <th>Day</th>\n",
       "      <th>AQI</th>\n",
       "      <th>Category</th>\n",
       "      <th>Defining Site</th>\n",
       "      <th>Latitude</th>\n",
       "      <th>Longitude</th>\n",
       "    </tr>\n",
       "  </thead>\n",
       "  <tbody>\n",
       "    <tr>\n",
       "      <th>0</th>\n",
       "      <td>California</td>\n",
       "      <td>Alameda</td>\n",
       "      <td>1</td>\n",
       "      <td>1</td>\n",
       "      <td>53</td>\n",
       "      <td>Moderate</td>\n",
       "      <td>06-001-0009</td>\n",
       "      <td>37.743065</td>\n",
       "      <td>-122.169935</td>\n",
       "    </tr>\n",
       "    <tr>\n",
       "      <th>1</th>\n",
       "      <td>California</td>\n",
       "      <td>Alameda</td>\n",
       "      <td>1</td>\n",
       "      <td>1</td>\n",
       "      <td>40</td>\n",
       "      <td>Good</td>\n",
       "      <td>06-001-0009</td>\n",
       "      <td>37.743065</td>\n",
       "      <td>-122.169935</td>\n",
       "    </tr>\n",
       "    <tr>\n",
       "      <th>2</th>\n",
       "      <td>California</td>\n",
       "      <td>Alameda</td>\n",
       "      <td>7</td>\n",
       "      <td>7</td>\n",
       "      <td>48</td>\n",
       "      <td>Good</td>\n",
       "      <td>06-001-0009</td>\n",
       "      <td>37.743065</td>\n",
       "      <td>-122.169935</td>\n",
       "    </tr>\n",
       "    <tr>\n",
       "      <th>3</th>\n",
       "      <td>California</td>\n",
       "      <td>Alameda</td>\n",
       "      <td>7</td>\n",
       "      <td>7</td>\n",
       "      <td>115</td>\n",
       "      <td>Unhealthy for Sensitive Groups</td>\n",
       "      <td>06-001-0009</td>\n",
       "      <td>37.743065</td>\n",
       "      <td>-122.169935</td>\n",
       "    </tr>\n",
       "    <tr>\n",
       "      <th>4</th>\n",
       "      <td>California</td>\n",
       "      <td>Alameda</td>\n",
       "      <td>7</td>\n",
       "      <td>7</td>\n",
       "      <td>78</td>\n",
       "      <td>Moderate</td>\n",
       "      <td>06-001-0009</td>\n",
       "      <td>37.743065</td>\n",
       "      <td>-122.169935</td>\n",
       "    </tr>\n",
       "  </tbody>\n",
       "</table>\n",
       "</div>"
      ],
      "text/plain": [
       "   State Name county Name  Month  Day  AQI                        Category  \\\n",
       "0  California     Alameda      1    1   53                        Moderate   \n",
       "1  California     Alameda      1    1   40                            Good   \n",
       "2  California     Alameda      7    7   48                            Good   \n",
       "3  California     Alameda      7    7  115  Unhealthy for Sensitive Groups   \n",
       "4  California     Alameda      7    7   78                        Moderate   \n",
       "\n",
       "  Defining Site   Latitude   Longitude  \n",
       "0   06-001-0009  37.743065 -122.169935  \n",
       "1   06-001-0009  37.743065 -122.169935  \n",
       "2   06-001-0009  37.743065 -122.169935  \n",
       "3   06-001-0009  37.743065 -122.169935  \n",
       "4   06-001-0009  37.743065 -122.169935  "
      ]
     },
     "execution_count": 12,
     "metadata": {},
     "output_type": "execute_result"
    }
   ],
   "source": [
    "cols = ['State Name', 'county Name', 'Month', 'Day', 'AQI', 'Category', 'Defining Site', 'Latitude', 'Longitude']\n",
    "\n",
    "data1= epa_data_CA.get('daily_county_aqi')\n",
    "\n",
    "array = []\n",
    "iterate_array = data1['Defining Site']\n",
    "for i in iterate_array:\n",
    "    array.append(int(i[7:]))\n",
    "    \n",
    "data1['Site Number'] = array\n",
    "\n",
    "data2 = epa_data.get('aqs_sites')\n",
    "\n",
    "data2 = data2[data2['State Name'] == 'California']\n",
    "\n",
    "epa_data_CA_merged = data1.merge(data2, on = ['County Code', 'Site Number'])\n",
    "\n",
    "epa_data_CA_merged = epa_data_CA_merged.rename(columns = {'State Name_x': 'State Name'})\n",
    "epa_data_CA_merged = epa_data_CA_merged[cols]\n",
    "epa_data_CA_merged.head()"
   ]
  },
  {
   "cell_type": "code",
   "execution_count": 13,
   "id": "86b3e2aa",
   "metadata": {
    "deletable": false,
    "editable": false
   },
   "outputs": [
    {
     "data": {
      "text/html": [
       "<p><strong><pre style='display: inline;'>q1c</pre></strong> passed!</p>"
      ],
      "text/plain": [
       "q1c results: All test cases passed!"
      ]
     },
     "execution_count": 13,
     "metadata": {},
     "output_type": "execute_result"
    }
   ],
   "source": [
    "grader.check(\"q1c\")"
   ]
  },
  {
   "cell_type": "markdown",
   "id": "0934d18f",
   "metadata": {
    "deletable": false,
    "editable": false
   },
   "source": [
    "<br/>\n",
    "\n",
    "### Question 2a - Cleaning Traffic Data \n",
    "\n",
    "Throughout this project, you will be using other datasets to assist with analysis and predictions. Traditionally, to join dataframes we need to join on a specific column with shared values. However, when it comes to locations, exact latitudes and longitudes are hard to come by since it is a continuous space. First, lets look at such a dataset that we may want to merge on with `epa_data_CA_merged`. \n",
    "\n",
    "In the below cell, we have loaded in the `traffic_data` dataset, which contains traffic data for various locations in California. Your task is to clean this table so that it includes only the following columns (you may have to rename some): `District`, `Route`, `County`, `Descriptn`, `AADT`, `Latitude`, `Longitude`, where `AADT` is found by taking the sum of the back and ahead `AADT`s (you may run into some issues with cleaning the data in order to add these columns - `.str` functions may help with this). The metric AADT, annual average daily traffic, is calculated as the sum of the traffic north of the route (ahead AADT) and south of the route (back AADT). You also need to make sure to clean and remove any illegal values from the dataframe (hint: check `Latitude` and `Longitude`).\n",
    "\n",
    "*Hint:* `str` functions you will likely use: `.strip()`, `.replace()`.\n",
    "\n",
    "<!--\n",
    "BEGIN QUESTION\n",
    "name: q2a\n",
    "points: 3\n",
    "-->"
   ]
  },
  {
   "cell_type": "code",
   "execution_count": 14,
   "id": "1f63356b-bbe4-4bf4-bbaa-b5bfd3c031ed",
   "metadata": {},
   "outputs": [
    {
     "data": {
      "text/html": [
       "<div>\n",
       "<style scoped>\n",
       "    .dataframe tbody tr th:only-of-type {\n",
       "        vertical-align: middle;\n",
       "    }\n",
       "\n",
       "    .dataframe tbody tr th {\n",
       "        vertical-align: top;\n",
       "    }\n",
       "\n",
       "    .dataframe thead th {\n",
       "        text-align: right;\n",
       "    }\n",
       "</style>\n",
       "<table border=\"1\" class=\"dataframe\">\n",
       "  <thead>\n",
       "    <tr style=\"text-align: right;\">\n",
       "      <th></th>\n",
       "      <th>OBJECTID_1</th>\n",
       "      <th>OBJECTID</th>\n",
       "      <th>District</th>\n",
       "      <th>Route</th>\n",
       "      <th>Rte_SFX</th>\n",
       "      <th>County</th>\n",
       "      <th>PM_PFX</th>\n",
       "      <th>Postmile</th>\n",
       "      <th>PM_SFX</th>\n",
       "      <th>Descriptn</th>\n",
       "      <th>Back_pk_h</th>\n",
       "      <th>Back_pk_m</th>\n",
       "      <th>Back_AADT</th>\n",
       "      <th>Ahead_pk_h</th>\n",
       "      <th>Ahead_pk_m</th>\n",
       "      <th>Ahead_AADT</th>\n",
       "      <th>Lon_S_or_W</th>\n",
       "      <th>Lat_S_or_W</th>\n",
       "      <th>Lon_N_or_E</th>\n",
       "      <th>Lat_N_or_E</th>\n",
       "    </tr>\n",
       "  </thead>\n",
       "  <tbody>\n",
       "    <tr>\n",
       "      <th>0</th>\n",
       "      <td>1</td>\n",
       "      <td>1</td>\n",
       "      <td>1</td>\n",
       "      <td>1</td>\n",
       "      <td></td>\n",
       "      <td>MEN</td>\n",
       "      <td></td>\n",
       "      <td>0.000</td>\n",
       "      <td></td>\n",
       "      <td>SONOMA/MENDOCINO COUNTY LINE</td>\n",
       "      <td></td>\n",
       "      <td></td>\n",
       "      <td></td>\n",
       "      <td>440</td>\n",
       "      <td>4650</td>\n",
       "      <td>4000</td>\n",
       "      <td>-123.5185026</td>\n",
       "      <td>38.75984264</td>\n",
       "      <td>-123.5185026</td>\n",
       "      <td>38.75984264</td>\n",
       "    </tr>\n",
       "    <tr>\n",
       "      <th>1</th>\n",
       "      <td>2</td>\n",
       "      <td>2</td>\n",
       "      <td>1</td>\n",
       "      <td>1</td>\n",
       "      <td></td>\n",
       "      <td>MEN</td>\n",
       "      <td></td>\n",
       "      <td>1.020</td>\n",
       "      <td></td>\n",
       "      <td>NORTH LIMITS GUALALA</td>\n",
       "      <td>440</td>\n",
       "      <td>4650</td>\n",
       "      <td>4000</td>\n",
       "      <td>370</td>\n",
       "      <td>3700</td>\n",
       "      <td>3100</td>\n",
       "      <td>-123.53189</td>\n",
       "      <td>38.77004592</td>\n",
       "      <td>-123.53189</td>\n",
       "      <td>38.77004592</td>\n",
       "    </tr>\n",
       "    <tr>\n",
       "      <th>2</th>\n",
       "      <td>3</td>\n",
       "      <td>3</td>\n",
       "      <td>1</td>\n",
       "      <td>1</td>\n",
       "      <td></td>\n",
       "      <td>MEN</td>\n",
       "      <td></td>\n",
       "      <td>5.090</td>\n",
       "      <td></td>\n",
       "      <td>FISH ROCK ROAD</td>\n",
       "      <td>320</td>\n",
       "      <td>3600</td>\n",
       "      <td>3100</td>\n",
       "      <td>210</td>\n",
       "      <td>2600</td>\n",
       "      <td>3100</td>\n",
       "      <td>-123.585411</td>\n",
       "      <td>38.80354931</td>\n",
       "      <td>-123.585411</td>\n",
       "      <td>38.80354931</td>\n",
       "    </tr>\n",
       "    <tr>\n",
       "      <th>3</th>\n",
       "      <td>4</td>\n",
       "      <td>4</td>\n",
       "      <td>1</td>\n",
       "      <td>1</td>\n",
       "      <td></td>\n",
       "      <td>MEN</td>\n",
       "      <td></td>\n",
       "      <td>14.692</td>\n",
       "      <td></td>\n",
       "      <td>POINT ARENA, SOUTH CITY LIMITS</td>\n",
       "      <td>240</td>\n",
       "      <td>2600</td>\n",
       "      <td>2200</td>\n",
       "      <td>240</td>\n",
       "      <td>2850</td>\n",
       "      <td>2400</td>\n",
       "      <td>-123.6915134</td>\n",
       "      <td>38.90397338</td>\n",
       "      <td>-123.6915134</td>\n",
       "      <td>38.90397338</td>\n",
       "    </tr>\n",
       "    <tr>\n",
       "      <th>4</th>\n",
       "      <td>5</td>\n",
       "      <td>5</td>\n",
       "      <td>1</td>\n",
       "      <td>1</td>\n",
       "      <td></td>\n",
       "      <td>MEN</td>\n",
       "      <td></td>\n",
       "      <td>15.180</td>\n",
       "      <td></td>\n",
       "      <td>POINT ARENA, RIVERSIDE DRIVE</td>\n",
       "      <td>250</td>\n",
       "      <td>2800</td>\n",
       "      <td>2400</td>\n",
       "      <td>250</td>\n",
       "      <td>2800</td>\n",
       "      <td>2600</td>\n",
       "      <td>-123.6924099</td>\n",
       "      <td>38.91091252</td>\n",
       "      <td>-123.6924099</td>\n",
       "      <td>38.91091252</td>\n",
       "    </tr>\n",
       "    <tr>\n",
       "      <th>...</th>\n",
       "      <td>...</td>\n",
       "      <td>...</td>\n",
       "      <td>...</td>\n",
       "      <td>...</td>\n",
       "      <td>...</td>\n",
       "      <td>...</td>\n",
       "      <td>...</td>\n",
       "      <td>...</td>\n",
       "      <td>...</td>\n",
       "      <td>...</td>\n",
       "      <td>...</td>\n",
       "      <td>...</td>\n",
       "      <td>...</td>\n",
       "      <td>...</td>\n",
       "      <td>...</td>\n",
       "      <td>...</td>\n",
       "      <td>...</td>\n",
       "      <td>...</td>\n",
       "      <td>...</td>\n",
       "      <td>...</td>\n",
       "    </tr>\n",
       "    <tr>\n",
       "      <th>7115</th>\n",
       "      <td>7116</td>\n",
       "      <td>7116</td>\n",
       "      <td>12</td>\n",
       "      <td>605</td>\n",
       "      <td></td>\n",
       "      <td>ORA</td>\n",
       "      <td></td>\n",
       "      <td>3.092</td>\n",
       "      <td></td>\n",
       "      <td>SEAL BEACH, JCT RTE 22</td>\n",
       "      <td></td>\n",
       "      <td></td>\n",
       "      <td></td>\n",
       "      <td>3250</td>\n",
       "      <td>47000</td>\n",
       "      <td>46100</td>\n",
       "      <td>-118.0914735</td>\n",
       "      <td>33.7786335</td>\n",
       "      <td>-118.0908233</td>\n",
       "      <td>33.77861286</td>\n",
       "    </tr>\n",
       "    <tr>\n",
       "      <th>7116</th>\n",
       "      <td>7117</td>\n",
       "      <td>7117</td>\n",
       "      <td>12</td>\n",
       "      <td>605</td>\n",
       "      <td></td>\n",
       "      <td>ORA</td>\n",
       "      <td>R</td>\n",
       "      <td>0.000</td>\n",
       "      <td></td>\n",
       "      <td>JCT. RTE. 405</td>\n",
       "      <td>3250</td>\n",
       "      <td>47000</td>\n",
       "      <td>44700</td>\n",
       "      <td>11700</td>\n",
       "      <td>172000</td>\n",
       "      <td>167500</td>\n",
       "      <td>-118.0917676</td>\n",
       "      <td>33.78441396</td>\n",
       "      <td>-118.09138</td>\n",
       "      <td>33.78396418</td>\n",
       "    </tr>\n",
       "    <tr>\n",
       "      <th>7117</th>\n",
       "      <td>7118</td>\n",
       "      <td>7118</td>\n",
       "      <td>12</td>\n",
       "      <td>605</td>\n",
       "      <td></td>\n",
       "      <td>ORA</td>\n",
       "      <td>R</td>\n",
       "      <td>1.405</td>\n",
       "      <td></td>\n",
       "      <td>LOS ALAMITOS, KATELLA AVENUE</td>\n",
       "      <td>11600</td>\n",
       "      <td>169000</td>\n",
       "      <td>159800</td>\n",
       "      <td>14100</td>\n",
       "      <td>173000</td>\n",
       "      <td>167000</td>\n",
       "      <td>-118.0820302</td>\n",
       "      <td>33.80279867</td>\n",
       "      <td>-118.0817329</td>\n",
       "      <td>33.80281106</td>\n",
       "    </tr>\n",
       "    <tr>\n",
       "      <th>7118</th>\n",
       "      <td>7119</td>\n",
       "      <td>7119</td>\n",
       "      <td>12</td>\n",
       "      <td>605</td>\n",
       "      <td></td>\n",
       "      <td>ORA</td>\n",
       "      <td>R</td>\n",
       "      <td>1.643</td>\n",
       "      <td></td>\n",
       "      <td>ORANGE/LOS ANGELES COUNTY LINE</td>\n",
       "      <td>14800</td>\n",
       "      <td>177000</td>\n",
       "      <td>170000</td>\n",
       "      <td></td>\n",
       "      <td></td>\n",
       "      <td></td>\n",
       "      <td>-118.081547</td>\n",
       "      <td>33.80613969</td>\n",
       "      <td>-118.081287</td>\n",
       "      <td>33.8063525</td>\n",
       "    </tr>\n",
       "    <tr>\n",
       "      <th>7119</th>\n",
       "      <td>7120</td>\n",
       "      <td>7120</td>\n",
       "      <td>3</td>\n",
       "      <td>99</td>\n",
       "      <td></td>\n",
       "      <td>SAC</td>\n",
       "      <td>R</td>\n",
       "      <td>24.352</td>\n",
       "      <td></td>\n",
       "      <td>BREAK IN ROUTE</td>\n",
       "      <td></td>\n",
       "      <td></td>\n",
       "      <td></td>\n",
       "      <td></td>\n",
       "      <td></td>\n",
       "      <td></td>\n",
       "      <td>-121.4736488</td>\n",
       "      <td>38.55883754</td>\n",
       "      <td>-121.4733879</td>\n",
       "      <td>38.55882168</td>\n",
       "    </tr>\n",
       "  </tbody>\n",
       "</table>\n",
       "<p>7120 rows × 20 columns</p>\n",
       "</div>"
      ],
      "text/plain": [
       "      OBJECTID_1  OBJECTID  District  Route Rte_SFX County PM_PFX  Postmile  \\\n",
       "0              1         1         1      1            MEN            0.000   \n",
       "1              2         2         1      1            MEN            1.020   \n",
       "2              3         3         1      1            MEN            5.090   \n",
       "3              4         4         1      1            MEN           14.692   \n",
       "4              5         5         1      1            MEN           15.180   \n",
       "...          ...       ...       ...    ...     ...    ...    ...       ...   \n",
       "7115        7116      7116        12    605            ORA            3.092   \n",
       "7116        7117      7117        12    605            ORA      R     0.000   \n",
       "7117        7118      7118        12    605            ORA      R     1.405   \n",
       "7118        7119      7119        12    605            ORA      R     1.643   \n",
       "7119        7120      7120         3     99            SAC      R    24.352   \n",
       "\n",
       "     PM_SFX                       Descriptn Back_pk_h Back_pk_m Back_AADT  \\\n",
       "0              SONOMA/MENDOCINO COUNTY LINE                                 \n",
       "1                      NORTH LIMITS GUALALA       440      4650      4000   \n",
       "2                            FISH ROCK ROAD       320      3600      3100   \n",
       "3            POINT ARENA, SOUTH CITY LIMITS       240      2600      2200   \n",
       "4              POINT ARENA, RIVERSIDE DRIVE       250      2800      2400   \n",
       "...     ...                             ...       ...       ...       ...   \n",
       "7115                 SEAL BEACH, JCT RTE 22                                 \n",
       "7116                          JCT. RTE. 405      3250     47000     44700   \n",
       "7117           LOS ALAMITOS, KATELLA AVENUE     11600    169000    159800   \n",
       "7118         ORANGE/LOS ANGELES COUNTY LINE     14800    177000    170000   \n",
       "7119                         BREAK IN ROUTE                                 \n",
       "\n",
       "     Ahead_pk_h Ahead_pk_m Ahead_AADT    Lon_S_or_W   Lat_S_or_W  \\\n",
       "0           440       4650       4000  -123.5185026  38.75984264   \n",
       "1           370       3700       3100    -123.53189  38.77004592   \n",
       "2           210       2600       3100   -123.585411  38.80354931   \n",
       "3           240       2850       2400  -123.6915134  38.90397338   \n",
       "4           250       2800       2600  -123.6924099  38.91091252   \n",
       "...         ...        ...        ...           ...          ...   \n",
       "7115       3250      47000      46100  -118.0914735   33.7786335   \n",
       "7116      11700     172000     167500  -118.0917676  33.78441396   \n",
       "7117      14100     173000     167000  -118.0820302  33.80279867   \n",
       "7118                                    -118.081547  33.80613969   \n",
       "7119                                   -121.4736488  38.55883754   \n",
       "\n",
       "        Lon_N_or_E   Lat_N_or_E  \n",
       "0     -123.5185026  38.75984264  \n",
       "1       -123.53189  38.77004592  \n",
       "2      -123.585411  38.80354931  \n",
       "3     -123.6915134  38.90397338  \n",
       "4     -123.6924099  38.91091252  \n",
       "...            ...          ...  \n",
       "7115  -118.0908233  33.77861286  \n",
       "7116    -118.09138  33.78396418  \n",
       "7117  -118.0817329  33.80281106  \n",
       "7118   -118.081287   33.8063525  \n",
       "7119  -121.4733879  38.55882168  \n",
       "\n",
       "[7120 rows x 20 columns]"
      ]
     },
     "execution_count": 14,
     "metadata": {},
     "output_type": "execute_result"
    }
   ],
   "source": [
    "traffic_data = pd.read_csv(\"data/Traffic_Volumes_AADT.csv\")\n",
    "traffic_data"
   ]
  },
  {
   "cell_type": "code",
   "execution_count": 15,
   "id": "fbd51a57",
   "metadata": {},
   "outputs": [
    {
     "data": {
      "text/html": [
       "<div>\n",
       "<style scoped>\n",
       "    .dataframe tbody tr th:only-of-type {\n",
       "        vertical-align: middle;\n",
       "    }\n",
       "\n",
       "    .dataframe tbody tr th {\n",
       "        vertical-align: top;\n",
       "    }\n",
       "\n",
       "    .dataframe thead th {\n",
       "        text-align: right;\n",
       "    }\n",
       "</style>\n",
       "<table border=\"1\" class=\"dataframe\">\n",
       "  <thead>\n",
       "    <tr style=\"text-align: right;\">\n",
       "      <th></th>\n",
       "      <th>District</th>\n",
       "      <th>Route</th>\n",
       "      <th>County</th>\n",
       "      <th>Descriptn</th>\n",
       "      <th>AADT</th>\n",
       "      <th>Latitude</th>\n",
       "      <th>Longitude</th>\n",
       "    </tr>\n",
       "  </thead>\n",
       "  <tbody>\n",
       "    <tr>\n",
       "      <th>0</th>\n",
       "      <td>1</td>\n",
       "      <td>1</td>\n",
       "      <td>MEN</td>\n",
       "      <td>SONOMA/MENDOCINO COUNTY LINE</td>\n",
       "      <td>4000</td>\n",
       "      <td>38.75984264</td>\n",
       "      <td>-123.5185026</td>\n",
       "    </tr>\n",
       "    <tr>\n",
       "      <th>1</th>\n",
       "      <td>1</td>\n",
       "      <td>1</td>\n",
       "      <td>MEN</td>\n",
       "      <td>NORTH LIMITS GUALALA</td>\n",
       "      <td>7100</td>\n",
       "      <td>38.77004592</td>\n",
       "      <td>-123.53189</td>\n",
       "    </tr>\n",
       "    <tr>\n",
       "      <th>2</th>\n",
       "      <td>1</td>\n",
       "      <td>1</td>\n",
       "      <td>MEN</td>\n",
       "      <td>FISH ROCK ROAD</td>\n",
       "      <td>6200</td>\n",
       "      <td>38.80354931</td>\n",
       "      <td>-123.585411</td>\n",
       "    </tr>\n",
       "    <tr>\n",
       "      <th>3</th>\n",
       "      <td>1</td>\n",
       "      <td>1</td>\n",
       "      <td>MEN</td>\n",
       "      <td>POINT ARENA, SOUTH CITY LIMITS</td>\n",
       "      <td>4600</td>\n",
       "      <td>38.90397338</td>\n",
       "      <td>-123.6915134</td>\n",
       "    </tr>\n",
       "    <tr>\n",
       "      <th>4</th>\n",
       "      <td>1</td>\n",
       "      <td>1</td>\n",
       "      <td>MEN</td>\n",
       "      <td>POINT ARENA, RIVERSIDE DRIVE</td>\n",
       "      <td>5000</td>\n",
       "      <td>38.91091252</td>\n",
       "      <td>-123.6924099</td>\n",
       "    </tr>\n",
       "  </tbody>\n",
       "</table>\n",
       "</div>"
      ],
      "text/plain": [
       "   District  Route County                       Descriptn  AADT     Latitude  \\\n",
       "0         1      1    MEN    SONOMA/MENDOCINO COUNTY LINE  4000  38.75984264   \n",
       "1         1      1    MEN            NORTH LIMITS GUALALA  7100  38.77004592   \n",
       "2         1      1    MEN                  FISH ROCK ROAD  6200  38.80354931   \n",
       "3         1      1    MEN  POINT ARENA, SOUTH CITY LIMITS  4600  38.90397338   \n",
       "4         1      1    MEN    POINT ARENA, RIVERSIDE DRIVE  5000  38.91091252   \n",
       "\n",
       "      Longitude  \n",
       "0  -123.5185026  \n",
       "1    -123.53189  \n",
       "2   -123.585411  \n",
       "3  -123.6915134  \n",
       "4  -123.6924099  "
      ]
     },
     "execution_count": 15,
     "metadata": {},
     "output_type": "execute_result"
    }
   ],
   "source": [
    "traffic_data = pd.read_csv(\"data/Traffic_Volumes_AADT.csv\")\n",
    "\n",
    "cols = [\"District\", \"Route\", \"County\", \"Descriptn\", \"AADT\", \"Latitude\", \"Longitude\"]\n",
    "renaming = {\"Lat_S_or_W\": \"Latitude\", \"Lon_S_or_W\":  \"Longitude\"}\n",
    "traffic_data = traffic_data.rename(columns = renaming)\n",
    "\n",
    "traffic_data[\"Latitude\"] = traffic_data[\"Latitude\"].str.strip()\n",
    "traffic_data[\"Latitude\"] = traffic_data[\"Latitude\"].str.replace(r'[a-zA-Z]', '')\n",
    "\n",
    "traffic_data = traffic_data[~traffic_data[\"Latitude\"].str.contains(\" - \")]\n",
    "\n",
    "traffic_data = traffic_data.replace(\" \", 0)\n",
    "traffic_data[\"AADT\"] = traffic_data[\"Back_AADT\"].astype(int) + traffic_data[\"Ahead_AADT\"].astype(int)\n",
    "\n",
    "traffic_data_cleaned = traffic_data[cols]\n",
    "\n",
    "traffic_data_cleaned.head()"
   ]
  },
  {
   "cell_type": "code",
   "execution_count": 16,
   "id": "302e1457",
   "metadata": {
    "deletable": false,
    "editable": false
   },
   "outputs": [
    {
     "data": {
      "text/html": [
       "<p><strong><pre style='display: inline;'>q2a</pre></strong> passed!</p>"
      ],
      "text/plain": [
       "q2a results: All test cases passed!"
      ]
     },
     "execution_count": 16,
     "metadata": {},
     "output_type": "execute_result"
    }
   ],
   "source": [
    "grader.check(\"q2a\")"
   ]
  },
  {
   "cell_type": "markdown",
   "id": "67e35cda",
   "metadata": {
    "deletable": false,
    "editable": false
   },
   "source": [
    "### Question 2b - Merging on Traffic Data \n",
    "\n",
    "Traditionally, we could employ some sort of join where we join `epa_data_CA_merged` rows with the row in `traffic_data` that it is the \"closest\" to, as measured by euclidean distance. As you can imagine, this can be quite tedious so instead we will use a special type of join called a **spatial join**, which can be done using the package `geopandas`, which is imported as `gpd`. The documentation for `geopandas` is linked [here](https://geopandas.org/docs/reference/api/geopandas.sjoin_nearest.html). Please use this as a resource to do the following tasks: \n",
    "\n",
    " - turn `traffic_data_cleaned` and `epa_data_CA_merged` into a geopandas dataframe using the latitude and longitude.\n",
    " - Use a spatial join (which function is this in the documentation?) to match the correct traffic row information to each entry in `epa_data_CA_merged`. \n",
    "\n",
    "Your final dataframe should be assigned to `gpd_epa_traffic` with the following columns: `State Name`, `county Name`, `Month`, `Day`, `AQI`, `Category`, `Defining Site`, `Site Lat`, `Site Long`, `Traffic Lat`, `Traffic Long`, `Descriptn`, and `AADT`.\n",
    "\n",
    "<!--\n",
    "BEGIN QUESTION\n",
    "name: q2b\n",
    "points: 2\n",
    "-->"
   ]
  },
  {
   "cell_type": "code",
   "execution_count": 17,
   "id": "eef79865",
   "metadata": {},
   "outputs": [
    {
     "data": {
      "text/html": [
       "<div>\n",
       "<style scoped>\n",
       "    .dataframe tbody tr th:only-of-type {\n",
       "        vertical-align: middle;\n",
       "    }\n",
       "\n",
       "    .dataframe tbody tr th {\n",
       "        vertical-align: top;\n",
       "    }\n",
       "\n",
       "    .dataframe thead th {\n",
       "        text-align: right;\n",
       "    }\n",
       "</style>\n",
       "<table border=\"1\" class=\"dataframe\">\n",
       "  <thead>\n",
       "    <tr style=\"text-align: right;\">\n",
       "      <th></th>\n",
       "      <th>State Name</th>\n",
       "      <th>county Name</th>\n",
       "      <th>Month</th>\n",
       "      <th>Day</th>\n",
       "      <th>AQI</th>\n",
       "      <th>Category</th>\n",
       "      <th>Defining Site</th>\n",
       "      <th>Site Lat</th>\n",
       "      <th>Site Long</th>\n",
       "      <th>Traffic Lat</th>\n",
       "      <th>Traffic Long</th>\n",
       "      <th>Descriptn</th>\n",
       "      <th>AADT</th>\n",
       "    </tr>\n",
       "  </thead>\n",
       "  <tbody>\n",
       "    <tr>\n",
       "      <th>0</th>\n",
       "      <td>California</td>\n",
       "      <td>Alameda</td>\n",
       "      <td>1</td>\n",
       "      <td>1</td>\n",
       "      <td>53</td>\n",
       "      <td>Moderate</td>\n",
       "      <td>06-001-0009</td>\n",
       "      <td>37.743065</td>\n",
       "      <td>-122.169935</td>\n",
       "      <td>37.74435189</td>\n",
       "      <td>-122.170586</td>\n",
       "      <td>OAKLAND, 98TH AVENUE</td>\n",
       "      <td>48300</td>\n",
       "    </tr>\n",
       "    <tr>\n",
       "      <th>1</th>\n",
       "      <td>California</td>\n",
       "      <td>Alameda</td>\n",
       "      <td>1</td>\n",
       "      <td>1</td>\n",
       "      <td>40</td>\n",
       "      <td>Good</td>\n",
       "      <td>06-001-0009</td>\n",
       "      <td>37.743065</td>\n",
       "      <td>-122.169935</td>\n",
       "      <td>37.74435189</td>\n",
       "      <td>-122.170586</td>\n",
       "      <td>OAKLAND, 98TH AVENUE</td>\n",
       "      <td>48300</td>\n",
       "    </tr>\n",
       "    <tr>\n",
       "      <th>2</th>\n",
       "      <td>California</td>\n",
       "      <td>Alameda</td>\n",
       "      <td>7</td>\n",
       "      <td>7</td>\n",
       "      <td>48</td>\n",
       "      <td>Good</td>\n",
       "      <td>06-001-0009</td>\n",
       "      <td>37.743065</td>\n",
       "      <td>-122.169935</td>\n",
       "      <td>37.74435189</td>\n",
       "      <td>-122.170586</td>\n",
       "      <td>OAKLAND, 98TH AVENUE</td>\n",
       "      <td>48300</td>\n",
       "    </tr>\n",
       "    <tr>\n",
       "      <th>3</th>\n",
       "      <td>California</td>\n",
       "      <td>Alameda</td>\n",
       "      <td>7</td>\n",
       "      <td>7</td>\n",
       "      <td>115</td>\n",
       "      <td>Unhealthy for Sensitive Groups</td>\n",
       "      <td>06-001-0009</td>\n",
       "      <td>37.743065</td>\n",
       "      <td>-122.169935</td>\n",
       "      <td>37.74435189</td>\n",
       "      <td>-122.170586</td>\n",
       "      <td>OAKLAND, 98TH AVENUE</td>\n",
       "      <td>48300</td>\n",
       "    </tr>\n",
       "    <tr>\n",
       "      <th>4</th>\n",
       "      <td>California</td>\n",
       "      <td>Alameda</td>\n",
       "      <td>7</td>\n",
       "      <td>7</td>\n",
       "      <td>78</td>\n",
       "      <td>Moderate</td>\n",
       "      <td>06-001-0009</td>\n",
       "      <td>37.743065</td>\n",
       "      <td>-122.169935</td>\n",
       "      <td>37.74435189</td>\n",
       "      <td>-122.170586</td>\n",
       "      <td>OAKLAND, 98TH AVENUE</td>\n",
       "      <td>48300</td>\n",
       "    </tr>\n",
       "  </tbody>\n",
       "</table>\n",
       "</div>"
      ],
      "text/plain": [
       "   State Name county Name  Month  Day  AQI                        Category  \\\n",
       "0  California     Alameda      1    1   53                        Moderate   \n",
       "1  California     Alameda      1    1   40                            Good   \n",
       "2  California     Alameda      7    7   48                            Good   \n",
       "3  California     Alameda      7    7  115  Unhealthy for Sensitive Groups   \n",
       "4  California     Alameda      7    7   78                        Moderate   \n",
       "\n",
       "  Defining Site   Site Lat   Site Long  Traffic Lat  Traffic Long  \\\n",
       "0   06-001-0009  37.743065 -122.169935  37.74435189   -122.170586   \n",
       "1   06-001-0009  37.743065 -122.169935  37.74435189   -122.170586   \n",
       "2   06-001-0009  37.743065 -122.169935  37.74435189   -122.170586   \n",
       "3   06-001-0009  37.743065 -122.169935  37.74435189   -122.170586   \n",
       "4   06-001-0009  37.743065 -122.169935  37.74435189   -122.170586   \n",
       "\n",
       "              Descriptn   AADT  \n",
       "0  OAKLAND, 98TH AVENUE  48300  \n",
       "1  OAKLAND, 98TH AVENUE  48300  \n",
       "2  OAKLAND, 98TH AVENUE  48300  \n",
       "3  OAKLAND, 98TH AVENUE  48300  \n",
       "4  OAKLAND, 98TH AVENUE  48300  "
      ]
     },
     "execution_count": 17,
     "metadata": {},
     "output_type": "execute_result"
    }
   ],
   "source": [
    "geom_traffic = gpd.points_from_xy(traffic_data_cleaned.Longitude, traffic_data_cleaned.Latitude)\n",
    "geom_merged = gpd.points_from_xy(epa_data_CA_merged.Longitude, epa_data_CA_merged.Latitude)\n",
    "\n",
    "gpd_traffic = gpd.GeoDataFrame(traffic_data_cleaned, geometry = geom_traffic)\n",
    "gpd_CA_merged = gpd.GeoDataFrame(epa_data_CA_merged, geometry = geom_merged)\n",
    "\n",
    "joined = gpd.sjoin_nearest(left_df = gpd_CA_merged, right_df = gpd_traffic, how = \"inner\") \n",
    "\n",
    "renaming = {\"Latitude_left\": \"Site Lat\", \"Longitude_left\": \"Site Long\", \"Latitude_right\": \"Traffic Lat\", \n",
    "            \"Longitude_right\": \"Traffic Long\"}\n",
    "\n",
    "joined = joined.rename(columns = renaming)\n",
    "joined[\"Traffic Long\"] = joined[\"Traffic Long\"].astype(str).astype(float)\n",
    "\n",
    "cols = [\"State Name\", \"county Name\", \"Month\", \"Day\", \"AQI\", \"Category\", \"Defining Site\", \"Site Lat\", \"Site Long\", \n",
    "        \"Traffic Lat\", \"Traffic Long\", \"Descriptn\", \"AADT\"]\n",
    "\n",
    "gpd_epa_traffic = joined[cols]\n",
    "\n",
    "gpd_epa_traffic.head()"
   ]
  },
  {
   "cell_type": "code",
   "execution_count": 18,
   "id": "b551886e",
   "metadata": {
    "deletable": false,
    "editable": false
   },
   "outputs": [
    {
     "data": {
      "text/html": [
       "<p><strong><pre style='display: inline;'>q2b</pre></strong> passed!</p>"
      ],
      "text/plain": [
       "q2b results: All test cases passed!"
      ]
     },
     "execution_count": 18,
     "metadata": {},
     "output_type": "execute_result"
    }
   ],
   "source": [
    "grader.check(\"q2b\")"
   ]
  },
  {
   "cell_type": "markdown",
   "id": "cc72f6c9",
   "metadata": {},
   "source": [
    "<br/><br/>\n",
    "\n",
    "---\n",
    "## Section 2: Guided EDA\n"
   ]
  },
  {
   "cell_type": "markdown",
   "id": "07b60cd6",
   "metadata": {
    "deletable": false,
    "editable": false
   },
   "source": [
    "### Question 3a: Initial AQI Analysis\n",
    "\n",
    "Assign a `pd.Series` object to `worst_median_aqis` that contains the states with the top 10 worst median AQIs throughout the year 2020, as measured by the average median AQIs across all counties for a single state. Your result should have index `state`, the column value should be labelled `Average Median AQI`, and it should be arranged in descending order.\n",
    "\n",
    "Now, assign the same thing to `worst_max_aqis`, except instead of aggregating the average median AQIs across all counties, aggregate the average **max AQIs** across all counties. Your result should have the same shape and labels as before, except the column value should be labelled `Average Max AQI`. \n",
    "\n",
    "Note: you may have to remove a few regions in your tables. Make sure every entry in your output is a **US State**.\n",
    "\n",
    "<!--\n",
    "BEGIN QUESTION\n",
    "name: q3a\n",
    "points: 2\n",
    "-->"
   ]
  },
  {
   "cell_type": "code",
   "execution_count": 19,
   "id": "61aac8a2",
   "metadata": {},
   "outputs": [
    {
     "name": "stdout",
     "output_type": "stream",
     "text": [
      "Worst Median AQI : \n",
      "State\n",
      "California       48.018868\n",
      "Arizona          47.307692\n",
      "Utah             41.066667\n",
      "Connecticut      39.125000\n",
      "Delaware         38.000000\n",
      "Mississippi      37.200000\n",
      "New Jersey       36.937500\n",
      "Massachusetts    36.538462\n",
      "Nevada           36.222222\n",
      "Pennsylvania     35.756098\n",
      "Name: Average Median AQI, dtype: float64\n",
      "\n",
      "Worst Max AQI : \n",
      "State\n",
      "Oregon          430.347826\n",
      "Washington      334.419355\n",
      "California      286.981132\n",
      "Arizona         238.230769\n",
      "Idaho           197.857143\n",
      "Wyoming         196.666667\n",
      "Nevada          196.666667\n",
      "Montana         137.421053\n",
      "Rhode Island    133.000000\n",
      "Connecticut     124.750000\n",
      "Name: Average Max AQI, dtype: float64\n"
     ]
    },
    {
     "data": {
      "text/plain": [
       "array([430.35, 334.42, 286.98, 238.23, 197.86, 196.67, 196.67, 137.42,\n",
       "       133.  , 124.75])"
      ]
     },
     "execution_count": 19,
     "metadata": {},
     "output_type": "execute_result"
    }
   ],
   "source": [
    "annual_data = epa_data.get('annual_county_aqi')\n",
    "\n",
    "states = [\"California\", \"Texas\", \"Florida\", \"Washington\", \"Hawaii\", \"Virginia\", \"Alaska\", \"Massachusetts\", \n",
    "         \"New Jersey\", \"Pennsylvania\", \"Montana\", \"North Carolina\", \"Arizona\", \"Georgia\", \"Ohio\", \"Colorado\",\n",
    "         \"Illinois\", \"Michigan\", \"Oregon\", \"New York\", \"Minnesota\", \"Maryland\", \"Louisiana\", \"Connecticut\", \n",
    "         \"Tennessee\", \"Alabama\", \"Indiana\", \"Utah\", \"Maine\", \"Nevada\", \"New Mexico\", \"Missouri\", \"Wisconsin\", \n",
    "         \"Oklahoma\", \"South Carolina\", \"Kentucky\", \"Mississippi\", \"Wyoming\", \"Iowa\", \"Nebraska\", \"Idaho\", \"Kansas\", \n",
    "         \"Delaware\", \"Arkansas\", \"New Hampshire\", \"Vermont\", \"Rhode Island\", \"West Virginia\", \"South Dakota\", \n",
    "         \"North Dakota\"]\n",
    "\n",
    "annual_data = annual_data[annual_data[\"State\"].isin(states)]\n",
    "\n",
    "grouped_avg = annual_data.groupby(\"State\").mean(\"Median AQI\")\n",
    "grouped_avg = grouped_avg.rename(columns = {\"Median AQI\": \"Average Median AQI\"})\n",
    "grouped_avg = grouped_avg.sort_values(\"Average Median AQI\", ascending = False)\n",
    "\n",
    "grouped_max = annual_data.groupby(\"State\").mean(\"Max AQI\")\n",
    "grouped_max = grouped_max.rename(columns = {\"Max AQI\": \"Average Max AQI\"})\n",
    "grouped_max = grouped_max.sort_values(\"Average Max AQI\", ascending = False)\n",
    "\n",
    "\n",
    "worst_median_aqis = grouped_avg.head(10)[\"Average Median AQI\"]\n",
    "worst_max_aqis = grouped_max.head(10)[\"Average Max AQI\"]\n",
    "\n",
    "\n",
    "print(\"Worst Median AQI : \\n{}\\n\".format(worst_median_aqis))\n",
    "print(\"Worst Max AQI : \\n{}\".format(worst_max_aqis))\n",
    "\n",
    "np.round(list(worst_max_aqis), 2)"
   ]
  },
  {
   "cell_type": "code",
   "execution_count": 20,
   "id": "308f7328",
   "metadata": {
    "deletable": false,
    "editable": false
   },
   "outputs": [
    {
     "data": {
      "text/html": [
       "<p><strong><pre style='display: inline;'>q3a</pre></strong> passed!</p>"
      ],
      "text/plain": [
       "q3a results: All test cases passed!"
      ]
     },
     "execution_count": 20,
     "metadata": {},
     "output_type": "execute_result"
    }
   ],
   "source": [
    "grader.check(\"q3a\")"
   ]
  },
  {
   "cell_type": "markdown",
   "id": "2ed7af0d",
   "metadata": {
    "deletable": false,
    "editable": false,
    "tags": []
   },
   "source": [
    "<!-- BEGIN QUESTION -->\n",
    "\n",
    "<br/>\n",
    "\n",
    "### Question 3b: Worst AQI States\n",
    "\n",
    "What are the states that are in both of the top 10 lists? Why do you think most of these states are on both of the lists?\n",
    "\n",
    "<!--\n",
    "BEGIN QUESTION\n",
    "name: q3b\n",
    "manual: True\n",
    "points: 2\n",
    "-->"
   ]
  },
  {
   "cell_type": "markdown",
   "id": "5afe8e40",
   "metadata": {},
   "source": [
    "_California, Arizona, and Connecticut are countries that make both top 10 lists. California had a devistating fire season that both maxxed poor air quality and also sustained it for a long period of time across the state. Moreover, large valleys and basins in California like the San Fernando Valley and Riverside County allow air to settle for long periods of time. This sustains poor air quality for longer pushing up the median AQI. As for Arizona, it also had an intense wildfire season in the year 2020 proving to be the largest season since 2011 (per wikipedia). Arizona is also a neighboring state of California which may have experienced a settling of a lot of the particulates from the California wildfires. Moreover, Arizona is a desert which does not experience much weather like rain which helps clear up the atmosphere, leading to a median push._"
   ]
  },
  {
   "cell_type": "markdown",
   "id": "129b9ef4",
   "metadata": {
    "deletable": false,
    "editable": false
   },
   "source": [
    "<!-- END QUESTION -->\n",
    "\n",
    "<br/>\n",
    "\n",
    "### Question 4a: Missing AQI Data\n",
    "\n",
    "We want to see the accessibility of the AQI data across states. In the following cell, assign `days_with_AQI` to a series that contains the state as the index and the average number of days with AQI entries across all counties in that state as the value. Make sure to label the series as `Days with AQI` and sort in ascending order (smallest average number of days at the top). As before, make sure to remove the regions that are not **US States** from your series.\n",
    "\n",
    "<!--\n",
    "BEGIN QUESTION\n",
    "name: q4a\n",
    "points: 2\n",
    "-->"
   ]
  },
  {
   "cell_type": "code",
   "execution_count": 21,
   "id": "200bab31",
   "metadata": {},
   "outputs": [
    {
     "data": {
      "text/plain": [
       "State\n",
       "Alaska        235.222222\n",
       "Arkansas      251.545455\n",
       "New Mexico    264.062500\n",
       "Virginia      265.303030\n",
       "Colorado      278.892857\n",
       "Name: Days with AQI, dtype: float64"
      ]
     },
     "execution_count": 21,
     "metadata": {},
     "output_type": "execute_result"
    }
   ],
   "source": [
    "days_with_AQI = annual_data.groupby('State').mean()\n",
    "days_with_AQI = days_with_AQI.sort_values(by = 'Days with AQI', ascending = True)['Days with AQI']\n",
    "\n",
    "days_with_AQI.head()"
   ]
  },
  {
   "cell_type": "code",
   "execution_count": 22,
   "id": "c7982396",
   "metadata": {
    "deletable": false,
    "editable": false
   },
   "outputs": [
    {
     "data": {
      "text/html": [
       "<p><strong><pre style='display: inline;'>q4a</pre></strong> passed!</p>"
      ],
      "text/plain": [
       "q4a results: All test cases passed!"
      ]
     },
     "execution_count": 22,
     "metadata": {},
     "output_type": "execute_result"
    }
   ],
   "source": [
    "grader.check(\"q4a\")"
   ]
  },
  {
   "cell_type": "markdown",
   "id": "77eeaccc",
   "metadata": {},
   "source": [
    "<br/>\n",
    "\n",
    "### Question 4b: What are the missing dates?\n",
    "\n",
    "In the following cell, we create the series `ca_aqi_days` that outputs a series with each county in California mapped to the number of days that they have AQI data on. Notice that there exists a few counties without the full year of data, which is what you will be taking a closer look at in the following two parts."
   ]
  },
  {
   "cell_type": "code",
   "execution_count": 23,
   "id": "9442b8cb",
   "metadata": {},
   "outputs": [
    {
     "data": {
      "text/plain": [
       "54    274\n",
       "96    331\n",
       "63    351\n",
       "98    353\n",
       "49    359\n",
       "76    360\n",
       "51    364\n",
       "57    364\n",
       "72    365\n",
       "79    366\n",
       "Name: Days with AQI, dtype: int64"
      ]
     },
     "execution_count": 23,
     "metadata": {},
     "output_type": "execute_result"
    }
   ],
   "source": [
    "ca_annual_data = epa_data.get('annual_county_aqi')[epa_data.get('annual_county_aqi')['State'] == 'California']\n",
    "ca_aqi_days = ca_annual_data['Days with AQI'].sort_values()\n",
    "ca_aqi_days.head(10)"
   ]
  },
  {
   "cell_type": "markdown",
   "id": "792d52bc",
   "metadata": {
    "deletable": false,
    "editable": false
   },
   "source": [
    "#### Question 4bi: Missing Days\n",
    "\n",
    "Assign `county_to_missing_dates` to a dictionary that maps each county with less than the full year of data to the dates that have missing AQI data. Make sure that your keys are just the county name (no whitespace around it or `, California` appended to it) and the values are of the format `yyyy-mm-dd`.\n",
    "\n",
    "<!--\n",
    "BEGIN QUESTION\n",
    "name: q4i\n",
    "points: 2\n",
    "-->"
   ]
  },
  {
   "cell_type": "code",
   "execution_count": 24,
   "id": "6c64da0f",
   "metadata": {},
   "outputs": [],
   "source": [
    "county_to_missing_dates = {}\n",
    "\n",
    "missing_date_counties = ['Del Norte', 'Trinity', 'Lake', 'Tuolumne', 'Amador', 'Plumas', 'Calaveras', 'Glenn', 'Napa']\n",
    "d1 = epa_data_CA.get('daily_county_aqi')\n",
    "for county in missing_date_counties:\n",
    "    curr_d1 = d1[d1['county Name'] == county]\n",
    "    date_series = curr_d1['Date'].value_counts()\n",
    "    idx = pd.date_range('01-01-2020', '12-31-2020')\n",
    "    s = pd.Series(date_series)\n",
    "    s.index = pd.DatetimeIndex(s.index)\n",
    "    s = s.reindex(idx, fill_value=0)\n",
    "    for index, value in s.items():\n",
    "        if value == 0 and county not in county_to_missing_dates:\n",
    "            county_to_missing_dates[county] = [str(index)[:10]]\n",
    "        elif value == 0 and county in county_to_missing_dates:\n",
    "            county_to_missing_dates[county].append(str(index)[:10])\n",
    "            "
   ]
  },
  {
   "cell_type": "code",
   "execution_count": 25,
   "id": "e2470372",
   "metadata": {
    "deletable": false,
    "editable": false
   },
   "outputs": [
    {
     "data": {
      "text/html": [
       "<p><strong><pre style='display: inline;'>q4i</pre></strong> passed!</p>"
      ],
      "text/plain": [
       "q4i results: All test cases passed!"
      ]
     },
     "execution_count": 25,
     "metadata": {},
     "output_type": "execute_result"
    }
   ],
   "source": [
    "grader.check(\"q4i\")"
   ]
  },
  {
   "cell_type": "markdown",
   "id": "ff49cc54",
   "metadata": {
    "deletable": false,
    "editable": false
   },
   "source": [
    "<!-- BEGIN QUESTION -->\n",
    "\n",
    "#### Question 4bii: Missing Days\n",
    "\n",
    "Are there any key missing dates in common between the counties that have missing AQI data? What two counties have the most missing days and why do you think they do?\n",
    "\n",
    "<!--\n",
    "BEGIN QUESTION\n",
    "name: q4bii\n",
    "manual: True\n",
    "points: 2\n",
    "-->"
   ]
  },
  {
   "cell_type": "markdown",
   "id": "07c6c60a",
   "metadata": {},
   "source": [
    "_There do not appear to be any missing dates in common between the counties that have missing AQI data; when inspecting the dictionary we see very few dates that are in more than one county.  The two counties that contain the most missing dates are Del Norte County and Trinity County.  These two counties are very close in proximity to one another (Northwest corner of California) and also have extremely low populations.  Together these two counties have a combined population of approximately 40,000 residents; thus, we infer that there may be a lack of AQI monitoring in this specific region due to the low number of people inhabiting this area._"
   ]
  },
  {
   "cell_type": "markdown",
   "id": "fbbc718f",
   "metadata": {},
   "source": [
    "<!-- END QUESTION -->\n",
    "\n",
    "\n",
    "\n",
    "<br/>\n",
    "\n",
    "### Question 5a: AQI over Time "
   ]
  },
  {
   "cell_type": "markdown",
   "id": "aeeba668",
   "metadata": {
    "deletable": false,
    "editable": false
   },
   "source": [
    "Assign `aqi_per_month` to a series of the average aqi per month across all US states and `aqi_per_month_CA` to a series of the average AQI per month across California.\n",
    "\n",
    "<!--\n",
    "BEGIN QUESTION\n",
    "name: q5a\n",
    "points: 1\n",
    "-->"
   ]
  },
  {
   "cell_type": "code",
   "execution_count": 26,
   "id": "a243c2dc",
   "metadata": {},
   "outputs": [
    {
     "name": "stdout",
     "output_type": "stream",
     "text": [
      "AQI per Month: \n",
      "Month\n",
      "1     31.032050\n",
      "2     32.258621\n",
      "3     34.509181\n",
      "4     37.287264\n",
      "5     36.273464\n",
      "6     40.533681\n",
      "7     40.070404\n",
      "8     41.252281\n",
      "9     43.290611\n",
      "10    35.285558\n",
      "11    34.184020\n",
      "12    34.990632\n",
      "Name: AQI, dtype: float64\n",
      "\n",
      "AQI per Month California : \n",
      "Month\n",
      "1      46.346888\n",
      "2      47.110236\n",
      "3      40.114094\n",
      "4      41.443462\n",
      "5      49.538319\n",
      "6      47.996146\n",
      "7      56.069375\n",
      "8      79.960220\n",
      "9     107.020228\n",
      "10     75.491763\n",
      "11     52.070573\n",
      "12     53.645516\n",
      "Name: AQI, dtype: float64\n"
     ]
    }
   ],
   "source": [
    "x = epa_data.get('daily_county_aqi')\n",
    "x = pd.DataFrame(x.groupby('Month').agg(np.mean))\n",
    "aqi_per_month = x['AQI']\n",
    "\n",
    "x_CA = epa_data_CA.get('daily_county_aqi')\n",
    "x_CA = pd.DataFrame(x_CA.groupby('Month').agg(np.mean))\n",
    "aqi_per_month_CA = x_CA['AQI']\n",
    "\n",
    "\n",
    "print(\"AQI per Month: \\n{}\\n\".format(aqi_per_month))\n",
    "print(\"AQI per Month California : \\n{}\".format(aqi_per_month_CA))"
   ]
  },
  {
   "cell_type": "code",
   "execution_count": 27,
   "id": "c03e76e1",
   "metadata": {
    "deletable": false,
    "editable": false
   },
   "outputs": [
    {
     "data": {
      "text/html": [
       "<p><strong><pre style='display: inline;'>q5a</pre></strong> passed!</p>"
      ],
      "text/plain": [
       "q5a results: All test cases passed!"
      ]
     },
     "execution_count": 27,
     "metadata": {},
     "output_type": "execute_result"
    }
   ],
   "source": [
    "grader.check(\"q5a\")"
   ]
  },
  {
   "cell_type": "markdown",
   "id": "738baa95",
   "metadata": {
    "deletable": false,
    "editable": false
   },
   "source": [
    "<!-- BEGIN QUESTION -->\n",
    "\n",
    "<br/>\n",
    "\n",
    "### Question 5b: AQI over Time Analysis \n",
    "\n",
    "Is there anything interesting that you notice in `aqi_per_month_CA`? If so, why do you think that is?\n",
    "\n",
    "<!--\n",
    "BEGIN QUESTION\n",
    "name: q5b\n",
    "manual: True\n",
    "points: 1\n",
    "-->"
   ]
  },
  {
   "cell_type": "markdown",
   "id": "bf8fcea7",
   "metadata": {},
   "source": [
    "_Yes, we notice that there is an exceedingly high AQI level in September (107).  Also, we observe higher than usual AQI levels in the neighboring months of August (79) and October (75); whereas most other months hover around an AQI level of 40-50.  A possible explanation for this is that California experiences very severe wildfires during this time of the year; which is a direct cause of hieghtened AQI._"
   ]
  },
  {
   "cell_type": "markdown",
   "id": "e939efa5",
   "metadata": {
    "deletable": false,
    "editable": false
   },
   "source": [
    "<!-- END QUESTION -->\n",
    "\n",
    "<!-- BEGIN QUESTION -->\n",
    "\n",
    "<br/>\n",
    "\n",
    "### Question 5c: Modeling AQI over Time\n",
    "\n",
    "Based on the AQI pattern in the year 2020, if we were to model AQI over the last 10 years, with the average AQI per year being the same, what sort of parametric function $f(x)$ would you use? Let us say that we see a linear increase in the average AQI per year over the last 10 years instead, then what parametric function $g(x)$ would you use?\n",
    "\n",
    "<!--\n",
    "BEGIN QUESTION\n",
    "name: q5c\n",
    "manual: True\n",
    "points: 3\n",
    "-->"
   ]
  },
  {
   "cell_type": "markdown",
   "id": "44e24030",
   "metadata": {},
   "source": [
    "_The parameteric function that represents a constant model: f(x) = a * cos($\\omega$t + b) + $\\theta$. \n",
    "The parametric function that represents a linear model: g(x) =a * cos($\\omega$t + b) + c * t + $\\theta$ ._"
   ]
  },
  {
   "cell_type": "markdown",
   "id": "389dc921",
   "metadata": {},
   "source": [
    "<!-- END QUESTION -->\n",
    "\n",
    "\n",
    "\n",
    "<br/>\n",
    "\n",
    "### Question 6a: Create Heatmap Buckets\n",
    "\n",
    "Now we want to create a function called `bucket_data`, which takes in the following parameters: `table`, `resolution`. It outputs a pivot table with the latitude bucket (smallest latitude for that grid point) on the index and the longitude bucket (smallest longitude for that grid point) on the columns. The values in the pivot table should be the average AQI of the monitor sites inside that respective rectangle grid of latitudes and longitudes. The following should be the output of `bucket_data(epa_data_CA_merged, np.mean, 5)`:\n",
    "\n",
    "<img src=\"images/q6a.png\" width=\"600px\" align=\"center\"/>"
   ]
  },
  {
   "cell_type": "markdown",
   "id": "65b89123",
   "metadata": {
    "deletable": false,
    "editable": false
   },
   "source": [
    "The `resolution` parameter describes the number of buckets that the latitudes and longitudes are divided into on the heatmap. As an example, let us say that the range of longitudes for site monitors are between \\[100, 110\\]; make sure that the start of the range is exactly the **minimum** of all longitude values of your site monitors and the end of the range is the exactly the **maximum** of all longitude values of your site monitors. Let us say that we have a resolution of 10. Then we have the buckets \n",
    "$$([100, 101], [101, 102], ..., [109, 110])$$\n",
    "\n",
    "The column and row labels of this dataframe should be labelled as the **start** of the bucket. In the case of the example above, the names of the buckets should be $ 100, 101, \\dots 109 $. Note that we are just looking at the longitude dimension in this example, and you have to do do the same for the latitude dimension along the rows in order to build the pivot table.\n",
    "\n",
    "Finally, make sure the row and column labels of your pivot table are **exactly** the same as the example given above. \n",
    "<!--\n",
    "BEGIN QUESTION\n",
    "name: q6a\n",
    "points: 6\n",
    "-->"
   ]
  },
  {
   "cell_type": "code",
   "execution_count": 28,
   "id": "7c0eb71f",
   "metadata": {},
   "outputs": [
    {
     "data": {
      "text/html": [
       "<div>\n",
       "<style scoped>\n",
       "    .dataframe tbody tr th:only-of-type {\n",
       "        vertical-align: middle;\n",
       "    }\n",
       "\n",
       "    .dataframe tbody tr th {\n",
       "        vertical-align: top;\n",
       "    }\n",
       "\n",
       "    .dataframe thead tr th {\n",
       "        text-align: left;\n",
       "    }\n",
       "\n",
       "    .dataframe thead tr:last-of-type th {\n",
       "        text-align: right;\n",
       "    }\n",
       "</style>\n",
       "<table border=\"1\" class=\"dataframe\">\n",
       "  <thead>\n",
       "    <tr>\n",
       "      <th></th>\n",
       "      <th colspan=\"5\" halign=\"left\">AQI</th>\n",
       "    </tr>\n",
       "    <tr>\n",
       "      <th>long_bucket</th>\n",
       "      <th>-124.20</th>\n",
       "      <th>-122.28</th>\n",
       "      <th>-120.36</th>\n",
       "      <th>-118.44</th>\n",
       "      <th>-116.52</th>\n",
       "    </tr>\n",
       "    <tr>\n",
       "      <th>lat_bucket</th>\n",
       "      <th></th>\n",
       "      <th></th>\n",
       "      <th></th>\n",
       "      <th></th>\n",
       "      <th></th>\n",
       "    </tr>\n",
       "  </thead>\n",
       "  <tbody>\n",
       "    <tr>\n",
       "      <th>32.58</th>\n",
       "      <td>NaN</td>\n",
       "      <td>NaN</td>\n",
       "      <td>65.317391</td>\n",
       "      <td>87.059645</td>\n",
       "      <td>67.955508</td>\n",
       "    </tr>\n",
       "    <tr>\n",
       "      <th>34.41</th>\n",
       "      <td>NaN</td>\n",
       "      <td>50.221983</td>\n",
       "      <td>67.597970</td>\n",
       "      <td>74.442308</td>\n",
       "      <td>58.294118</td>\n",
       "    </tr>\n",
       "    <tr>\n",
       "      <th>36.25</th>\n",
       "      <td>42.792276</td>\n",
       "      <td>51.489882</td>\n",
       "      <td>81.094254</td>\n",
       "      <td>74.704918</td>\n",
       "      <td>NaN</td>\n",
       "    </tr>\n",
       "    <tr>\n",
       "      <th>38.08</th>\n",
       "      <td>38.934803</td>\n",
       "      <td>53.699484</td>\n",
       "      <td>48.977778</td>\n",
       "      <td>NaN</td>\n",
       "      <td>NaN</td>\n",
       "    </tr>\n",
       "    <tr>\n",
       "      <th>39.92</th>\n",
       "      <td>38.790792</td>\n",
       "      <td>55.207065</td>\n",
       "      <td>NaN</td>\n",
       "      <td>NaN</td>\n",
       "      <td>NaN</td>\n",
       "    </tr>\n",
       "  </tbody>\n",
       "</table>\n",
       "</div>"
      ],
      "text/plain": [
       "                   AQI                                            \n",
       "long_bucket    -124.20    -122.28    -120.36    -118.44    -116.52\n",
       "lat_bucket                                                        \n",
       "32.58              NaN        NaN  65.317391  87.059645  67.955508\n",
       "34.41              NaN  50.221983  67.597970  74.442308  58.294118\n",
       "36.25        42.792276  51.489882  81.094254  74.704918        NaN\n",
       "38.08        38.934803  53.699484  48.977778        NaN        NaN\n",
       "39.92        38.790792  55.207065        NaN        NaN        NaN"
      ]
     },
     "execution_count": 28,
     "metadata": {},
     "output_type": "execute_result"
    }
   ],
   "source": [
    "def bucket_data(table, aggfunc, resolution):\n",
    "    long_bucket = np.sort(np.linspace(table['Longitude'].min(), table['Longitude'].max(), num=resolution, endpoint = False))\n",
    "    lat_bucket = np.sort(np.linspace(table['Latitude'].min(), table['Latitude'].max(), num=resolution, endpoint = False))\n",
    "\n",
    "    long_bucket_map = dict(list(zip(long_bucket, np.around(long_bucket, decimals=2))))\n",
    "    lat_bucket_map = dict(list(zip(lat_bucket, np.around(lat_bucket, decimals=2))))\n",
    "\n",
    "    get_long_bucket_num = lambda loc: long_bucket_map.get(long_bucket[long_bucket <= loc].max())\n",
    "    get_lat_bucket_num = lambda loc: lat_bucket_map.get(lat_bucket[lat_bucket <= loc].max())\n",
    "\n",
    "    table['long_bucket'] = table['Longitude'].apply(get_long_bucket_num)\n",
    "    table['lat_bucket'] = table['Latitude'].apply(get_lat_bucket_num)\n",
    "\n",
    "    pivot_cols = ['lat_bucket', 'long_bucket', 'AQI']\n",
    "    return pd.pivot_table(table[pivot_cols], index= 'lat_bucket', columns = 'long_bucket', aggfunc=aggfunc)\n",
    "\n",
    "\n",
    "bucket_data(epa_data_CA_merged, np.mean, 5)"
   ]
  },
  {
   "cell_type": "code",
   "execution_count": 29,
   "id": "4b097507",
   "metadata": {
    "deletable": false,
    "editable": false
   },
   "outputs": [
    {
     "data": {
      "text/html": [
       "<p><strong><pre style='display: inline;'>q6a</pre></strong> passed!</p>"
      ],
      "text/plain": [
       "q6a results: All test cases passed!"
      ]
     },
     "execution_count": 29,
     "metadata": {},
     "output_type": "execute_result"
    }
   ],
   "source": [
    "grader.check(\"q6a\")"
   ]
  },
  {
   "cell_type": "markdown",
   "id": "39ec7023",
   "metadata": {
    "deletable": false,
    "editable": false
   },
   "source": [
    "<br/>\n",
    "\n",
    "### Question 6b: Visualize Heatmap\n",
    "\n",
    "Assign `heatmap_data` to a heatmap bucket pivot table aggregated by median with resolution 30 for California AQI for the month of september. The code in the following cell will plot this heatmap for you. \n",
    "\n",
    "<!--\n",
    "BEGIN QUESTION\n",
    "name: q6b\n",
    "points: 1\n",
    "-->"
   ]
  },
  {
   "cell_type": "code",
   "execution_count": 30,
   "id": "80dddafb",
   "metadata": {},
   "outputs": [
    {
     "data": {
      "image/png": "[encoded data removed]",
      "text/plain": [
       "<Figure size 1080x576 with 2 Axes>"
      ]
     },
     "metadata": {
      "needs_background": "light"
     },
     "output_type": "display_data"
    }
   ],
   "source": [
    "data = epa_data_CA_merged\n",
    "data = data[data['Month'] == 9]\n",
    "\n",
    "heatmap_data = bucket_data(data, np.median, 30)\n",
    "\n",
    "\n",
    "#create visualization\n",
    "plt.figure(figsize=(15, 8))\n",
    "ax = sns.heatmap(heatmap_data, vmin=0, vmax=230, cmap = sns.cm.rocket_r)\n",
    "ax.invert_yaxis()\n",
    "plt.show()"
   ]
  },
  {
   "cell_type": "code",
   "execution_count": 31,
   "id": "f26c7478",
   "metadata": {
    "deletable": false,
    "editable": false
   },
   "outputs": [
    {
     "data": {
      "text/html": [
       "<p><strong><pre style='display: inline;'>q6b</pre></strong> passed!</p>"
      ],
      "text/plain": [
       "q6b results: All test cases passed!"
      ]
     },
     "execution_count": 31,
     "metadata": {},
     "output_type": "execute_result"
    }
   ],
   "source": [
    "grader.check(\"q6b\")"
   ]
  },
  {
   "cell_type": "markdown",
   "id": "dfc1c343",
   "metadata": {
    "deletable": false,
    "editable": false
   },
   "source": [
    "<!-- BEGIN QUESTION -->\n",
    "\n",
    "<br/>\n",
    "\n",
    "### Question 6c: Analyze Heatmap\n",
    "\n",
    "Look up where the dark regions correspond to. Does this heatmap make sense?\n",
    "\n",
    "<!--\n",
    "BEGIN QUESTION\n",
    "name: q6c\n",
    "manual: True\n",
    "points: 2\n",
    "-->"
   ]
  },
  {
   "cell_type": "markdown",
   "id": "1338999e",
   "metadata": {},
   "source": [
    "_This heat map makes a lot of sense because it corresponds to the shape of California. The coastlines, naturally, have the good air quality because ocean weather fronts clear the air and correspond to light colors. However, once we get to industrial regions like Los Angeles, despite being near the coast, has poor AQI and dark regions. Moreover, as we move inland to the Valleys, like the San Fernando Valley and Death Valley, as well as the heavily forested regions in the Sierra Nevada we start to see AQI levels rise._"
   ]
  },
  {
   "cell_type": "markdown",
   "id": "bb9e18aa",
   "metadata": {},
   "source": [
    "<!-- END QUESTION -->\n",
    "\n",
    "\n",
    "\n",
    "<br/><br/>\n",
    "\n",
    "---\n",
    "## Part 3: Open-Ended EDA\n",
    "\n",
    "Not that we have explored the data both spatially and temporally, we want to be able to look at what other indicators there are for air quality in California. Through the previous few questions we have discussed that wilfire data as well as temperature may be good indicators, but we can explitly look at correlations via the temperature to verify our hypothesis. Like temperature, there are other columns of data such as particulate matter, chemical concentrations, wind data, etc. Your open-ended EDA will be useful for filling in missing points in the heatmap that you created in question 4b. \n",
    "\n",
    "Your goal in this question is to find relationships between AQI and other features in the current datasets, across time and space. Your exploration can include, but is not limited to: \n",
    "- Looking at correlations between AQI and various columns of interest in `epa_data_CA`.\n",
    "    - This will require some merging, which you can look at question 1 for reference. \n",
    "- Performing clustering and/or other unsupervised learning methods such as PCA to discover clusters or useful (combinations of) features in the data.\n",
    "- Merging and exploring other external datasets that you may think are useful."
   ]
  },
  {
   "cell_type": "markdown",
   "id": "af361520",
   "metadata": {
    "deletable": false,
    "editable": false
   },
   "source": [
    "<!-- BEGIN QUESTION -->\n",
    "\n",
    "### Question 7a - Code and Analysis\n",
    "\n",
    "Please complete all of your analysis in the **single cell** below based on the prompt above.\n",
    "\n",
    "<!--\n",
    "BEGIN QUESTION\n",
    "name: q7a\n",
    "manual: True\n",
    "points: 10\n",
    "-->"
   ]
  },
  {
   "cell_type": "code",
   "execution_count": 32,
   "id": "d584c43f",
   "metadata": {},
   "outputs": [],
   "source": [
    "from sklearn.pipeline import Pipeline,make_pipeline\n",
    "\n",
    "\n",
    "#creating our merging and cleaning pipeline\n",
    "def split_dates(df):\n",
    "    df['Month'] = pd.to_datetime(df['Date Local']).dt.month  \n",
    "    df['Day'] = pd.to_datetime(df['Date Local']).dt.day\n",
    "    return df\n",
    "\n",
    "def is_city(df):\n",
    "    array = []\n",
    "\n",
    "    for i in df[\"City Name\"]:\n",
    "        if i == \"Not in a city\":\n",
    "            array.append(1)\n",
    "        else:\n",
    "            array.append(0)\n",
    "    return df\n",
    "\n",
    "def get_features(df):\n",
    "    wanted = [\"County Code\", \"Site Num\", \n",
    "          \"Month\", \"Day\", \"Arithmetic Mean\"]\n",
    "    \n",
    "    return df[wanted]\n",
    "\n",
    "wanted = [\"County Code\", \"Site Number\", \"Month\", \"Day\", \"AQI\"]\n",
    "cleaned_AQI = epa_data_CA.get(\"daily_county_aqi\")[wanted].rename(columns = {\"Site Number\": \"Site Num\"})\n",
    "\n",
    "def data_creation():\n",
    "    \n",
    "    array = [\"daily_wind\", \"daily_no2\", \"daily_ozone\", \"daily_temp\", \"daily_so2\"]#, \"daily_co\"]\n",
    "    \n",
    "    names = [\"Mean Wind Speed (Knots)\", \"Mean Nitrogen Dioxide (ppb)\", \"Mean Ozone (ppm)\", \"Mean Temp (F)\"]\n",
    "    \n",
    "    storage = {}\n",
    "    \n",
    "    for i in range(len(array)):\n",
    "        \n",
    "        data = epa_data_CA.get(array[i])\n",
    "        data = data.pipe(split_dates).pipe(is_city).pipe(get_features)\n",
    "        #data_cleaned = data.groupby([\"County Code\", \"Site Num\", \"Month\"], as_index = False)\n",
    "        #data_cleaned = data_cleaned.agg({\"Arithmetic Mean\": \"mean\"})\n",
    "        #data_cleaned = data_cleaned.rename(columns = {\"Arithmetic Mean\": names[i]})\n",
    "        \n",
    "        storage[array[i]] = data\n",
    "        \n",
    "    return storage\n",
    "\n",
    "\n",
    "def merge_data():\n",
    "    \n",
    "    start = data_creation()\n",
    "    names = [\"Mean Wind Speed (Knots)\", \"Mean Nitrogen Dioxide (ppb)\", \"Mean Ozone (ppm)\", \"Mean Temp (F)\", \n",
    "             \"Mean Sulphur Dioxide (ppb)\"]#, \"Mean Carbon Monoxide (ppb)\"]\n",
    "\n",
    "    values = []\n",
    "    for key in start:\n",
    "        values.append(key)\n",
    "        \n",
    "    index = 0\n",
    "    \n",
    "    merged = cleaned_AQI.merge(start[values[index]], on = [\"County Code\", \"Site Num\", \"Month\", \"Day\"])\n",
    "    merged = merged.rename(columns = {\"Arithmetic Mean\": names[index]})\n",
    "    index += 1\n",
    "    # merged = merged.merge(start[values[index + 1]], on = [\"County Code\", \"Site Num\", \"Month\", \"Day\"])\n",
    "    # merged = merged.merge(start[values[index + 2]], on = [\"County Code\", \"Site Num\", \"Month\", \"Day\"])\n",
    "    # merged = merged.merge(start[values[index + 3]], on = [\"County Code\", \"Site Num\", \"Month\", \"Day\"])\n",
    "    # merged = merged.merge(start[values[index + 4]], on = [\"County Code\", \"Site Num\", \"Month\", \"Day\"])\n",
    "    # merged = merged.merge(start[values[index + 5]], on = [\"County Code\", \"Site Num\", \"Month\", \"Day\"])\n",
    "\n",
    "    \n",
    "    while index < len(start):\n",
    "        \n",
    "        merged = merged.merge(start[values[index]], on = [\"County Code\", \"Site Num\", \"Month\", \"Day\"])\n",
    "        merged = merged.rename(columns = {\"Arithmetic Mean\": names[index]})\n",
    "        index += 1\n",
    "    \n",
    "    #return merged.value_counts(\"County Code\")\n",
    "    data_cleaned = merged.groupby([\"County Code\", \"Month\"], as_index = False).mean()\n",
    "    return data_cleaned\n",
    "       \n",
    "data = merge_data()"
   ]
  },
  {
   "cell_type": "markdown",
   "id": "e40a68bb",
   "metadata": {
    "deletable": false,
    "editable": false
   },
   "source": [
    "<!-- END QUESTION -->\n",
    "\n",
    "<!-- BEGIN QUESTION -->\n",
    "\n",
    "<br/>\n",
    "\n",
    "### Question 7b - Visualization\n",
    "\n",
    "Please create **two** visualizations to summarize your analysis above. The only restrictions are that these visualizations **cannot** simply be scatterplots between two features in the dataset(s) and **cannot** be of the same type (dont make two bar graphs, for example). \n",
    "\n",
    "<!--\n",
    "BEGIN QUESTION\n",
    "name: q7b\n",
    "manual: True\n",
    "points: 4\n",
    "-->"
   ]
  },
  {
   "cell_type": "code",
   "execution_count": 33,
   "id": "3f94c859",
   "metadata": {},
   "outputs": [
    {
     "data": {
      "image/png": "[encoded data removed]",
      "text/plain": [
       "<Figure size 432x288 with 1 Axes>"
      ]
     },
     "metadata": {
      "needs_background": "light"
     },
     "output_type": "display_data"
    },
    {
     "data": {
      "image/png": "[encoded data removed]",
      "text/plain": [
       "<Figure size 432x288 with 2 Axes>"
      ]
     },
     "metadata": {
      "needs_background": "light"
     },
     "output_type": "display_data"
    },
    {
     "data": {
      "image/png": "[encoded data removed]",
      "text/plain": [
       "<Figure size 900x180 with 5 Axes>"
      ]
     },
     "metadata": {
      "needs_background": "light"
     },
     "output_type": "display_data"
    },
    {
     "data": {
      "image/png": "[encoded data removed]",
      "text/plain": [
       "<Figure size 900x900 with 30 Axes>"
      ]
     },
     "metadata": {
      "needs_background": "light"
     },
     "output_type": "display_data"
    }
   ],
   "source": [
    "sns.lineplot(data=data, x='Month', y='AQI', hue='County Code')\n",
    "plt.legend(loc='upper left')\n",
    "plt.show()\n",
    "\n",
    "piv = data.pivot(\"Month\", \"County Code\", \"AQI\")\n",
    "ax = sns.heatmap(piv)\n",
    "plt.show()\n",
    "\n",
    "pp = sns.pairplot(data=data,\n",
    "                  x_vars=['Mean Wind Speed (Knots)', 'Mean Nitrogen Dioxide (ppb)', 'Mean Ozone (ppm)', 'Mean Temp (F)', 'Mean Sulphur Dioxide (ppb)'],\n",
    "                  y_vars=['AQI'])\n",
    "plt.show() \n",
    "\n",
    "pp2 = sns.pairplot(data=data,\n",
    "                  x_vars=['Mean Wind Speed (Knots)', 'Mean Nitrogen Dioxide (ppb)', 'Mean Ozone (ppm)', 'Mean Temp (F)', 'Mean Sulphur Dioxide (ppb)'],\n",
    "                  y_vars=['Mean Wind Speed (Knots)', 'Mean Nitrogen Dioxide (ppb)', 'Mean Ozone (ppm)', 'Mean Temp (F)', 'Mean Sulphur Dioxide (ppb)'])\n",
    "plt.show()"
   ]
  },
  {
   "cell_type": "markdown",
   "id": "331e4060",
   "metadata": {
    "deletable": false,
    "editable": false
   },
   "source": [
    "<!-- END QUESTION -->\n",
    "\n",
    "<!-- BEGIN QUESTION -->\n",
    "\n",
    "<br/>\n",
    "\n",
    "### Question 7c - Summary\n",
    "\n",
    "In a paragraph, summarize the your findings and visualizations and explain how they will be useful for predicting AQI. Make sure that your answer is thoughtful and detailed in that it describes what you did and how you reached your conclusion. \n",
    "\n",
    "<!--\n",
    "BEGIN QUESTION\n",
    "name: q7c\n",
    "manual: True\n",
    "points: 4\n",
    "-->"
   ]
  },
  {
   "cell_type": "markdown",
   "id": "540a0fb7",
   "metadata": {},
   "source": [
    "The first lineplot show how the average AQI changes per month in the year of 2020 for counties for which we have the following data: Mean Wind Speed (Knots), Mean Nitrogen Dioxide (ppb), Mean Ozone (ppm), Mean Temp (F), Mean Sulphur Dioxide (ppb). The lineplot shows a clear temporality to the data, specifically that average monthly AQI uniformly increases depending on the seasons; hotter summer months yield higher average AQIs, and vice versa.\n",
    "\n",
    "The heat map shows roughly the same idea, however it also reveals that there are large chunks of monthly data missing for certain counties. We will have to map county codes to county names later on, as well as do some geographical mapping to see spatial trends.\n",
    "\n",
    "The first of the set of two pairplots shows scatterplots of AQI and each of 'Mean Wind Speed (Knots)', 'Mean Nitrogen Dioxide (ppb)', 'Mean Ozone (ppm)', 'Mean Temp (F)', 'Mean Sulphur Dioxide (ppb)'. These scatterplots reveal that there is generally a very significant correlation between these variables and AQI, with the exception of temperature (which is a little more tenuous). This is very heartening to see and poses a great deal of avenues to investigate in the future.\n",
    "\n",
    "The last pairplot set shows relationships between 'Mean Wind Speed (Knots)', 'Mean Nitrogen Dioxide (ppb)', 'Mean Ozone (ppm)', 'Mean Temp (F)', 'Mean Sulphur Dioxide (ppb)' and 'Mean Wind Speed (Knots)', 'Mean Nitrogen Dioxide (ppb)', 'Mean Ozone (ppm)', 'Mean Temp (F)', 'Mean Sulphur Dioxide (ppb)'. There are some interesting observations here as well, such as the fact that wind speed and ozone are very highly correlated. We plan to do PCA and see whether we can find redundant variables in situations like these."
   ]
  },
  {
   "cell_type": "markdown",
   "id": "7bed937a",
   "metadata": {},
   "source": [
    "<!-- END QUESTION -->\n",
    "\n",
    "\n",
    "\n",
    "<br/><br/>\n",
    "\n",
    "---\n",
    "## Part 4: Guided Modeling\n",
    "\n",
    "For this part, we will be looking at some open-ended modeling approaches to answering the question of predicting AQI given a location and a date. \n",
    "\n",
    "### Question 8 - Interpolation\n",
    "\n",
    "For this part, we will be using a simple interpolation to find the missing grid values for AQI on the heatmap visualization that you produced in part 1. Simple linear interpolation just takes the locations' values and averages them to produce an estimate of the current location. Though this is not as predictive (we are not predicting based on features about the location itself), it will give you a sense of the task at hand for the remainder of the project. \n",
    "\n",
    "As a reminder, the heatmap produced after running the cell below is the one you produced for question 6b when creating a visualization for the AQI in California for the month of september. It produces white spaces where there exist `NaN` values in the pivot table. "
   ]
  },
  {
   "cell_type": "code",
   "execution_count": 34,
   "id": "61fe3c84",
   "metadata": {},
   "outputs": [
    {
     "data": {
      "image/png": "[encoded data removed]",
      "text/plain": [
       "<Figure size 1080x576 with 2 Axes>"
      ]
     },
     "metadata": {
      "needs_background": "light"
     },
     "output_type": "display_data"
    }
   ],
   "source": [
    "table_sep = epa_data_CA_merged[epa_data_CA_merged['Month'] == 9]\n",
    "heatmap_data = bucket_data(table_sep, np.median, 25)\n",
    "\n",
    "plt.figure(figsize=(15, 8))\n",
    "ax = sns.heatmap(heatmap_data, vmin=0, vmax=230, cmap = sns.cm.rocket_r)\n",
    "ax.invert_yaxis()\n",
    "plt.show()"
   ]
  },
  {
   "cell_type": "markdown",
   "id": "518c3a87",
   "metadata": {
    "deletable": false,
    "editable": false
   },
   "source": [
    "<br/>\n",
    "\n",
    "### Question 8a - Simple Linear Interpolation\n",
    "As previously mentioned, interpolation is a technique that is used to predict labels in a dataset by forming a model out of the data that is already labelled. In this case, we have a pivot table that we use to create a heatmap, but there contains many `NaN` values that we want to fill in. \n",
    "\n",
    "- Create the function `fill_bucket` that takes in the following parameters:\n",
    "    - `pivot_table`: the pivot table that we are providing. \n",
    "    - `lat_bucket`: the bucket number that the latitude is in, indexed by zero. ex. if there are 25 buckets, they are numbered $ 0, 2, \\dots 24 $, from lowest to highest value latitudes. \n",
    "    - `lon_bucket`: the bucket number that the longitude is in, indexed by zero. ex. if there are 25 buckets, they are numbered $ 0, 2, \\dots 24 $. from lowest to highest value longitudes.\n",
    "    \n",
    "- In the pivot table, every value has cells above (A cells), cells below (B cells), cells to the left (L cells), and cells to the right (R cells). We will say that a direction (R for example) is valid if and only if there exists a cell **anywhere** to its right that is not `NaN`. The closest such cell will be called the \"closest R cell\". The same goes for the rest of the directions. For the cases below, assuming that our current cell is called cell K. \n",
    "    - If cell K is not `NaN`, then simply return the AQI at that given cell.\n",
    "    - **Only** if there are **at least** three valid directional cells (ex. has A, B, and L valid but not R valid), we will call K *interpolable*. If K is *interpolable*, then interpolate K by assigning it an AQI value equal to the average of the closest cell AQIs in each of the valid directions. \n",
    "    - If K is *not interpolable*, then do not do anything and simply return `NaN`.\n",
    "- The return value of `fill_bucket` should be the the value assigned to K. **DO NOT** mutate the cell K in the pivot table yet.\n",
    "\n",
    "<!--\n",
    "BEGIN QUESTION\n",
    "name: q8a\n",
    "points: 6\n",
    "-->"
   ]
  },
  {
   "cell_type": "code",
   "execution_count": 35,
   "id": "dd43b812",
   "metadata": {},
   "outputs": [],
   "source": [
    "def fill_bucket(pivot_table, lat_bucket, lon_bucket):\n",
    "\n",
    "    # if k is null\n",
    "    if(pd.isnull(pivot_table.iloc[lat_bucket, lon_bucket])):\n",
    "        # above\n",
    "        a = pivot_table.iloc[lat_bucket, lon_bucket]\n",
    "        latb = lat_bucket\n",
    "        while pd.isnull(a) and latb >= 0:\n",
    "            a = pivot_table.iloc[latb, lon_bucket]\n",
    "            latb -= 1\n",
    "\n",
    "        # below\n",
    "        b = pivot_table.iloc[lat_bucket, lon_bucket]\n",
    "        latb = lat_bucket\n",
    "        while pd.isnull(b) and latb < pivot_table.shape[0]:\n",
    "            b = pivot_table.iloc[latb, lon_bucket]\n",
    "            latb += 1\n",
    "\n",
    "        # right\n",
    "        r = pivot_table.iloc[lat_bucket, lon_bucket]\n",
    "        lonb = lon_bucket\n",
    "        while pd.isnull(r) and lonb < pivot_table.shape[1]:\n",
    "            r = pivot_table.iloc[lat_bucket, lonb]\n",
    "            lonb += 1\n",
    "\n",
    "        # left\n",
    "        l = pivot_table.iloc[lat_bucket, lon_bucket]\n",
    "        lonb = lon_bucket\n",
    "        while pd.isnull(l) and lonb >= 0:\n",
    "            l = pivot_table.iloc[lat_bucket, lonb]\n",
    "            lonb -= 1\n",
    "\n",
    "        count = 0\n",
    "        interpol = 0\n",
    "        if not pd.isnull(a):\n",
    "            count +=1\n",
    "            interpol += a\n",
    "        if not pd.isnull(b):\n",
    "            count+=1\n",
    "            interpol += b\n",
    "        if not pd.isnull(r):\n",
    "            count +=1\n",
    "            interpol += r\n",
    "        if not pd.isnull(l):\n",
    "            count+=1\n",
    "            interpol += l\n",
    "        if count >= 3:\n",
    "            k = interpol/count\n",
    "            return k\n",
    "        else:\n",
    "            return np.nan\n",
    "\n",
    "    else:\n",
    "        return pivot_table.iloc[lat_bucket, lon_bucket]\n",
    "\n",
    "# def calculate_euclidean_distance(lat_lon, lat_lon_hat):\n",
    "#     lat = lat_lon[0]\n",
    "#     lon = lat_lon[1]\n",
    "#     lat_hat = lat_lon_hat[0]\n",
    "#     lon_hat = lat_lon_hat[1]\n",
    "#     return ((lat_hat - lat)**2 + (lon_hat + lon)**2)**0.5\n",
    "\n",
    "# def find_closest_nonnull(df, starting_lat, starting_lon):\n",
    "#     df.columns = df.columns.get_level_values(1)\n",
    "#     df = df.reset_index()\n",
    "#     a = pd.melt(df, id_vars='lat_bucket')\n",
    "#     a = a[~pd.isnull(a['value'])]\n",
    "#     a['lat_lon'] = list(zip(a.lat_bucket, a.long_bucket))\n",
    "#     a = a.drop(['lat_bucket', 'long_bucket'], axis=1)\n",
    "#     a['distance_from_k'] = a['lat_lon'].apply(lambda x: calculate_euclidean_distance((starting_lat, starting_lon), x))\n",
    "#     a = a.sort_values('distance_from_k', ascending=True)\n",
    "#     return a['value'][0]\n",
    "\n",
    "# def fill_bucket(pivot_table, lat_bucket, lon_bucket):\n",
    "#     if lon_bucket >= len(pivot_table.columns) or lon_bucket < 0:\n",
    "#         raise Exception(\"Invalid lon_bucket number\")\n",
    "#     if lat_bucket >= len(pivot_table) or lat_bucket < 0:\n",
    "#         raise Exception(\"Invalid lat_bucket number\")\n",
    "#     if pd.isna(pivot_table.iloc[lat_bucket, lon_bucket]) == False:\n",
    "#         return pivot_table.iloc[lat_bucket, lon_bucket]\n",
    "#     else:\n",
    "#         interpolable_counter = 0\n",
    "#         interpolable_sum = 0\n",
    "#         above = pivot_table.iloc[:lat_bucket, :]\n",
    "#         below = pivot_table.iloc[lat_bucket+1:, :]\n",
    "#         right = pivot_table.iloc[:, lon_bucket+1:]\n",
    "#         left = pivot_table.iloc[:, :lon_bucket]\n",
    "        \n",
    "#         if above.isnull().values.any():\n",
    "#             pass\n",
    "#         else:\n",
    "#             interpolable_counter += 1\n",
    "#             interpolable_sum = interpolable_sum + find_closest_nonnull(above, (lat_bucket - 1, lon_bucket))\n",
    "            \n",
    "#         if below.isnull().values.any():\n",
    "#             pass\n",
    "#         else:\n",
    "#             interpolable_counter += 1\n",
    "#             interpolable_sum = interpolable_sum + find_closest_nonnull(below, (lat_bucket + 1, lon_bucket))\n",
    "        \n",
    "#         if right.isnull().values.any():\n",
    "#             pass\n",
    "#         else:\n",
    "#             interpolable_counter += 1\n",
    "#             interpolable_sum = interpolable_sum + find_closest_nonnull(right, (lat_bucket, lon_bucket + 1))\n",
    "            \n",
    "#         if left.isnull().values.any():\n",
    "#             pass\n",
    "#         else:\n",
    "#             interpolable_counter += 1\n",
    "#             interpolable_sum = interpolable_sum + find_closest_nonnull(left, (lat_bucket, lon_bucket - 1))\n",
    "                    \n",
    "            \n",
    "#     if interpolable_counter <= 2:\n",
    "#         return np.nan\n",
    "#     else:\n",
    "#         return interpolable_sum / interpolable_counter\n"
   ]
  },
  {
   "cell_type": "code",
   "execution_count": 36,
   "id": "62eab44a",
   "metadata": {
    "deletable": false,
    "editable": false
   },
   "outputs": [
    {
     "data": {
      "text/html": [
       "<p><strong><pre style='display: inline;'>q8a</pre></strong> passed!</p>"
      ],
      "text/plain": [
       "q8a results: All test cases passed!"
      ]
     },
     "execution_count": 36,
     "metadata": {},
     "output_type": "execute_result"
    }
   ],
   "source": [
    "grader.check(\"q8a\")"
   ]
  },
  {
   "cell_type": "markdown",
   "id": "1f24e9a7",
   "metadata": {
    "deletable": false,
    "editable": false
   },
   "source": [
    "<br/>\n",
    "\n",
    "### Question 8b - Create Filled Heatmap\n",
    "\n",
    "Now that you have created the `fill_bucket` function, we want to actually use it to fill in the values in `heatmap_data`. Complete the function `fill_all` that takes in the pivot table and fills in all the values and produces a pivot table with the updated values. **DO NOT** mutate the original pivot table. Instead, produce a new pivot table that that contains the filled values. \n",
    "\n",
    "One point to note is that when we update a cell here, we do not use any surrounding *interpolated* cells to do our interpolation on any given cell. As a result, we will always use the **original** pivot table to find surrounding cells and interpolate.\n",
    "\n",
    "<!--\n",
    "BEGIN QUESTION\n",
    "name: q8b\n",
    "points: 3\n",
    "-->"
   ]
  },
  {
   "cell_type": "code",
   "execution_count": 37,
   "id": "30dc5001",
   "metadata": {
    "tags": []
   },
   "outputs": [
    {
     "data": {
      "image/png": "[encoded data removed]",
      "text/plain": [
       "<Figure size 1080x576 with 2 Axes>"
      ]
     },
     "metadata": {
      "needs_background": "light"
     },
     "output_type": "display_data"
    }
   ],
   "source": [
    "def fill_all(pivot_table):\n",
    "    new_pt = pivot_table.copy()\n",
    "    for lat in range(pivot_table.shape[0]):\n",
    "        for lon in range(pivot_table.shape[1]):\n",
    "            k = fill_bucket(new_pt, lat, lon)\n",
    "            new_pt.iloc[lat,lon] = k\n",
    "\n",
    "    return new_pt\n",
    "\n",
    "\n",
    "filled_heatmap_data = fill_all(heatmap_data)\n",
    "\n",
    "plt.figure(figsize=(15, 8))\n",
    "ax = sns.heatmap(filled_heatmap_data, vmin=0, vmax=230, cmap = sns.cm.rocket_r)\n",
    "ax.invert_yaxis()\n",
    "plt.show()"
   ]
  },
  {
   "cell_type": "code",
   "execution_count": 38,
   "id": "d94c73af",
   "metadata": {
    "deletable": false,
    "editable": false
   },
   "outputs": [
    {
     "data": {
      "text/html": [
       "<p><strong><pre style='display: inline;'>q8b</pre></strong> passed!</p>"
      ],
      "text/plain": [
       "q8b results: All test cases passed!"
      ]
     },
     "execution_count": 38,
     "metadata": {},
     "output_type": "execute_result"
    }
   ],
   "source": [
    "grader.check(\"q8b\")"
   ]
  },
  {
   "cell_type": "markdown",
   "id": "463b7e54",
   "metadata": {
    "deletable": false,
    "editable": false
   },
   "source": [
    "<!-- BEGIN QUESTION -->\n",
    "\n",
    "<br/>\n",
    "\n",
    "### Question 8c - Other Interpolation Ideas\n",
    "\n",
    "Instead of just interpolating in a simple fashion as we did above, suggest one other way to interpolate (that actually works so do not just say \"put the average of all cells in every `NaN` cell). For example, you can take into account of the distance of the surrounding cells, the number of cells you use, and more. \n",
    "\n",
    "<!--\n",
    "BEGIN QUESTION\n",
    "name: q8c\n",
    "points: 2\n",
    "manual: True\n",
    "-->"
   ]
  },
  {
   "cell_type": "markdown",
   "id": "102cfb47",
   "metadata": {},
   "source": [
    "Another way to interpolate would be to incorporate the distance of the nearby cells (above, below, left, and right).  More specifically, we could use an approach that puts lower weight on cells that are farther away compared to cells that are closer. For instance, if the above closest cell is 2 cells away and the right closest cell is 10 cells away; we would fill that bucket with a value much closer to the above cell than the right because it is significantly closer.  To implement this we could simply weight the value of the neighboring cell based upon its proximity to the bucket we are filling.  By exploying a more elegant method of interpolation (in this example using proximity as a heuristic) we gain a more accurate estimate of the bucket we fill."
   ]
  },
  {
   "cell_type": "markdown",
   "id": "256edc81",
   "metadata": {
    "deletable": false,
    "editable": false
   },
   "source": [
    "<!-- END QUESTION -->\n",
    "\n",
    "<!-- BEGIN QUESTION -->\n",
    "\n",
    "<br/>\n",
    "\n",
    "### Question 9 - Choosing your Loss Function\n",
    "\n",
    "Let us say that you are trying to define a loss function $L(x_{i}, y_{i})$ to use for model, where $x_{i}$ is the input and the $y_{i}$ is a qualitative variable that that model outputs, consisting of the following five groups: good, moderate, unhealthy for sensitive groups, unhealthy, very unhealthy, or hazardous. How would you design your loss function to evaluate your model?\n",
    "\n",
    "<!--\n",
    "BEGIN QUESTION\n",
    "name: q9\n",
    "manual: True\n",
    "points: 2\n",
    "-->"
   ]
  },
  {
   "cell_type": "markdown",
   "id": "06e863ad",
   "metadata": {},
   "source": [
    "Sparse categorical cross entropy seems like the best suited loss function for this particular model.  The reason this loss function is our choice is because it is used for multi-class classification models, and in this case we are trying to determine what constitutes good, moderate, unhealthy, etc. The equation of this loss function is $-\\sum{i=1}^nt_{i}log(p_{i})$ where $t_{i}$ is the truth or actual label, $p_{i}$ is the probability of the ith class, and n denotes the number of classes in our model (thus n equals 6 for our model).  This loss function penalizes each output probability based upon how far off the probability is from the actual value (truth value)."
   ]
  },
  {
   "cell_type": "markdown",
   "id": "2ea97f3e",
   "metadata": {},
   "source": [
    "<!-- END QUESTION -->\n",
    "\n",
    "\n",
    "\n",
    "</br></br>\n",
    "\n",
    "### Question 10: Creating your own Model!\n",
    "\n",
    "Now that you have an idea of how to interpolate values, we will be using something more predictive. In this part, your final goal is to be creating a model and function that uses **at least four** features, with at least one of those four features being from an external dataset that you bring in and process yourself. Here are some rules on the model that you should follow: \n",
    "\n",
    "- Using your open-ended EDA analysis, use at least three features in the dataset provided to come up with some sort of predictive model for the AQI for remaining locations not predicted in the heatmap. You are **NOT** allowed to use any more than **one** of the particulate matter features for this model i.e. ozone or CO2 concentrations for example. \n",
    "    - The reason behind this is that AQI is directly based on these values, so there will be in some sense a near 100\\% correlation between AQI and these features under some transformations. \n",
    "- Use at least one feature that comes from an external dataset of choice. Some examples are geographical region (categorical), elevation (quantitative), or wilfire data. \n",
    "    - Reference question 2c of this project to see how to merge external data with the current EPA data.\n",
    "- Your model should, at the end, predict one of the following broad categories for the AQI: good, moderate, unhealthy for sensitive groups, unhealthy, very unhealthy, or hazardous. Note that this specification is different from `fill_bucket` in the sense that instead of returning a value, you will be returning a string for a category.\n",
    "    - As a result, you can either directly predict the category, or the AQI (ex. through regression) and then convert to the category. Category ranges for AQI can be found online.\n",
    "- The final model should be validated with some data that you hold out. You decide how to do this but there should be some model validation accuracy reported. You should be using the loss function that you designed in question 3 in order to do this.\n",
    "\n",
    "---\n",
    "\n",
    "#### Deliverables\n",
    "<br/>\n",
    "\n",
    "**`features`**: This should be a `pd.DataFrame` object that represents the design matrix that will be fed in as input to your model. Each row represents a data point and each column represents a feature. Essentially your $X$ matrix. \n",
    "\n",
    "**`targets`**: This should be a numpy array that where each value corresponds to the AQI value or AQI category for each of the data points in `features`. Essentially your $y$ vector. \n",
    "\n",
    "**`build_model`**: This function should have two parameters: `features` that will be used as input into your model as a `pd.DataFrame` object, and `targets` should be a numpy array of AQI values OR AQI categories. It should return a *function* or *object* that represents your model.\n",
    "\n",
    "**`predict`**: This function should have two parameters: `model`, the model that you build from the previous function `build_model`, and `features` that represent the design matrix for the test values that we want to predict. It should return the **AQI category** (not a value) that the model predicts for these inputs."
   ]
  },
  {
   "cell_type": "markdown",
   "id": "cc24c2fc",
   "metadata": {
    "deletable": false,
    "editable": false
   },
   "source": [
    "<!-- BEGIN QUESTION -->\n",
    "\n",
    "<br/>\n",
    "\n",
    "### Question 10a: Choose Features and Model\n",
    "\n",
    "First, decide on the features that you will be using for your model. How predictive do you think each of the features that you chose will be of the AQI category? Then, how will you choose to make your model (multiple regression, decision trees, etc.)?\n",
    "\n",
    "<!--\n",
    "BEGIN QUESTION\n",
    "name: q10a\n",
    "points: 2\n",
    "manual: True\n",
    "-->"
   ]
  },
  {
   "cell_type": "markdown",
   "id": "5a8c83ba",
   "metadata": {},
   "source": [
    "_The features that we will be using for our model include: Temperature, Elevation (from AQS Sites dataset), Location Setting (from AQS Sites dataset), and Annual Average Daily Traffic as our external feature from the traffic dataset._\n",
    "\n",
    "_Temperature should be very predictive of AQI, since according to our part 1 analysis, higher temperatures correlated to higher AQIs. Elevation is more of a wild card requiring some EDA, but we think it might correlate to AQIS in that lower elevations might have higher AQIs. Location Setting (which we will one hot encode) should be predictive of AQIs; urban and suburban locations might be predictive of higher AQIs and rural locations might be predictive of lower AQIs. And finally, the average annual daily traffic might be a proxy for AQI in that traffic density might positively correlate with AQI._\n",
    "\n",
    "_We are planning on using decision trees to classify the AQI levels of our data as good, moderate, unhealthy for sensitive groups, unhealthy, very unhealthy, or hazardous. We might even use ensemble methods such as random forests since we are less concerned with interpretability and more concerned with performance on large datasets._"
   ]
  },
  {
   "cell_type": "markdown",
   "id": "ba5c84a3",
   "metadata": {
    "deletable": false,
    "editable": false
   },
   "source": [
    "<!-- END QUESTION -->\n",
    "\n",
    "<br/>\n",
    "\n",
    "### Question 10b: Build Features\n",
    "\n",
    "Create the `build_features` function as described at the beginning of this part. You should also do any cleaning or merging of internal or external datasets in this part. Make sure to read the specifications of the function very carefully. The autograder will provide some sanity checks on your output.\n",
    "\n",
    "<!--\n",
    "BEGIN QUESTION\n",
    "name: q10b\n",
    "points: 3\n",
    "-->"
   ]
  },
  {
   "cell_type": "code",
   "execution_count": 48,
   "id": "3c9390bc",
   "metadata": {},
   "outputs": [
    {
     "data": {
      "text/html": [
       "<div>\n",
       "<style scoped>\n",
       "    .dataframe tbody tr th:only-of-type {\n",
       "        vertical-align: middle;\n",
       "    }\n",
       "\n",
       "    .dataframe tbody tr th {\n",
       "        vertical-align: top;\n",
       "    }\n",
       "\n",
       "    .dataframe thead th {\n",
       "        text-align: right;\n",
       "    }\n",
       "</style>\n",
       "<table border=\"1\" class=\"dataframe\">\n",
       "  <thead>\n",
       "    <tr style=\"text-align: right;\">\n",
       "      <th></th>\n",
       "      <th>Log AADT</th>\n",
       "      <th>Temperature</th>\n",
       "      <th>Month</th>\n",
       "      <th>NO2</th>\n",
       "      <th>setting_URBAN AND CENTER CITY</th>\n",
       "      <th>Elevation</th>\n",
       "      <th>AQI</th>\n",
       "    </tr>\n",
       "  </thead>\n",
       "  <tbody>\n",
       "    <tr>\n",
       "      <th>0</th>\n",
       "      <td>11.634258</td>\n",
       "      <td>87.472917</td>\n",
       "      <td>1</td>\n",
       "      <td>10.334783</td>\n",
       "      <td>0.0</td>\n",
       "      <td>1.0</td>\n",
       "      <td>62.875000</td>\n",
       "    </tr>\n",
       "    <tr>\n",
       "      <th>1</th>\n",
       "      <td>11.634258</td>\n",
       "      <td>154.500000</td>\n",
       "      <td>2</td>\n",
       "      <td>2.769565</td>\n",
       "      <td>0.0</td>\n",
       "      <td>1.0</td>\n",
       "      <td>58.000000</td>\n",
       "    </tr>\n",
       "    <tr>\n",
       "      <th>2</th>\n",
       "      <td>11.634258</td>\n",
       "      <td>71.727084</td>\n",
       "      <td>4</td>\n",
       "      <td>2.400000</td>\n",
       "      <td>0.0</td>\n",
       "      <td>1.0</td>\n",
       "      <td>36.500000</td>\n",
       "    </tr>\n",
       "    <tr>\n",
       "      <th>3</th>\n",
       "      <td>11.634258</td>\n",
       "      <td>76.529167</td>\n",
       "      <td>5</td>\n",
       "      <td>3.756522</td>\n",
       "      <td>0.0</td>\n",
       "      <td>1.0</td>\n",
       "      <td>35.000000</td>\n",
       "    </tr>\n",
       "    <tr>\n",
       "      <th>4</th>\n",
       "      <td>11.634258</td>\n",
       "      <td>112.606250</td>\n",
       "      <td>6</td>\n",
       "      <td>1.208696</td>\n",
       "      <td>0.0</td>\n",
       "      <td>1.0</td>\n",
       "      <td>67.000000</td>\n",
       "    </tr>\n",
       "    <tr>\n",
       "      <th>...</th>\n",
       "      <td>...</td>\n",
       "      <td>...</td>\n",
       "      <td>...</td>\n",
       "      <td>...</td>\n",
       "      <td>...</td>\n",
       "      <td>...</td>\n",
       "      <td>...</td>\n",
       "    </tr>\n",
       "    <tr>\n",
       "      <th>445</th>\n",
       "      <td>11.332602</td>\n",
       "      <td>82.527083</td>\n",
       "      <td>8</td>\n",
       "      <td>3.621739</td>\n",
       "      <td>0.0</td>\n",
       "      <td>0.0</td>\n",
       "      <td>92.500000</td>\n",
       "    </tr>\n",
       "    <tr>\n",
       "      <th>446</th>\n",
       "      <td>11.332602</td>\n",
       "      <td>119.472916</td>\n",
       "      <td>9</td>\n",
       "      <td>6.020833</td>\n",
       "      <td>0.0</td>\n",
       "      <td>0.0</td>\n",
       "      <td>100.703704</td>\n",
       "    </tr>\n",
       "    <tr>\n",
       "      <th>447</th>\n",
       "      <td>11.332602</td>\n",
       "      <td>100.439583</td>\n",
       "      <td>10</td>\n",
       "      <td>3.221739</td>\n",
       "      <td>0.0</td>\n",
       "      <td>0.0</td>\n",
       "      <td>74.071429</td>\n",
       "    </tr>\n",
       "    <tr>\n",
       "      <th>448</th>\n",
       "      <td>11.332602</td>\n",
       "      <td>140.393750</td>\n",
       "      <td>11</td>\n",
       "      <td>4.800000</td>\n",
       "      <td>0.0</td>\n",
       "      <td>0.0</td>\n",
       "      <td>49.695652</td>\n",
       "    </tr>\n",
       "    <tr>\n",
       "      <th>449</th>\n",
       "      <td>11.332602</td>\n",
       "      <td>116.762500</td>\n",
       "      <td>12</td>\n",
       "      <td>4.878261</td>\n",
       "      <td>0.0</td>\n",
       "      <td>0.0</td>\n",
       "      <td>43.576923</td>\n",
       "    </tr>\n",
       "  </tbody>\n",
       "</table>\n",
       "<p>450 rows × 7 columns</p>\n",
       "</div>"
      ],
      "text/plain": [
       "      Log AADT  Temperature  Month        NO2  setting_URBAN AND CENTER CITY  \\\n",
       "0    11.634258    87.472917      1  10.334783                            0.0   \n",
       "1    11.634258   154.500000      2   2.769565                            0.0   \n",
       "2    11.634258    71.727084      4   2.400000                            0.0   \n",
       "3    11.634258    76.529167      5   3.756522                            0.0   \n",
       "4    11.634258   112.606250      6   1.208696                            0.0   \n",
       "..         ...          ...    ...        ...                            ...   \n",
       "445  11.332602    82.527083      8   3.621739                            0.0   \n",
       "446  11.332602   119.472916      9   6.020833                            0.0   \n",
       "447  11.332602   100.439583     10   3.221739                            0.0   \n",
       "448  11.332602   140.393750     11   4.800000                            0.0   \n",
       "449  11.332602   116.762500     12   4.878261                            0.0   \n",
       "\n",
       "     Elevation         AQI  \n",
       "0          1.0   62.875000  \n",
       "1          1.0   58.000000  \n",
       "2          1.0   36.500000  \n",
       "3          1.0   35.000000  \n",
       "4          1.0   67.000000  \n",
       "..         ...         ...  \n",
       "445        0.0   92.500000  \n",
       "446        0.0  100.703704  \n",
       "447        0.0   74.071429  \n",
       "448        0.0   49.695652  \n",
       "449        0.0   43.576923  \n",
       "\n",
       "[450 rows x 7 columns]"
      ]
     },
     "execution_count": 48,
     "metadata": {},
     "output_type": "execute_result"
    }
   ],
   "source": [
    "def split_dates(df):\n",
    "    df['Month'] = pd.to_datetime(df['Date Local']).dt.month  \n",
    "    df['Day'] = pd.to_datetime(df['Date Local']).dt.day\n",
    "    return df\n",
    "\n",
    "def normalize(df):\n",
    "    result = df.copy()\n",
    "    for feature_name in df.columns:\n",
    "        max_value = df[feature_name].max()\n",
    "        min_value = df[feature_name].min()\n",
    "        result[feature_name] = (df[feature_name] - min_value) / (max_value - min_value)\n",
    "    return result\n",
    "\n",
    "def build_features(q11=False):\n",
    "    # Features: Temperature (daily_temp), Elevation (AQS Sites), \n",
    "    # Location Setting (AQS Sites), AADT (Traffic)\n",
    "    selected_features = ['State Name', 'county Name', 'County Code', 'Month', 'Day', 'AQI', 'Category', 'Defining Site', 'Latitude', 'Longitude', \n",
    "                     'Elevation', 'Location Setting']\n",
    "    data1 = epa_data_CA.get('daily_county_aqi')\n",
    "    arr = []\n",
    "    iterate_array = data1['Defining Site']\n",
    "    for i in iterate_array:\n",
    "        arr.append(int(i[7:]))\n",
    "    data1['Site Number'] = arr\n",
    "    data2 = epa_data.get('aqs_sites')\n",
    "    data2 = data2[data2['State Name'] == 'California']\n",
    "    features = data1.merge(data2, on = ['County Code', 'Site Number'])\n",
    "    features = features.rename(columns = {'State Name_x': 'State Name'})\n",
    "    features = features[selected_features]\n",
    "    geom_traffic = gpd.points_from_xy(traffic_data_cleaned.Longitude, traffic_data_cleaned.Latitude)\n",
    "    geom_merged = gpd.points_from_xy(features.Longitude, features.Latitude)\n",
    "    gpd_traffic = gpd.GeoDataFrame(traffic_data_cleaned, geometry = geom_traffic)\n",
    "    gpd_CA_merged = gpd.GeoDataFrame(features, geometry = geom_merged)\n",
    "    joined = gpd.sjoin_nearest(left_df = gpd_CA_merged, right_df = gpd_traffic, how = \"inner\") \n",
    "    renaming = {\"Latitude_left\": \"Site Lat\", \"Longitude_left\": \"Site Long\", \"Latitude_right\": \"Traffic Lat\", \n",
    "                \"Longitude_right\": \"Traffic Long\"}\n",
    "    joined = joined.rename(columns = renaming)\n",
    "    joined[\"Traffic Long\"] = joined[\"Traffic Long\"].astype(str).astype(float)\n",
    "    cols = [\"State Name\", \"county Name\", 'County Code', \"Month\", \"Day\", \"AQI\", \"Category\", \"Defining Site\", \"Site Lat\", \"Site Long\", \n",
    "            \"Traffic Lat\", \"Traffic Long\", \"Descriptn\", \"AADT\", 'Elevation', 'Location Setting']\n",
    "    gpd_epa_traffic = joined[cols]\n",
    "    arr2 = []\n",
    "    for i in gpd_epa_traffic['Defining Site']:\n",
    "        arr2.append(int(i[7:]))\n",
    "    gpd_epa_traffic['Site Num'] = arr2\n",
    "    temp = epa_data_CA.get('daily_temp')\n",
    "    temp = temp[['County Code', 'Site Num', 'Month', 'Day', 'Arithmetic Mean']]\n",
    "    \n",
    "    inter = gpd_epa_traffic.merge(temp, on = [\"County Code\", \"Site Num\", \"Month\", \"Day\"])\n",
    "    inter = inter[['county Name', 'County Code', 'Site Num', 'Month', 'Day', 'AADT', 'Elevation', 'Location Setting', 'Arithmetic Mean', 'AQI']]\n",
    "    inter = inter.rename(columns = {'Arithmetic Mean':'Temperature', 'AQI_x':'AQI'})\n",
    "    \n",
    "    wind = epa_data_CA.get('daily_wind')\n",
    "    wind = wind[['County Code', 'Site Num', 'Month', 'Day', 'Arithmetic Mean']]\n",
    "    \n",
    "    inter2 = inter.merge(wind, on = [\"County Code\", \"Site Num\", \"Month\", \"Day\"])\n",
    "    # inter2 = inter2[['County Code', 'Site Num', 'Month', 'Day', 'AADT', 'Elevation', 'Location Setting', 'Arithmetic Mean', 'AQI', 'Temperature']]\n",
    "    inter2 = inter2.rename(columns = {'Arithmetic Mean':'Wind'})#, 'AQI_x':'AQI'})\n",
    "\n",
    "    no2 = epa_data_CA.get('daily_no2')\n",
    "    no2 = split_dates(no2)\n",
    "    no2 = no2[['County Code', 'Site Num', 'Month', 'Day', 'Arithmetic Mean']]\n",
    "    \n",
    "    final = inter2.merge(no2, on = [\"County Code\", \"Site Num\", \"Month\", \"Day\"])\n",
    "    #final = final[['County Code', 'Site Num', 'Month', 'Day', 'AADT', 'Elevation', 'Location Setting', 'Arithmetic Mean', 'AQI']]\n",
    "    final = final.rename(columns = {'Arithmetic Mean':'NO2'})#, 'AQI_x':'AQI'})\n",
    "    #final['Carbon Monoxide'] = np.log(final['Carbon Monoxide'])\n",
    "    \n",
    "    final = pd.concat([final[['county Name', 'County Code', 'Site Num', 'Month', 'Day', 'AADT', 'Elevation', 'Wind', 'NO2', 'Temperature', 'AQI']], \n",
    "                                      pd.get_dummies(final[['Location Setting']], prefix='setting')], axis=1)\n",
    "    grouped_multiple = final.groupby(['County Code', 'Site Num', 'Month']).agg({ \n",
    "                                                                                'Day': 'mean', \n",
    "                                                                                'AADT': 'mean', \n",
    "                                                                                'Elevation': 'mean', \n",
    "                                                                                'Wind': 'mean', \n",
    "                                                                                'NO2': 'mean', \n",
    "                                                                                'Temperature': 'mean', \n",
    "                                                                                'AQI': 'mean', \n",
    "                                                                                'setting_RURAL': 'mean', \n",
    "                                                                                'setting_SUBURBAN': 'mean',\n",
    "                                                                                'setting_URBAN AND CENTER CITY': 'mean',\n",
    "                                                                                'county Name': 'first'})\n",
    "                                                                  \n",
    "    grouped_multiple['County Code'] = grouped_multiple.index.get_level_values(0)\n",
    "    grouped_multiple['Site Num'] = grouped_multiple.index.get_level_values(1)\n",
    "    grouped_multiple['Month'] = grouped_multiple.index.get_level_values(2)\n",
    "    grouped_multiple.index = [i for i in range(len(grouped_multiple))]\n",
    "    grouped_multiple = grouped_multiple[[c for c in grouped_multiple if c not in ['Day', 'AQI']] \n",
    "       + ['AQI']]\n",
    "    grouped_multiple['AADT'] = np.log(grouped_multiple['AADT'])\n",
    "    grouped_multiple = grouped_multiple.rename(columns={'AADT' : 'Log AADT'})\n",
    "    # grouped_multiple = grouped_multiple.drop(['County Code', 'Site Num'], axis=1)\n",
    "    # grouped_multiple = grouped_multiple.drop(['Site Num'], axis=1)\n",
    "    # grouped_multiple = grouped_multiple.drop('County Code', axis=1)\n",
    "    # grouped_multiple = grouped_multiple.drop(['setting_RURAL', 'setting_SUBURBAN', 'setting_URBAN AND CENTER CITY'], axis=1)\n",
    "    if q11 == True:\n",
    "        grouped_multiple = grouped_multiple.drop(['Site Num', 'setting_RURAL', 'setting_SUBURBAN'], axis=1)\n",
    "    else:\n",
    "        grouped_multiple = grouped_multiple.drop(['Site Num', 'County Code', 'setting_RURAL', 'setting_SUBURBAN'], axis=1)\n",
    "    # , 'setting_URBAN AND CENTER CITY'\n",
    "    \n",
    "    # aqi_col = grouped_multiple['AQI']\n",
    "    # grouped_multiple = grouped_multiple.drop('AQI', axis=1)\n",
    "    # normalized = normalize(grouped_multiple)\n",
    "    # normalized['AQI'] = aqi_col\n",
    "    if q11 == True:\n",
    "        grouped_multiple = grouped_multiple[['Log AADT', 'county Name', 'Temperature', 'NO2', 'setting_URBAN AND CENTER CITY', 'Elevation', 'AQI']]\n",
    "    else:\n",
    "        grouped_multiple = grouped_multiple[['Log AADT', 'Temperature', 'Month', 'NO2', 'setting_URBAN AND CENTER CITY', 'Elevation', 'AQI']]\n",
    "    \n",
    "    return grouped_multiple\n",
    "    #return normalized\n",
    "    \n",
    "    \n",
    "\n",
    "features = build_features().iloc[:, :-1]\n",
    "targets = build_features().iloc[:, -1]\n",
    "\n",
    "build_features()\n",
    "\n",
    "\n"
   ]
  },
  {
   "cell_type": "code",
   "execution_count": 49,
   "id": "f5df3e40",
   "metadata": {
    "deletable": false,
    "editable": false
   },
   "outputs": [
    {
     "data": {
      "text/html": [
       "<p><strong><pre style='display: inline;'>q10b</pre></strong> passed!</p>"
      ],
      "text/plain": [
       "q10b results: All test cases passed!"
      ]
     },
     "execution_count": 49,
     "metadata": {},
     "output_type": "execute_result"
    }
   ],
   "source": [
    "grader.check(\"q10b\")"
   ]
  },
  {
   "cell_type": "markdown",
   "id": "26e15c8d",
   "metadata": {
    "deletable": false,
    "editable": false
   },
   "source": [
    "<br/>\n",
    "\n",
    "### Question 10c: Build Your Model!\n",
    "\n",
    "Create the `build_model` function as described at the beginning of this part. Make sure to read the specifications of the function very carefully. The autograder will provide some sanity checks on your output.\n",
    "\n",
    "<!--\n",
    "BEGIN QUESTION\n",
    "name: q10c\n",
    "points: 8\n",
    "-->"
   ]
  },
  {
   "cell_type": "code",
   "execution_count": 50,
   "id": "2c6f0d93-8b56-4bf1-b7a9-554f46a754b1",
   "metadata": {},
   "outputs": [],
   "source": [
    "from sklearn.ensemble import RandomForestRegressor\n",
    "from sklearn.datasets import make_regression\n",
    "\n",
    "def build_model(features, targets):\n",
    "    # model = lm.LinearRegression(fit_intercept = True)\n",
    "    model = RandomForestRegressor(max_depth=20, random_state=0)\n",
    "    model.fit(features, targets)\n",
    "    return model\n",
    "\n",
    "model = build_model(features, targets)"
   ]
  },
  {
   "cell_type": "code",
   "execution_count": 51,
   "id": "4e7f4165",
   "metadata": {
    "deletable": false,
    "editable": false
   },
   "outputs": [
    {
     "data": {
      "text/html": [
       "<p><strong><pre style='display: inline;'>q10c</pre></strong> passed!</p>"
      ],
      "text/plain": [
       "q10c results: All test cases passed!"
      ]
     },
     "execution_count": 51,
     "metadata": {},
     "output_type": "execute_result"
    }
   ],
   "source": [
    "grader.check(\"q10c\")"
   ]
  },
  {
   "cell_type": "markdown",
   "id": "f38ca710",
   "metadata": {
    "deletable": false,
    "editable": false
   },
   "source": [
    "<br/>\n",
    "\n",
    "### Question 10d: Predict Points\n",
    "\n",
    "Create the `predict` function as described at the beginning of this part. Make sure to read the specifications of the function very carefully. The autograder will provide some sanity checks on your output.\n",
    "\n",
    "<!--\n",
    "BEGIN QUESTION\n",
    "name: q10d\n",
    "points: 4\n",
    "-->"
   ]
  },
  {
   "cell_type": "code",
   "execution_count": 52,
   "id": "1505232f",
   "metadata": {},
   "outputs": [],
   "source": [
    "categories = [\"good\", \"moderate\", \"unhealthy sensitive groups\", \"unhealthy\", \"very unhealthy\", \"hazardous\"]\n",
    "\n",
    "def predict(model, features):\n",
    "    predictions = model.predict(features)\n",
    "    classified = []\n",
    "    for pred in predictions:\n",
    "        if pred >= 301 and pred <= 500:\n",
    "            classified = np.append(classified, \"hazardous\")\n",
    "        elif pred >= 201:\n",
    "            classified = np.append(classified, \"very unhealthy\")\n",
    "        elif pred >= 151:\n",
    "            classified = np.append(classified, \"unhealthy\")\n",
    "        elif pred >= 101:\n",
    "            classified = np.append(classified, \"unhealthy sensitive groups\")\n",
    "        elif pred >= 51:\n",
    "            classified = np.append(classified, \"moderate\")\n",
    "        else:\n",
    "            classified = np.append(classified, \"good\")\n",
    "    return classified"
   ]
  },
  {
   "cell_type": "code",
   "execution_count": 53,
   "id": "2275b4d8-a327-4058-a806-e6bb536fb3e1",
   "metadata": {},
   "outputs": [
    {
     "data": {
      "text/plain": [
       "moderate                      236\n",
       "good                          124\n",
       "unhealthy sensitive groups     74\n",
       "unhealthy                      16\n",
       "dtype: int64"
      ]
     },
     "execution_count": 53,
     "metadata": {},
     "output_type": "execute_result"
    }
   ],
   "source": [
    "pd.Series(predict(model, features)).value_counts()"
   ]
  },
  {
   "cell_type": "code",
   "execution_count": 54,
   "id": "c8f75bd7",
   "metadata": {
    "deletable": false,
    "editable": false
   },
   "outputs": [
    {
     "data": {
      "text/html": [
       "<p><strong><pre style='display: inline;'>q10d</pre></strong> passed!</p>"
      ],
      "text/plain": [
       "q10d results: All test cases passed!"
      ]
     },
     "execution_count": 54,
     "metadata": {},
     "output_type": "execute_result"
    }
   ],
   "source": [
    "grader.check(\"q10d\")"
   ]
  },
  {
   "cell_type": "markdown",
   "id": "95796ead",
   "metadata": {
    "deletable": false,
    "editable": false
   },
   "source": [
    "<br/>\n",
    "\n",
    "### Question 10e: Model Validation and Performance\n",
    "\n",
    "Now that you have finished making your model, we want to see how well it performs on our data. In this question, use the following cell to split your data into training and validation sets. You should partition 70\\% of your data to be used as your training set, and the remaining to be used as your validation set. \n",
    "\n",
    "Assign `binary_error` to be the **fraction of inputs on your validation set that the your `predict` function classifies incorrectly.** Note that this is a binary loss in some sense as it assigns a loss of 1 to those points predicted incorrectly, and a loss of 0 to those points predicted correctly.\n",
    "\n",
    "Assign `cv_error` to be the the error on the validation set produced by the loss function $ L $ that you designed in question 3.\n",
    "\n",
    "*Hint*: you can use `train_test_split` from `sklearn`.\n",
    "\n",
    "<!--\n",
    "BEGIN QUESTION\n",
    "name: q10e\n",
    "points: 8\n",
    "-->"
   ]
  },
  {
   "cell_type": "code",
   "execution_count": 55,
   "id": "9b2a0333",
   "metadata": {},
   "outputs": [
    {
     "name": "stdout",
     "output_type": "stream",
     "text": [
      "0.2222222222222222\n",
      "40.072455282866734\n"
     ]
    }
   ],
   "source": [
    "import sklearn as sk\n",
    "from sklearn.model_selection import KFold\n",
    "\n",
    "X_train, X_validation, y_train, y_validation = sk.model_selection.train_test_split(features, targets, test_size = 0.3, random_state = 42)\n",
    "\n",
    "def ordinal_rep(arr):\n",
    "    new = []\n",
    "    for i in range(len(arr)):\n",
    "        if arr[i] == \"hazardous\":\n",
    "            new = np.append(new, 6)\n",
    "        elif arr[i] == \"very unhealthy\":\n",
    "            new = np.append(new, 5)\n",
    "        elif arr[i] == \"unhealthy\":\n",
    "            new = np.append(new, 4)\n",
    "        elif arr[i] == \"unhealthy sensitive groups\":\n",
    "            new = np.append(new, 3)\n",
    "        elif arr[i] == \"moderate\":\n",
    "            new = np.append(new, 2)\n",
    "        else:\n",
    "            new = np.append(new, 1)\n",
    "    return new\n",
    "    \n",
    "def classifier(targets):\n",
    "    classified = []\n",
    "    for aqi in targets:\n",
    "        if aqi >= 301 and aqi <= 500:\n",
    "            classified = np.append(classified, \"hazardous\")\n",
    "        elif aqi >= 201:\n",
    "            classified = np.append(classified, \"very unhealthy\")\n",
    "        elif aqi >= 151:\n",
    "            classified = np.append(classified, \"unhealthy\")\n",
    "        elif aqi >= 101:\n",
    "            classified = np.append(classified, \"unhealthy sensitive groups\")\n",
    "        elif aqi >= 51:\n",
    "            classified = np.append(classified, \"moderate\")\n",
    "        else:\n",
    "            classified = np.append(classified, \"good\")\n",
    "    targets = classified\n",
    "    targets = pd.DataFrame(targets)\n",
    "    return targets\n",
    "    \n",
    "def get_binary_error(y_hat, y_actual):\n",
    "    compared = y_hat != y_actual\n",
    "    return sum(compared) / len(compared)\n",
    "\n",
    "def categorical_crossentropy(y_pred, y_true):\n",
    "    # - SUM(target * log(pred))\n",
    "    return -np.sum(y_true * np.log(y_pred))\n",
    "\n",
    "def loss_function(y_pred, y_true):\n",
    "    y_predicted = []\n",
    "    for aqi in y_pred:\n",
    "        if aqi >= 301 and aqi <= 500:\n",
    "            y_predicted = np.append(y_pred, 6)\n",
    "        elif aqi >= 201:\n",
    "            y_predicted = np.append(y_pred, 5)\n",
    "        elif aqi >= 151:\n",
    "            y_predicted = np.append(y_pred, 4)\n",
    "        elif aqi >= 101:\n",
    "            y_predicted = np.append(y_pred, 3)\n",
    "        elif aqi >= 51:\n",
    "            y_predicted = np.append(y_pred, 2)\n",
    "        else:\n",
    "            y_predicted = np.append(y_pred, 1)\n",
    "    cverror = np.sum(np.square(y_predicted - y_true)) / len(y_true)\n",
    "    return cverror\n",
    "\n",
    "def compute_CV_error(model, X_train, Y_train):\n",
    "    '''\n",
    "    Split the training data into 5 subsets.\n",
    "    For each subset, \n",
    "        fit a model holding out that subset\n",
    "        compute the MSE on that subset (the validation set)\n",
    "    You should be fitting 5 models total.\n",
    "    Return the average MSE of these 5 folds.\n",
    "\n",
    "    Args:\n",
    "        model: an sklearn model with fit and predict functions \n",
    "        X_train (data_frame): Training data\n",
    "        Y_train (data_frame): Label \n",
    "\n",
    "    Return:\n",
    "        the average validation MSE for the 5 splits.\n",
    "    '''\n",
    "    kf = KFold(n_splits=5, shuffle=False)\n",
    "    validation_errors = []\n",
    "    for train_idx, valid_idx in kf.split(X_train):\n",
    "        # split the data\n",
    "        split_X_train, split_X_valid = X_train.iloc[train_idx], X_train.iloc[valid_idx]\n",
    "        split_Y_train, split_Y_valid = Y_train.iloc[train_idx], Y_train.iloc[valid_idx]\n",
    "        \n",
    "        split_Y_train_unclassified = split_Y_train\n",
    "        split_Y_valid_unclassified = split_Y_valid\n",
    "        \n",
    "        split_Y_train = classifier(split_Y_train)\n",
    "        split_Y_valid = classifier(split_Y_valid)\n",
    "\n",
    "        tempArr = []\n",
    "        for i in split_Y_train.values:\n",
    "            tempArr.append(i[0])\n",
    "        \n",
    "        \n",
    "        tempArrChanged = ordinal_rep(tempArr)\n",
    "        \n",
    "        # Fit the model on the training split\n",
    "        unvalidated_lm = model.fit(split_X_train, split_Y_train_unclassified) #creates the model fitted onto the training set\n",
    "        Y_hat_validation = predict(unvalidated_lm, split_X_valid) #test the model against the validation set\n",
    "        \n",
    "        numerical_y_hat = ordinal_rep(Y_hat_validation)\n",
    "        \n",
    "        tempArr1 = []\n",
    "        for i in split_Y_valid.values:\n",
    "            tempArr1 = np.append(tempArr1, i[0])\n",
    "        \n",
    "        tempArrChanged1 = ordinal_rep(tempArr1)\n",
    "        numerical_y_hat = [int(x) for x in numerical_y_hat]\n",
    "        error = categorical_crossentropy(numerical_y_hat, tempArrChanged1)\n",
    "        validation_errors.append(error)\n",
    "        \n",
    "    return np.mean(validation_errors)\n",
    "    \n",
    "cv_error = np.abs(compute_CV_error(model, X_validation, y_validation))\n",
    "y_validation = classifier(y_validation)[0]\n",
    "binary_error = sum((predict(model, X_validation) != y_validation)) / len(X_validation)\n",
    "\n",
    "print(binary_error)\n",
    "print(cv_error)"
   ]
  },
  {
   "cell_type": "code",
   "execution_count": 56,
   "id": "60db0aa0",
   "metadata": {
    "deletable": false,
    "editable": false
   },
   "outputs": [
    {
     "data": {
      "text/html": [
       "<p><strong><pre style='display: inline;'>q10e</pre></strong> passed!</p>"
      ],
      "text/plain": [
       "q10e results: All test cases passed!"
      ]
     },
     "execution_count": 56,
     "metadata": {},
     "output_type": "execute_result"
    }
   ],
   "source": [
    "grader.check(\"q10e\")"
   ]
  },
  {
   "cell_type": "markdown",
   "id": "7c8b7e39",
   "metadata": {},
   "source": [
    "<br/><br/>\n",
    "\n",
    "---\n",
    "## Part 5: Open-Ended Modeling\n",
    "\n",
    "Now that you have had some experience with creating the a model from scratch using the existing data, you are now ready to explore other questions, such as the ones in your design document. In this section, you will use the tools that we developed in the previous parts to answer the hypothesis of your choice! Note that breaking your model-building and analysis process into modularized functions as you did above will make your code more interpretable and less error-prone. "
   ]
  },
  {
   "cell_type": "markdown",
   "id": "303c6038",
   "metadata": {
    "deletable": false,
    "editable": false
   },
   "source": [
    "<!-- BEGIN QUESTION -->\n",
    "\n",
    "### Question 11a\n",
    "\n",
    "Train a baseline model of your choice using any supervised learning approach we have studied to answer your hypothesis and predict something related to AQI; you are not limited to a linear model. However, you may use a maximum of **three features** for this part. After training, evaluate it on some validation data that you hold out yourself. \n",
    "\n",
    "<!--\n",
    "BEGIN QUESTION\n",
    "name: q11a\n",
    "points: 5\n",
    "manual: True\n",
    "-->"
   ]
  },
  {
   "cell_type": "code",
   "execution_count": 57,
   "id": "62b08e29",
   "metadata": {},
   "outputs": [],
   "source": [
    "wildfire_data1 = pd.read_csv(\"data/WFIGS_-_Wildland_Fire_Locations_Full_History.csv\")\n",
    "annual_county_aqi1 = pd.read_csv(\"data/annual_county_aqi/annual_aqi_by_county_2020.csv\")"
   ]
  },
  {
   "cell_type": "code",
   "execution_count": 64,
   "id": "3499e4a0-416b-4960-b03f-a7462867dcd2",
   "metadata": {},
   "outputs": [
    {
     "name": "stdout",
     "output_type": "stream",
     "text": [
      "The RandomForestClassifier model's performance on testing set\n",
      "--------------------------------------\n",
      "Confusion Matrix\n",
      "\n",
      "[[0 0 0 2 1]\n",
      " [0 0 0 0 2]\n",
      " [0 0 0 1 0]\n",
      " [0 0 0 0 0]\n",
      " [0 1 0 0 0]]\n",
      "\n",
      "Accuracy: 0.00\n",
      "\n",
      "\n",
      "Classification Report\n",
      "\n",
      "              precision    recall  f1-score   support\n",
      "\n",
      "           0       0.00      0.00      0.00       3.0\n",
      "           1       0.00      0.00      0.00       2.0\n",
      "           2       0.00      0.00      0.00       1.0\n",
      "           3       0.00      0.00      0.00       0.0\n",
      "           4       0.00      0.00      0.00       1.0\n",
      "\n",
      "    accuracy                           0.00       7.0\n",
      "   macro avg       0.00      0.00      0.00       7.0\n",
      "weighted avg       0.00      0.00      0.00       7.0\n",
      "\n",
      "\n",
      "5-Fold Cross Validation Error: [0.  0.  0.5]\n",
      "\n",
      "5-Fold Cross Validation Error: [-1331.53412612    -3.77769144   -39.48661909]\n",
      "The LinearRegression model's performance on testing set\n",
      "--------------------------------------\n",
      "MAE is 21.9455642184708\n",
      "MSE is 982.0119358249698\n",
      "R2 score is -4.103795593489979\n"
     ]
    },
    {
     "data": {
      "image/png": "[encoded data removed]",
      "text/plain": [
       "<Figure size 432x288 with 1 Axes>"
      ]
     },
     "metadata": {
      "needs_background": "light"
     },
     "output_type": "display_data"
    },
    {
     "name": "stdout",
     "output_type": "stream",
     "text": [
      "\n",
      "5-Fold Cross Validation Error: [-1.08057674 -8.66445313 -0.75132385]\n",
      "The RandomForestRegressor model's performance on testing set\n",
      "--------------------------------------\n",
      "MAE is 10.194285714285714\n",
      "MSE is 131.78954285714286\n",
      "R2 score is -1.2500653658536587\n"
     ]
    },
    {
     "data": {
      "image/png": "[encoded data removed]",
      "text/plain": [
       "<Figure size 432x288 with 1 Axes>"
      ]
     },
     "metadata": {
      "needs_background": "light"
     },
     "output_type": "display_data"
    }
   ],
   "source": [
    "import datetime as dt\n",
    "import sklearn as skl\n",
    "from sklearn.linear_model import LinearRegression\n",
    "from sklearn.ensemble import RandomForestClassifier\n",
    "from sklearn.ensemble import RandomForestRegressor\n",
    "from sklearn.model_selection import KFold, cross_validate, train_test_split, cross_val_score\n",
    "from sklearn.metrics import confusion_matrix, mean_absolute_error, mean_squared_error, r2_score\n",
    "from sklearn.metrics import accuracy_score, precision_score, recall_score, f1_score, classification_report\n",
    "\n",
    "\n",
    "wildfire_data = wildfire_data1\n",
    "annual_county_aqi = annual_county_aqi1\n",
    "\n",
    "columns = [\"POOCounty\", \"DailyAcres\", 'FireBehaviorGeneral', \"FireDiscoveryDateTime\", \"FireOutDateTime\", \"POOState\"]\n",
    "def wildfire_setup(wildfire_data, cols):\n",
    "    wildfire_data = wildfire_data[cols]\n",
    "    wildfire_data = wildfire_data[wildfire_data['POOState'] == 'US-CA'].drop('POOState', axis=1)\n",
    "    wildfire_data = wildfire_data[wildfire_data['DailyAcres'].notnull()]\n",
    "    # wildfire_data['Year'] = pd.to_datetime(wildfire_data['FireDiscoveryDateTime'], errors='coerce').dt.year\n",
    "    # wildfire_data = wildfire_data[wildfire_data['Year'] == 2020]\n",
    "    # Get one hot encoding of FireBehaviorGeneral column\n",
    "    one_hot = pd.get_dummies(wildfire_data['FireBehaviorGeneral'], prefix='behavior')\n",
    "    # Drop column  as it is now encoded\n",
    "    wildfire_data = wildfire_data.drop('FireBehaviorGeneral', axis = 1)\n",
    "    # Join the encoded df\n",
    "    wildfire_data = wildfire_data.join(one_hot)\n",
    "    return wildfire_data\n",
    "\n",
    "def create_datetime_difference(df, date1, date2, duration_title):\n",
    "    df = df[df[date1].notnull()][df[date2].notnull()]\n",
    "    col1 = pd.to_datetime(df[date1], errors = 'coerce')\n",
    "    col2 = pd.to_datetime(df[date2], errors = 'coerce')\n",
    "    duration = (col2 - col1).dt.days\n",
    "    df[duration_title] = duration\n",
    "    df = df[df[duration_title].notnull()]\n",
    "    df = df[df[duration_title] >= 0]\n",
    "    df = df.drop([date1, date2], axis=1)\n",
    "    return df\n",
    "    \n",
    "def group_by_county(df, minimum_threshold):\n",
    "    v = df.POOCounty.value_counts()\n",
    "    df = df[df.POOCounty.isin(v.index[v.gt(minimum_threshold)])]\n",
    "    df = df.drop(['behavior_Moderate'], axis=1)\n",
    "    df = df.groupby('POOCounty').agg(\n",
    "            median_dailyacres=('DailyAcres', np.median),\n",
    "            count_ActiveBehavior=('behavior_Active', np.sum),\n",
    "            count_ExtremeBehavior=('behavior_Extreme', np.sum),\n",
    "            mean_FireDurationDays=('FireDurationDays', np.mean)\n",
    "        )\n",
    "    df['count_ExtremeOrActiveBehavior'] = df['count_ActiveBehavior'] + df['count_ExtremeBehavior']\n",
    "    df = df.drop(['count_ActiveBehavior', 'count_ExtremeBehavior'], axis=1)\n",
    "    df = df.reset_index()\n",
    "    return df\n",
    "\n",
    "def merge_with_annualcountyaqi(df, annual_county_aqi):\n",
    "    annual_county_aqi = annual_county_aqi[annual_county_aqi['State'] == 'California']\n",
    "    annual_county_aqi = annual_county_aqi[['County', 'Median AQI']]\n",
    "    df = df.rename(columns = {'POOCounty': 'County'})\n",
    "    df = df.merge(annual_county_aqi, on=['County'])\n",
    "    return df\n",
    "\n",
    "def create_initial_model(df, rf=False, rfr=False, lr=False, binned=False):\n",
    "    if binned == True:\n",
    "        df = df.copy()\n",
    "        df['Median AQI Bins'] = pd.qcut(x=df['Median AQI'],\n",
    "                                        q=5,\n",
    "                                        labels=False)\n",
    "        df = df.drop('Median AQI', axis=1)\n",
    "    df = df.drop('County', axis=1)\n",
    "    features = df.iloc[:, :-1]\n",
    "    targets = df.iloc[:, -1]\n",
    "    X_train, X_rem, y_train, y_rem = train_test_split(features, targets, train_size=0.6)\n",
    "    X_validation, X_test, y_validation, y_test = train_test_split(X_rem, y_rem, train_size=0.5)\n",
    "    if rf == True:\n",
    "        model = RandomForestClassifier()\n",
    "        model.fit(X_train, y_train)\n",
    "        evaluate_model(model, X_test, y_test, X_val=X_validation, y_val=y_validation, is_classifier=True, initial_nsplits=3)\n",
    "        return model\n",
    "        \n",
    "    if rfr == True:\n",
    "        model = RandomForestRegressor(n_estimators=100, random_state=0)\n",
    "        model.fit(X_train, y_train)\n",
    "        evaluate_model(model, X_test, y_test, X_val=X_validation, y_val=y_validation, initial_nsplits=3)\n",
    "        return model\n",
    "    if lr == True:\n",
    "        model = LinearRegression(normalize=True)\n",
    "        model.fit(X_train, y_train)\n",
    "        evaluate_model(model, X_test, y_test, X_val=X_validation, y_val=y_validation, initial_nsplits=3)\n",
    "        return model\n",
    "    \n",
    "def cross_validation(model, X, y, n_splits=5, is_classifier=False, initial_nsplits=None):\n",
    "    if initial_nsplits != None:\n",
    "        n_splits = initial_nsplits\n",
    "    scores = cross_val_score(model, X, y, cv=n_splits)\n",
    "    return scores\n",
    "\n",
    "def merge_with_q10data(wildfire_data):\n",
    "    wildfire_data = wildfire_data.iloc[:, :-1].rename(columns={'County':'county Name'})\n",
    "    df = build_features(q11=True)\n",
    "    df = df.merge(wildfire_data, on='county Name')\n",
    "    df = df[[c for c in df if c not in ['AQI']] \n",
    "       + ['AQI']]\n",
    "    return df\n",
    "\n",
    "def create_second_model(df, rf=False, rfr=False, lr=False, binned=False):\n",
    "    df = merge_with_q10data(df).drop(['county Name'], axis=1)\n",
    "    if binned == True:\n",
    "        df = df.copy()\n",
    "        df['AQI Bins'] = pd.qcut(x=df['AQI'],\n",
    "                                        q=5,\n",
    "                                        labels=False)\n",
    "        df = df.drop('AQI', axis=1)\n",
    "    features = df.iloc[:, :-1]\n",
    "    targets = df.iloc[:, -1]\n",
    "    X_train, X_rem, y_train, y_rem = train_test_split(features, targets, train_size=0.65)\n",
    "    X_validation, X_test, y_validation, y_test = train_test_split(X_rem, y_rem, train_size=0.5)\n",
    "    if rf == True:\n",
    "        model = RandomForestClassifier()\n",
    "        model.fit(X_train, y_train)\n",
    "        evaluate_model(model, X_test, y_test, X_val=X_validation, y_val=y_validation, is_classifier=True)\n",
    "    if rfr == True:\n",
    "        model = RandomForestRegressor(n_estimators=100, random_state=0)\n",
    "        model.fit(X_train, y_train)\n",
    "        evaluate_model(model, X_test, y_test, X_val=X_validation, y_val=y_validation)\n",
    "        return model\n",
    "    if lr == True:\n",
    "        model = LinearRegression()\n",
    "        model.fit(X_train, y_train)\n",
    "        evaluate_model(model, X_test, y_test, X_val=X_validation, y_val=y_validation)\n",
    "        return model\n",
    "    \n",
    "def evaluate_model(model, X_test, y_test, X_val=None, y_val=None, is_classifier=False, initial_nsplits=None):\n",
    "    y_predicted = model.predict(X_test)\n",
    "    if is_classifier==True:\n",
    "        print(\"The {0} model's performance on testing set\".format(type(model).__name__))\n",
    "        print(\"--------------------------------------\")\n",
    "        confusion = confusion_matrix(y_test, y_predicted)\n",
    "        print('Confusion Matrix\\n')\n",
    "        print(confusion)\n",
    "\n",
    "        #importing accuracy_score, precision_score, recall_score, f1_score\n",
    "        print('\\nAccuracy: {:.2f}\\n'.format(accuracy_score(y_test, y_predicted)))\n",
    "        print('\\nClassification Report\\n')\n",
    "        print(classification_report(y_test, y_predicted))\n",
    "        print('\\n5-Fold Cross Validation Error: {0}'.format(cross_validation(model, X_val, y_val, initial_nsplits)))\n",
    "    else:\n",
    "        # model evaluation for testing set\n",
    "        mae = skl.metrics.mean_absolute_error(y_test, y_predicted)\n",
    "        mse = skl.metrics.mean_squared_error(y_test, y_predicted)\n",
    "        r2 = skl.metrics.r2_score(y_test, y_predicted)\n",
    "        print('\\n5-Fold Cross Validation Error: {0}'.format(cross_validation(model, X_val, y_val, initial_nsplits)))\n",
    "        print(\"The {0} model's performance on testing set\".format(type(model).__name__))\n",
    "        print(\"--------------------------------------\")\n",
    "        print('MAE is {}'.format(mae))\n",
    "        print('MSE is {}'.format(mse))\n",
    "        print('R2 score is {}'.format(r2))\n",
    "        fig, ax = plt.subplots()\n",
    "        ax.scatter(y_predicted, y_test, edgecolors=(0, 0, 1))\n",
    "        ax.plot([y_test.min(), y_test.max()], [y_test.min(), y_test.max()], 'r--', lw=3)\n",
    "        ax.set_xlabel('Predicted')\n",
    "        ax.set_ylabel('Actual')\n",
    "        plt.show()\n",
    "    \n",
    "    \n",
    "    \n",
    "wildfire_data = wildfire_setup(wildfire_data, columns)\n",
    "wildfire_data = create_datetime_difference(wildfire_data, 'FireDiscoveryDateTime', 'FireOutDateTime', 'FireDurationDays')\n",
    "wildfire_data = group_by_county(wildfire_data, 10)\n",
    "wildfire_data = merge_with_annualcountyaqi(wildfire_data, annual_county_aqi)\n",
    "\n",
    "initial_rf_model = create_initial_model(wildfire_data, rf=True, binned=True)\n",
    "initial_lr_model = create_initial_model(wildfire_data,lr=True)\n",
    "initial_rfr_model = create_initial_model(wildfire_data, rfr=True)"
   ]
  },
  {
   "cell_type": "markdown",
   "id": "f2558166",
   "metadata": {
    "deletable": false,
    "editable": false
   },
   "source": [
    "<!-- END QUESTION -->\n",
    "\n",
    "<!-- BEGIN QUESTION -->\n",
    "\n",
    "### Question 11b\n",
    "\n",
    "Explain and summarize the model that you used. In your summary, make sure to include the model description, the inputs, the outputs, as well as the cross-validation error. Additionally, talk a little bit about what you would change to your baseline model to improve it. The expected length of your summary should be 8-12 sentences. \n",
    "\n",
    "<!--\n",
    "BEGIN QUESTION\n",
    "name: q11b\n",
    "points: 2\n",
    "manual: True\n",
    "-->"
   ]
  },
  {
   "cell_type": "markdown",
   "id": "82cf47b9",
   "metadata": {},
   "source": [
    "The models I used are random forests, linear regression, and random forest regressor. I used these three models as baseline models to work with my sparse county-wise wildfire data to check whether there are any generalizable trends between counties' wildfire histories and annual median AQIs. Since the data was sprase, validation errors were mostly meaningless. Changes to my baseline models are addressed in question 11c and the modeling report."
   ]
  },
  {
   "cell_type": "markdown",
   "id": "6d4b2852",
   "metadata": {
    "deletable": false,
    "editable": false
   },
   "source": [
    "<!-- END QUESTION -->\n",
    "\n",
    "<!-- BEGIN QUESTION -->\n",
    "\n",
    "### Question 11c\n",
    "\n",
    "Improve your model from part 11a based on the improvements that you suggested in part 11b. This could be the addition of more features, performing additional transformations on your features, increasing/decreasing the complexity of the model itself, or really anything else. You have no limitation on the number of features you can use, but you are required to use at least **one external dataset** that you process and merge in yourself. \n",
    "\n",
    "<!--\n",
    "BEGIN QUESTION\n",
    "name: q11c\n",
    "points: 8\n",
    "manual: True\n",
    "-->"
   ]
  },
  {
   "cell_type": "code",
   "execution_count": 68,
   "id": "60a5bcb0",
   "metadata": {},
   "outputs": [
    {
     "name": "stdout",
     "output_type": "stream",
     "text": [
      "The RandomForestClassifier model's performance on testing set\n",
      "--------------------------------------\n",
      "Confusion Matrix\n",
      "\n",
      "[[8 3 1 1 1]\n",
      " [2 2 1 3 1]\n",
      " [1 2 5 4 0]\n",
      " [1 2 1 4 0]\n",
      " [1 2 3 2 6]]\n",
      "\n",
      "Accuracy: 0.44\n",
      "\n",
      "\n",
      "Classification Report\n",
      "\n",
      "              precision    recall  f1-score   support\n",
      "\n",
      "           0       0.62      0.57      0.59        14\n",
      "           1       0.18      0.22      0.20         9\n",
      "           2       0.45      0.42      0.43        12\n",
      "           3       0.29      0.50      0.36         8\n",
      "           4       0.75      0.43      0.55        14\n",
      "\n",
      "    accuracy                           0.44        57\n",
      "   macro avg       0.46      0.43      0.43        57\n",
      "weighted avg       0.50      0.44      0.45        57\n",
      "\n",
      "\n",
      "5-Fold Cross Validation Error: [0.5        0.25       0.45454545 0.27272727 0.18181818]\n",
      "\n",
      "5-Fold Cross Validation Error: [ 0.06554327 -1.06567495 -0.01041527  0.12462402 -5.01046467]\n",
      "The LinearRegression model's performance on testing set\n",
      "--------------------------------------\n",
      "MAE is 27.83046872601514\n",
      "MSE is 1211.263836713365\n",
      "R2 score is 0.053369700715828916\n"
     ]
    },
    {
     "data": {
      "image/png": "[encoded data removed]",
      "text/plain": [
       "<Figure size 432x288 with 1 Axes>"
      ]
     },
     "metadata": {
      "needs_background": "light"
     },
     "output_type": "display_data"
    },
    {
     "name": "stdout",
     "output_type": "stream",
     "text": [
      "\n",
      "5-Fold Cross Validation Error: [-0.12192728  0.22538143  0.29405601 -0.30422749 -0.02796827]\n",
      "The RandomForestRegressor model's performance on testing set\n",
      "--------------------------------------\n",
      "MAE is 29.648537082697697\n",
      "MSE is 1334.4198739316714\n",
      "R2 score is 0.17773934161361027\n"
     ]
    },
    {
     "data": {
      "image/png": "[encoded data removed]",
      "text/plain": [
       "<Figure size 432x288 with 1 Axes>"
      ]
     },
     "metadata": {
      "needs_background": "light"
     },
     "output_type": "display_data"
    }
   ],
   "source": [
    "second_rf_model = create_second_model(wildfire_data, rf=True, binned=True)\n",
    "second_lr_model = create_second_model(wildfire_data, lr=True)\n",
    "second_rfr_model = create_second_model(wildfire_data, rfr=True)"
   ]
  },
  {
   "cell_type": "markdown",
   "id": "62956358",
   "metadata": {
    "deletable": false,
    "editable": false
   },
   "source": [
    "<!-- END QUESTION -->\n",
    "\n",
    "<!-- BEGIN QUESTION -->\n",
    "\n",
    "### Question 11d\n",
    "\n",
    "Compare and contrast your baseline model and (hopefully) improved model. Make sure to compare their validation errors. Were you able to successfully answer your research question and evaluate your hypothesis? Summarize in a few sentences the conclusions that you can draw from your model and predictions. The expected length of your response should be 8-10 sentences. \n",
    "\n",
    "<!--\n",
    "BEGIN QUESTION\n",
    "name: q11d\n",
    "points: 3\n",
    "manual: True\n",
    "-->"
   ]
  },
  {
   "cell_type": "markdown",
   "id": "c541f7ef",
   "metadata": {},
   "source": [
    "Our baseline model(s) [random forest, linear regression, random forest regressor] was clearly deficient since the data was so sparse. The reason we modelled with the baseline data is to see if we can glean any hidden generalizable trends between the wildfire data of various different counties. Since the data was obviously sparse in terms of datapoints, the validation error is high and volatile. Our target variable for the baseline model was the annual median AQI for Californian counties in the year of 2020. Because we quickly saw via modelling that we couldn't generalize wildfire --> AQI predictivity between counties, we moved on to using counties' wildfire data features as reinforcements to our question 10 feature engineering to predict monthly average AQI for all sites in all Californian counties.\n",
    "\n",
    "Our improved model as can be observed in 11c is superior in terms of predictivity, as we can clearly see that we have gotten roughly the correct trend in our regression models. Thus, our validation errors are lower. Overall, with the limited features we worked with from wildfire data, amending it to our EPA features led us in the right direction in terms of prediction. Our research question was partially answered since wildfire data seems to be somewhat predictive of AQI."
   ]
  },
  {
   "cell_type": "markdown",
   "id": "a8758917",
   "metadata": {
    "deletable": false,
    "editable": false
   },
   "source": [
    "---\n",
    "\n",
    "To double-check your work, the cell below will rerun all of the autograder tests."
   ]
  },
  {
   "cell_type": "code",
   "execution_count": 69,
   "id": "4521edc4",
   "metadata": {
    "deletable": false,
    "editable": false
   },
   "outputs": [
    {
     "data": {
      "text/plain": [
       "q10b results: All test cases passed!\n",
       "\n",
       "q10c results: All test cases passed!\n",
       "\n",
       "q10d results: All test cases passed!\n",
       "\n",
       "q10e results: All test cases passed!\n",
       "\n",
       "q1a results: All test cases passed!\n",
       "\n",
       "q1b results: All test cases passed!\n",
       "\n",
       "q1c results:\n",
       "    q1c - 1 result:\n",
       "        Trying:\n",
       "            set(epa_data_CA_merged.columns) == set(['State Name', 'county Name', 'Month', 'Day', 'AQI', 'Category',\n",
       "                   'Defining Site', 'Latitude', 'Longitude'])\n",
       "        Expecting:\n",
       "            True\n",
       "        **********************************************************************\n",
       "        Line 1, in q1c 0\n",
       "        Failed example:\n",
       "            set(epa_data_CA_merged.columns) == set(['State Name', 'county Name', 'Month', 'Day', 'AQI', 'Category',\n",
       "                   'Defining Site', 'Latitude', 'Longitude'])\n",
       "        Expected:\n",
       "            True\n",
       "        Got:\n",
       "            False\n",
       "\n",
       "    q1c - 2 result:\n",
       "        Trying:\n",
       "            assert epa_data_CA_merged[epa_data_CA_merged['county Name'] == 'Alameda'].shape == (366, 9)\n",
       "        Expecting nothing\n",
       "        **********************************************************************\n",
       "        Line 1, in q1c 1\n",
       "        Failed example:\n",
       "            assert epa_data_CA_merged[epa_data_CA_merged['county Name'] == 'Alameda'].shape == (366, 9)\n",
       "        Exception raised:\n",
       "            Traceback (most recent call last):\n",
       "              File \"/opt/conda/lib/python3.9/doctest.py\", line 1336, in __run\n",
       "                exec(compile(example.source, filename, \"single\",\n",
       "              File \"<doctest q1c 1[0]>\", line 1, in <module>\n",
       "                assert epa_data_CA_merged[epa_data_CA_merged['county Name'] == 'Alameda'].shape == (366, 9)\n",
       "            AssertionError\n",
       "        Trying:\n",
       "            round(epa_data_CA_merged[(epa_data_CA_merged['county Name'] == 'Alameda') & (epa_data_CA_merged['Month'] == 1)\n",
       "                              & (epa_data_CA_merged['Day'] == 1)]['Latitude'][0], 2) == 37.74\n",
       "        Expecting:\n",
       "            True\n",
       "        ok\n",
       "\n",
       "q2a results: All test cases passed!\n",
       "\n",
       "q2b results: All test cases passed!\n",
       "\n",
       "q3a results: All test cases passed!\n",
       "\n",
       "q4a results: All test cases passed!\n",
       "\n",
       "q4i results: All test cases passed!\n",
       "\n",
       "q5a results: All test cases passed!\n",
       "\n",
       "q6a results: All test cases passed!\n",
       "\n",
       "q6b results: All test cases passed!\n",
       "\n",
       "q8a results: All test cases passed!\n",
       "\n",
       "q8b results: All test cases passed!"
      ]
     },
     "execution_count": 69,
     "metadata": {},
     "output_type": "execute_result"
    }
   ],
   "source": [
    "grader.check_all()"
   ]
  },
  {
   "cell_type": "markdown",
   "id": "9946713b",
   "metadata": {
    "deletable": false,
    "editable": false
   },
   "source": [
    "## Submission\n",
    "\n",
    "Make sure you have run all cells in your notebook in order before running the cell below, so that all images/graphs appear in the output. The cell below will generate a zip file for you to submit. **Please save before exporting!**"
   ]
  },
  {
   "cell_type": "code",
   "execution_count": null,
   "id": "d43d5a5c",
   "metadata": {
    "deletable": false,
    "editable": false
   },
   "outputs": [],
   "source": [
    "# Save your notebook first, then run this cell to export your submission.\n",
    "grader.export()"
   ]
  },
  {
   "cell_type": "markdown",
   "id": "b6d88d47",
   "metadata": {},
   "source": [
    " "
   ]
  },
  {
   "cell_type": "code",
   "execution_count": null,
   "id": "32daa868-b50d-4eff-b4f7-69030a6cc61c",
   "metadata": {},
   "outputs": [],
   "source": []
  }
 ],
 "metadata": {
  "kernelspec": {
   "display_name": "Python 3 (ipykernel)",
   "language": "python",
   "name": "python3"
  },
  "language_info": {
   "codemirror_mode": {
    "name": "ipython",
    "version": 3
   },
   "file_extension": ".py",
   "mimetype": "text/x-python",
   "name": "python",
   "nbconvert_exporter": "python",
   "pygments_lexer": "ipython3",
   "version": "3.9.7"
  }
 },
 "nbformat": 4,
 "nbformat_minor": 5
}
