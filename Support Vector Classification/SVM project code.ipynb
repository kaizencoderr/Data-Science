{
 "cells": [
  {
   "cell_type": "code",
   "execution_count": 2,
   "id": "d22ea412-6a98-405a-a972-f90aeeaecc19",
   "metadata": {},
   "outputs": [
    {
     "name": "stdout",
     "output_type": "stream",
     "text": [
      "\n",
      "loaded mnist data!\n",
      "test_data (10000, 784)\n",
      "training_data (60000, 784)\n",
      "training_labels (60000, 1)\n",
      "\n",
      "loaded spam data!\n",
      "test_data (5857, 85)\n",
      "training_data (5172, 85)\n",
      "training_labels (5172, 1)\n",
      "\n",
      "loaded cifar10 data!\n",
      "test_data (10000, 3072)\n",
      "training_data (50000, 3072)\n",
      "training_labels (50000, 1)\n"
     ]
    }
   ],
   "source": [
    "# config check\n",
    "import sys\n",
    "if sys.version_info[0] < 3:\n",
    "    raise Exception(\"Python 3 not detected.\")\n",
    "    \n",
    "import numpy as np\n",
    "import pandas as pd\n",
    "import matplotlib.pyplot as plt\n",
    "from sklearn import svm\n",
    "from scipy import io\n",
    "from sklearn.model_selection import GridSearchCV\n",
    "from sklearn.svm import SVC\n",
    "from sklearn.metrics import accuracy_score\n",
    "from sklearn.svm import LinearSVC\n",
    "\n",
    "for data_name in [\"mnist\", \"spam\", \"cifar10\"]:\n",
    "    data = io.loadmat(\"data/%s_data.mat\" % data_name)\n",
    "    print(\"\\nloaded %s data!\" % data_name)\n",
    "    fields = \"test_data\", \"training_data\", \"training_labels\"\n",
    "    for field in fields:\n",
    "        print(field, data[field].shape)"
   ]
  },
  {
   "cell_type": "code",
   "execution_count": 3,
   "id": "6f6dfadf-9925-4d0d-a7ad-e6cc9dd0f34b",
   "metadata": {},
   "outputs": [],
   "source": [
    "# load in datasets\n",
    "\n",
    "mnist = io.loadmat(\"data/mnist_data.mat\")\n",
    "spam = io.loadmat(\"data/spam_data.mat\")\n",
    "cifar = io.loadmat(\"data/cifar10_data.mat\")"
   ]
  },
  {
   "cell_type": "code",
   "execution_count": 4,
   "id": "c0ea0f04-f1e1-4bf0-9939-88c767347cab",
   "metadata": {},
   "outputs": [],
   "source": [
    "#Question 1 Data Partitioning\n",
    "\n",
    "# a) mnist shuffle and split\n",
    "\n",
    "shuffle = np.random.RandomState(seed=123).permutation(len(mnist[\"training_data\"]))\n",
    "mnist_train_shuffled = mnist[\"training_data\"][shuffle]\n",
    "mnist_labels_shuffled = mnist[\"training_labels\"][shuffle]\n",
    "\n",
    "mnist_val_data = mnist_train_shuffled[:10000]\n",
    "mnist_val_label = mnist_labels_shuffled[:10000]\n",
    "mnist_train_data = mnist_train_shuffled[10000:]\n",
    "mnist_train_label = mnist_labels_shuffled[10000:]\n",
    "\n",
    "# b) spam shuffle and split\n",
    "\n",
    "shuffle = np.random.RandomState(seed=123).permutation(len(spam[\"training_data\"]))\n",
    "spam_train_shuffled = spam[\"training_data\"][shuffle]\n",
    "spam_labels_shuffled = spam[\"training_labels\"][shuffle]\n",
    "\n",
    "spam_val_data = spam_train_shuffled[:1034]\n",
    "spam_val_label = spam_labels_shuffled[:1034]\n",
    "spam_train_data = spam_train_shuffled[1034:]\n",
    "spam_train_label = spam_labels_shuffled[1034:]\n",
    "\n",
    "# c) cifar shuffle and split\n",
    "\n",
    "shuffle = np.random.RandomState(seed=123).permutation(len(cifar[\"training_data\"]))\n",
    "cifar_train_shuffled = cifar[\"training_data\"][shuffle]\n",
    "cifar_labels_shuffled = cifar[\"training_labels\"][shuffle]\n",
    "\n",
    "cifar_val_data = cifar_train_shuffled[:5000]\n",
    "cifar_val_label = cifar_labels_shuffled[:5000]\n",
    "cifar_train_data = cifar_train_shuffled[5000:]\n",
    "cifar_train_label = cifar_labels_shuffled[5000:]"
   ]
  },
  {
   "cell_type": "code",
   "execution_count": 5,
   "id": "89c78a18-d1f4-40cc-9d6f-50d90a65bef4",
   "metadata": {},
   "outputs": [
    {
     "name": "stdout",
     "output_type": "stream",
     "text": [
      "Input Size:  100\n",
      "Score:  0.7131\n",
      "Input Size:  200\n",
      "Score:  0.7756\n",
      "Input Size:  500\n",
      "Score:  0.8323\n",
      "Input Size:  1000\n",
      "Score:  0.859\n",
      "Input Size:  2000\n",
      "Score:  0.8815\n",
      "Input Size:  5000\n",
      "Score:  0.8976\n",
      "Input Size:  10000\n",
      "Score:  0.9064\n"
     ]
    },
    {
     "data": {
      "image/png": "[encoded data removed]",
      "text/plain": [
       "<Figure size 432x288 with 1 Axes>"
      ]
     },
     "metadata": {
      "needs_background": "light"
     },
     "output_type": "display_data"
    }
   ],
   "source": [
    "# Question 2 Support Vector Machines: Coding\n",
    "\n",
    "# 2a) MNIST MODELING\n",
    "\n",
    "# preprocess data (normalize or standardize)\n",
    "\n",
    "# method 1: divide by max value\n",
    "mnist_train_data = mnist_train_data / 255\n",
    "mnist_val_data = mnist_val_data / 255\n",
    "\n",
    "# method 2: add a constant and take log\n",
    "# mnist_train_data = mnist_train_data + 1\n",
    "# mnist_train_data = np.log(mnist_train_data)\n",
    "# mnist_val_data = mnist_val_data + 1\n",
    "# mnist_val_data = np.log(mnist_val_data)\n",
    "\n",
    "# method 3: Subtract mean and divide by standard deviation\n",
    "# mnist_train_data = (mnist_train_data - np.mean(mnist_train_data)) / (np.std(mnist_train_data))\n",
    "# mnist_val_data = (mnist_val_data - np.mean(mnist_val_data)) / (np.std(mnist_val_data))\n",
    "\n",
    "# method 4: Divide by STD\n",
    "# mnist_train_data = mnist_train_data / (np.std(mnist_train_data))\n",
    "# mnist_val_data = mnist_val_data / (np.std(mnist_val_data))\n",
    "\n",
    "# build model and check accuracy\n",
    "\n",
    "accuracy_list = []\n",
    "input_sizes = [100, 200, 500, 1000, 2000, 5000, 10000]\n",
    "lin_svc = LinearSVC(verbose=0, C=.05, random_state= 2)\n",
    "\n",
    "for size in input_sizes:\n",
    "    shuff = np.random.RandomState(seed=123).permutation(len(mnist_train_data))\n",
    "    x_train = mnist_train_data[shuff]\n",
    "    x_train = x_train[:size]\n",
    "    y_train = mnist_train_label[shuff]\n",
    "    y_train = y_train[:size]\n",
    "    lin_svc.fit(x_train, y_train.ravel())\n",
    "    y_pred = lin_svc.predict(mnist_val_data)\n",
    "    y_actual = mnist_val_label\n",
    "    accuracy = accuracy_score(y_actual, y_pred)\n",
    "    accuracy_list.append(accuracy)\n",
    "    print(\"Input Size: \", size)\n",
    "    print(\"Score: \", accuracy)\n",
    "\n",
    "# plot accuracy scores\n",
    "x = input_sizes\n",
    "y = accuracy_list\n",
    "\n",
    "plt.plot(x, y, marker='o', color='b')\n",
    "plt.title('model accuracy over input sizes')\n",
    "plt.xlabel(\"Input Size\")\n",
    "plt.ylabel(\"Accuracy\")\n",
    "plt.show()"
   ]
  },
  {
   "cell_type": "code",
   "execution_count": 6,
   "id": "5971cadc-420e-4658-89d2-aff035298e6c",
   "metadata": {},
   "outputs": [
    {
     "name": "stdout",
     "output_type": "stream",
     "text": [
      "Input Size:  100\n",
      "Score:  0.8104448742746615\n",
      "Input Size:  200\n",
      "Score:  0.8375241779497099\n",
      "Input Size:  500\n",
      "Score:  0.8423597678916828\n",
      "Input Size:  1000\n",
      "Score:  0.8558994197292069\n",
      "Input Size:  2000\n",
      "Score:  0.8655705996131529\n",
      "Input Size:  4138\n",
      "Score:  0.8713733075435203\n"
     ]
    },
    {
     "data": {
      "image/png": "[encoded data removed]",
      "text/plain": [
       "<Figure size 432x288 with 1 Axes>"
      ]
     },
     "metadata": {
      "needs_background": "light"
     },
     "output_type": "display_data"
    }
   ],
   "source": [
    "#2b SPAM MODELING\n",
    "\n",
    "# preprocess data (normalize or standardize)\n",
    "\n",
    "# method 1: divide by max value\n",
    "\n",
    "# spam_train_data = spam_train_data / 980\n",
    "# spam_val_data = spam_val_data / 980\n",
    "\n",
    "# method 2: add a constant and take log\n",
    "\n",
    "spam_train_data = spam_train_data + 1\n",
    "spam_train_data = np.log(spam_train_data)\n",
    "spam_val_data = spam_val_data + 1\n",
    "spam_val_data = np.log(spam_val_data)\n",
    "\n",
    "# # method 3: Subtract mean and divide by standard deviation\n",
    "# spam_train_data = (spam_train_data - np.mean(spam_train_data)) / (np.std(spam_train_data))\n",
    "# spam_val_data = (spam_val_data - np.mean(spam_val_data)) / (np.std(spam_val_data))\n",
    "\n",
    "# method 4: Divide by STD\n",
    "# spam_train_data = spam_train_data / (np.std(spam_train_data))\n",
    "# spam_val_data = spam_val_data / (np.std(spam_val_data))\n",
    "\n",
    "\n",
    "# build model and check accuracy\n",
    "\n",
    "accuracy_list = []\n",
    "input_sizes = [100, 200, 500, 1000, 2000, len(spam_train_data)]\n",
    "lin_svc = LinearSVC(verbose=0, C=.1, random_state= 2, max_iter=1500)\n",
    "\n",
    "for size in input_sizes:\n",
    "    shuff = np.random.RandomState(seed=123).permutation(len(spam_train_data))\n",
    "    x_train = spam_train_data[shuff]\n",
    "    x_train = x_train[:size]\n",
    "    y_train = spam_train_label[shuff]\n",
    "    y_train = y_train[:size]\n",
    "    lin_svc.fit(x_train, y_train.ravel())\n",
    "    y_pred = lin_svc.predict(spam_val_data)\n",
    "    y_actual = spam_val_label\n",
    "    accuracy = accuracy_score(y_actual, y_pred)\n",
    "    accuracy_list.append(accuracy)\n",
    "    print(\"Input Size: \", size)\n",
    "    print(\"Score: \", accuracy)\n",
    "\n",
    "# plot accuracy scores\n",
    "x = input_sizes\n",
    "y = accuracy_list\n",
    "\n",
    "plt.plot(x, y, marker='o', color='b')\n",
    "plt.title('model accuracy over input sizes')\n",
    "plt.xlabel(\"Input Size\")\n",
    "plt.ylabel(\"Accuracy\")\n",
    "plt.show()"
   ]
  },
  {
   "cell_type": "code",
   "execution_count": 7,
   "id": "05e6711d-d6c1-45ac-96f2-5a49cc123387",
   "metadata": {},
   "outputs": [
    {
     "name": "stdout",
     "output_type": "stream",
     "text": [
      "Input Size:  100\n",
      "Score:  0.2544\n",
      "Input Size:  200\n",
      "Score:  0.2612\n",
      "Input Size:  500\n",
      "Score:  0.2962\n",
      "Input Size:  1000\n",
      "Score:  0.311\n",
      "Input Size:  2000\n",
      "Score:  0.3296\n",
      "Input Size:  5000\n",
      "Score:  0.3538\n"
     ]
    },
    {
     "data": {
      "image/png": "[encoded data removed]",
      "text/plain": [
       "<Figure size 432x288 with 1 Axes>"
      ]
     },
     "metadata": {
      "needs_background": "light"
     },
     "output_type": "display_data"
    }
   ],
   "source": [
    "#2c CIFAR MODELING\n",
    "\n",
    "# preprocess data (normalize or standardize)\n",
    "\n",
    "# Method 1: divide by max value\n",
    "cifar_train_data = cifar_train_data / 255\n",
    "cifar_val_data = cifar_val_data / 255\n",
    "\n",
    "# method 2: add a constant and take log\n",
    "\n",
    "# cifar_train_data = cifar_train_data + 1\n",
    "# cifar_train_data = np.log(cifar_train_data)\n",
    "# cifar_val_data = cifar_val_data + 1\n",
    "# cifar_val_data = np.log(cifar_val_data)\n",
    "\n",
    "# method 3: Subtract mean and divide by standard deviation\n",
    "# cifar_train_data = (cifar_train_data - np.mean(cifar_train_data)) / (np.std(cifar_train_data))\n",
    "# cifar_val_data = (cifar_val_data - np.mean(cifar_val_data)) / (np.std(cifar_val_data))\n",
    "\n",
    "# method 4: Divide by STD\n",
    "# cifar_train_data = cifar_train_data / (np.std(cifar_train_data))\n",
    "# cifar_val_data = cifar_val_data / (np.std(cifar_val_data))\n",
    "\n",
    "\n",
    "# build model and check accuracy\n",
    "\n",
    "accuracy_list = []\n",
    "input_sizes = [100, 200, 500, 1000, 2000, 5000]\n",
    "lin_svc = LinearSVC(verbose=0, C=.007, random_state= 2)\n",
    "\n",
    "for size in input_sizes:\n",
    "    shuff = np.random.RandomState(seed=123).permutation(len(cifar_train_data))\n",
    "    x_train = cifar_train_data[shuff]\n",
    "    x_train = x_train[:size]\n",
    "    y_train = cifar_train_label[shuff]\n",
    "    y_train = y_train[:size]\n",
    "    lin_svc.fit(x_train, y_train.ravel())\n",
    "    y_pred = lin_svc.predict(cifar_val_data)\n",
    "    y_actual = cifar_val_label\n",
    "    accuracy = accuracy_score(y_actual, y_pred)\n",
    "    accuracy_list.append(accuracy)\n",
    "    print(\"Input Size: \", size)\n",
    "    print(\"Score: \", accuracy)\n",
    "\n",
    "# plot accuracy scores\n",
    "x = input_sizes\n",
    "y = accuracy_list\n",
    "\n",
    "plt.plot(x, y, marker='o', color='b')\n",
    "plt.title('model accuracy over input sizes')\n",
    "plt.xlabel(\"Input Size\")\n",
    "plt.ylabel(\"Accuracy\")\n",
    "plt.show()"
   ]
  },
  {
   "cell_type": "code",
   "execution_count": 8,
   "id": "58f4931b-2218-462c-9e03-191b6e5fd9e2",
   "metadata": {},
   "outputs": [
    {
     "name": "stderr",
     "output_type": "stream",
     "text": [
      "/Users/mac/anaconda3/lib/python3.9/site-packages/sklearn/svm/_base.py:985: ConvergenceWarning: Liblinear failed to converge, increase the number of iterations.\n",
      "  warnings.warn(\"Liblinear failed to converge, increase \"\n"
     ]
    },
    {
     "name": "stdout",
     "output_type": "stream",
     "text": [
      "Parameter C Size:  1\n",
      "Score:  0.8932\n"
     ]
    },
    {
     "name": "stderr",
     "output_type": "stream",
     "text": [
      "/Users/mac/anaconda3/lib/python3.9/site-packages/sklearn/svm/_base.py:985: ConvergenceWarning: Liblinear failed to converge, increase the number of iterations.\n",
      "  warnings.warn(\"Liblinear failed to converge, increase \"\n"
     ]
    },
    {
     "name": "stdout",
     "output_type": "stream",
     "text": [
      "Parameter C Size:  0.5\n",
      "Score:  0.8966\n",
      "Parameter C Size:  0.1\n",
      "Score:  0.9042\n",
      "Parameter C Size:  0.05\n",
      "Score:  0.9064\n",
      "Parameter C Size:  0.01\n",
      "Score:  0.9055\n",
      "Parameter C Size:  0.005\n",
      "Score:  0.9017\n",
      "Parameter C Size:  0.001\n",
      "Score:  0.8885\n",
      "Parameter C Size:  0.0005\n",
      "Score:  0.8787\n",
      "Parameter C Size:  0.0001\n",
      "Score:  0.8442\n",
      "Parameter C Size:  5e-05\n",
      "Score:  0.823\n",
      "Parameter C Size:  1e-05\n",
      "Score:  0.7741\n",
      "Parameter C Size:  5e-06\n",
      "Score:  0.7575\n",
      "Parameter C Size:  1e-06\n",
      "Score:  0.7211\n",
      "Parameter C Size:  5e-07\n",
      "Score:  0.6967\n",
      "Parameter C Size:  1e-07\n",
      "Score:  0.652\n"
     ]
    },
    {
     "data": {
      "image/png": "[encoded data removed]",
      "text/plain": [
       "<Figure size 432x288 with 1 Axes>"
      ]
     },
     "metadata": {
      "needs_background": "light"
     },
     "output_type": "display_data"
    }
   ],
   "source": [
    "#Question 3 Hyperparameter Tuning\n",
    "\n",
    "# check accuracy iterating through different C parameter values\n",
    "\n",
    "C_inputs = [1, .5, .1, .05, .01, .005, .001, .0005, .0001, .00005, .00001, .000005, .000001, .0000005, .0000001]\n",
    "accuracy_list = []\n",
    "\n",
    "for c_val in C_inputs:\n",
    "    lin_svc = LinearSVC(verbose=0, C = c_val, random_state= 2)\n",
    "    shuff = np.random.RandomState(seed=123).permutation(len(mnist_train_data))\n",
    "    x_train = mnist_train_data[shuff]\n",
    "    x_train = x_train[:10000]\n",
    "    y_train = mnist_train_label[shuff]\n",
    "    y_train = y_train[:10000]\n",
    "    lin_svc.fit(x_train, y_train.ravel())\n",
    "    y_pred = lin_svc.predict(mnist_val_data)\n",
    "    y_actual = mnist_val_label\n",
    "    accuracy = accuracy_score(y_actual, y_pred)\n",
    "    accuracy_list.append(accuracy)\n",
    "    print(\"Parameter C Size: \", c_val)\n",
    "    print(\"Score: \", accuracy)\n",
    "\n",
    "# plot accuracy scores\n",
    "x = C_inputs\n",
    "y = accuracy_list\n",
    "\n",
    "plt.plot(x, y, marker='o', color='b')\n",
    "plt.title('Hyperparameter tuning of C')\n",
    "plt.xlabel(\"Parameter C Size\")\n",
    "plt.ylabel(\"Accuracy\")\n",
    "plt.show()"
   ]
  },
  {
   "cell_type": "code",
   "execution_count": 9,
   "id": "9a4480ab-23db-4017-8e64-a93a6efc4daf",
   "metadata": {},
   "outputs": [
    {
     "name": "stderr",
     "output_type": "stream",
     "text": [
      "/Users/mac/anaconda3/lib/python3.9/site-packages/sklearn/svm/_base.py:985: ConvergenceWarning: Liblinear failed to converge, increase the number of iterations.\n",
      "  warnings.warn(\"Liblinear failed to converge, increase \"\n",
      "/Users/mac/anaconda3/lib/python3.9/site-packages/sklearn/svm/_base.py:985: ConvergenceWarning: Liblinear failed to converge, increase the number of iterations.\n",
      "  warnings.warn(\"Liblinear failed to converge, increase \"\n",
      "/Users/mac/anaconda3/lib/python3.9/site-packages/sklearn/svm/_base.py:985: ConvergenceWarning: Liblinear failed to converge, increase the number of iterations.\n",
      "  warnings.warn(\"Liblinear failed to converge, increase \"\n",
      "/Users/mac/anaconda3/lib/python3.9/site-packages/sklearn/svm/_base.py:985: ConvergenceWarning: Liblinear failed to converge, increase the number of iterations.\n",
      "  warnings.warn(\"Liblinear failed to converge, increase \"\n",
      "/Users/mac/anaconda3/lib/python3.9/site-packages/sklearn/svm/_base.py:985: ConvergenceWarning: Liblinear failed to converge, increase the number of iterations.\n",
      "  warnings.warn(\"Liblinear failed to converge, increase \"\n"
     ]
    },
    {
     "name": "stdout",
     "output_type": "stream",
     "text": [
      "Parameter C Size:  10\n",
      "Score:  0.8685122812782387\n"
     ]
    },
    {
     "name": "stderr",
     "output_type": "stream",
     "text": [
      "/Users/mac/anaconda3/lib/python3.9/site-packages/sklearn/svm/_base.py:985: ConvergenceWarning: Liblinear failed to converge, increase the number of iterations.\n",
      "  warnings.warn(\"Liblinear failed to converge, increase \"\n",
      "/Users/mac/anaconda3/lib/python3.9/site-packages/sklearn/svm/_base.py:985: ConvergenceWarning: Liblinear failed to converge, increase the number of iterations.\n",
      "  warnings.warn(\"Liblinear failed to converge, increase \"\n",
      "/Users/mac/anaconda3/lib/python3.9/site-packages/sklearn/svm/_base.py:985: ConvergenceWarning: Liblinear failed to converge, increase the number of iterations.\n",
      "  warnings.warn(\"Liblinear failed to converge, increase \"\n",
      "/Users/mac/anaconda3/lib/python3.9/site-packages/sklearn/svm/_base.py:985: ConvergenceWarning: Liblinear failed to converge, increase the number of iterations.\n",
      "  warnings.warn(\"Liblinear failed to converge, increase \"\n",
      "/Users/mac/anaconda3/lib/python3.9/site-packages/sklearn/svm/_base.py:985: ConvergenceWarning: Liblinear failed to converge, increase the number of iterations.\n",
      "  warnings.warn(\"Liblinear failed to converge, increase \"\n"
     ]
    },
    {
     "name": "stdout",
     "output_type": "stream",
     "text": [
      "Parameter C Size:  1\n",
      "Score:  0.8671586894991149\n",
      "Parameter C Size:  0.5\n",
      "Score:  0.8656120475269413\n",
      "Parameter C Size:  0.1\n",
      "Score:  0.8611655452080985\n",
      "Parameter C Size:  0.05\n",
      "Score:  0.8607794448219981\n",
      "Parameter C Size:  0.01\n",
      "Score:  0.8474354570099252\n",
      "Parameter C Size:  0.005\n",
      "Score:  0.8395050895050895\n",
      "Parameter C Size:  0.001\n",
      "Score:  0.8095333935759468\n",
      "Parameter C Size:  0.0005\n",
      "Score:  0.7888478973585357\n",
      "Parameter C Size:  0.0001\n",
      "Score:  0.7236891630508653\n",
      "Parameter C Size:  5e-05\n",
      "Score:  0.7101566059012868\n",
      "Parameter C Size:  1e-05\n",
      "Score:  0.7099631823036079\n",
      "Parameter C Size:  5e-06\n",
      "Score:  0.7099631823036079\n",
      "Parameter C Size:  1e-06\n",
      "Score:  0.7099631823036079\n",
      "Parameter C Size:  5e-07\n",
      "Score:  0.7099631823036079\n",
      "Parameter C Size:  1e-07\n",
      "Score:  0.7099631823036079\n"
     ]
    },
    {
     "data": {
      "image/png": "[encoded data removed]",
      "text/plain": [
       "<Figure size 432x288 with 1 Axes>"
      ]
     },
     "metadata": {
      "needs_background": "light"
     },
     "output_type": "display_data"
    }
   ],
   "source": [
    "# Question 4 K-Fold Cross-Validation\n",
    "\n",
    "# shuffle data and normalize\n",
    "shuffle = np.random.RandomState(seed=123).permutation(len(spam[\"training_data\"]))\n",
    "spam_train_shuf = spam[\"training_data\"][shuffle]\n",
    "spam_labels_shuf = spam[\"training_labels\"][shuffle]\n",
    "\n",
    "spam_train_shuf = spam_train_shuf + 1\n",
    "spam_train_shuf = np.log(spam_train_shuf)\n",
    "\n",
    "# Perform 5 fold cross validation on spam dataset, iterating through values of C hyperparameter.\n",
    "# Keep track of associated accuracies with C values\n",
    "k_range = np.arange(1,6,1)\n",
    "C_inputs = [10, 1, .5, .1, .05, .01, .005, .001, .0005, .0001, .00005, .00001, .000005, .000001, .0000005, .0000001]\n",
    "avg_accs = []\n",
    "\n",
    "#loop through values of C\n",
    "for c_val in C_inputs:\n",
    "    one_fifth = len(spam_train_shuf)//5\n",
    "    start = 0\n",
    "    end = one_fifth\n",
    "    accuracy_list = []\n",
    "# running k-fold on a given value of C parameter\n",
    "    for k in k_range:\n",
    "        if k < 5:\n",
    "            validation = spam_train_shuf[start:end]\n",
    "            x_train = np.concatenate((spam_train_shuf[end:], spam_train_shuf[:start]))\n",
    "            y_actual = spam_labels_shuf[start:end]\n",
    "            y_train = np.concatenate((spam_labels_shuf[end:], spam_labels_shuf[:start]))\n",
    "            start += one_fifth\n",
    "            end += one_fifth\n",
    "        else:\n",
    "            validation = spam_train_shuf[start:]\n",
    "            x_train = spam_train_shuf[:start]\n",
    "            y_actual = spam_labels_shuf[start:]\n",
    "            y_train = spam_labels_shuf[:start]\n",
    "\n",
    "        lin_svc = LinearSVC(verbose=0, C = c_val, random_state= 2, max_iter=3000)\n",
    "        lin_svc.fit(x_train, y_train.ravel())\n",
    "        y_pred = lin_svc.predict(validation)\n",
    "        accuracy = accuracy_score(y_actual, y_pred)\n",
    "        accuracy_list.append(accuracy)\n",
    "        if k==5:\n",
    "            avg_accuracy = sum(accuracy_list)/k\n",
    "            avg_accs.append(avg_accuracy)\n",
    "            print(\"Parameter C Size: \", c_val)\n",
    "            print(\"Score: \", avg_accuracy)\n",
    "\n",
    "# plot accuracy scores\n",
    "x = C_inputs\n",
    "y = avg_accs\n",
    "\n",
    "plt.plot(x, y, marker='o', color='b')\n",
    "plt.title('Hyperparameter tuning of C')\n",
    "plt.xlabel(\"Parameter C Size\")\n",
    "plt.ylabel(\"Accuracy\")\n",
    "plt.show()    "
   ]
  },
  {
   "cell_type": "code",
   "execution_count": 10,
   "id": "522be001-f057-4acb-aaea-cf7aa95a22fb",
   "metadata": {},
   "outputs": [],
   "source": [
    "# Question 5 Optimize models and run on test sets"
   ]
  },
  {
   "cell_type": "code",
   "execution_count": 11,
   "id": "8fd7e127-c2a7-4c86-a45d-fdc70a52573d",
   "metadata": {},
   "outputs": [
    {
     "name": "stdout",
     "output_type": "stream",
     "text": [
      "Best params: {'C': 2.673, 'gamma': 0.0281, 'kernel': 'rbf'}\n",
      "1.0\n"
     ]
    }
   ],
   "source": [
    "#mnist digit classifier:\n",
    "#Method: Initially, try many gridsearch inputs and then fine tune the \"Best params\" outputted\n",
    "\n",
    "#Select mnist data and normalize\n",
    "x_train = mnist[\"training_data\"][:100]\n",
    "y_train = mnist[\"training_labels\"][:100]\n",
    "x_train = x_train / 255\n",
    "\n",
    "#Grid search SVC\n",
    "\n",
    "# untuned_params = {'C': [0.000001,.00001, 0.0001,0.001,0.01,0.1,1],\n",
    "#           'gamma': [1,0.1,0.01,0.001,0.0001],\n",
    "#           'kernel': [\"linear\", \"poly\", \"rbf\", \"sigmoid\"]}\n",
    "\n",
    "params = {'C': [2.673,2.674],\n",
    "          'gamma': [.0281,.02800],\n",
    "          'kernel': [\"rbf\"]}\n",
    "svc_gs = GridSearchCV(SVC(),\n",
    "                      param_grid=params,\n",
    "                      scoring='accuracy',\n",
    "                      cv=5)\n",
    "svc_gs.fit(x_train, y_train.ravel())\n",
    "\n",
    "print(\"Best params:\", svc_gs.best_params_)\n",
    "print(svc_gs.score(x_train, y_train))"
   ]
  },
  {
   "cell_type": "code",
   "execution_count": 12,
   "id": "ff9f970d-86d3-481b-ac5b-e906ad1f555a",
   "metadata": {},
   "outputs": [
    {
     "data": {
      "text/plain": [
       "array([8, 8, 8, ..., 9, 2, 7], dtype=uint8)"
      ]
     },
     "execution_count": 12,
     "metadata": {},
     "output_type": "execute_result"
    }
   ],
   "source": [
    "# Run optimized model on test set (make predictions)\n",
    "x_test = mnist[\"test_data\"]\n",
    "x_train = mnist[\"training_data\"]\n",
    "y_train = mnist[\"training_labels\"]\n",
    "\n",
    "# normalize full dataset\n",
    "x_train = x_train / 255\n",
    "x_test = x_test / 255\n",
    "\n",
    "# run best model on test set\n",
    "svc = SVC(C= 2.7, gamma= 0.027, kernel= 'rbf')\n",
    "svc.fit(x_train, y_train.ravel())\n",
    "y_test = svc.predict(x_test)\n",
    "y_test"
   ]
  },
  {
   "cell_type": "code",
   "execution_count": 13,
   "id": "19b264ce-b1af-4f2c-af54-a25285522ce9",
   "metadata": {},
   "outputs": [],
   "source": [
    "#Download csv format for submission to kaggle\n",
    "def results_to_csv(y_test):\n",
    "    y_test = y_test.astype(int)\n",
    "    df = pd.DataFrame({'Category': y_test})\n",
    "    df.index += 1  # Ensures that the index starts at 1. \n",
    "    df.to_csv('mnist_submission5.0.csv', index_label='Id')\n",
    "results_to_csv(y_test)    "
   ]
  },
  {
   "cell_type": "code",
   "execution_count": 14,
   "id": "50393e5b-e496-4473-9913-18c3b0b6bed7",
   "metadata": {},
   "outputs": [
    {
     "name": "stdout",
     "output_type": "stream",
     "text": [
      "Best params: {'C': 1.75, 'gamma': 0.75, 'kernel': 'rbf'}\n",
      "0.998646558391338\n"
     ]
    }
   ],
   "source": [
    "#spam/ham email binary classifier\n",
    "#Method: Initially, try many gridsearch inputs and then fine tune the \"Best params\" outputted\n",
    "\n",
    "#Select spam data and normalize\n",
    "x_train = spam[\"training_data\"]\n",
    "y_train = spam[\"training_labels\"]\n",
    "\n",
    "#Grid search SVC\n",
    "\n",
    "# untuned_params = {'C': [0.000001,.00001, 0.0001,0.001,0.01,0.1,1],\n",
    "#           'gamma': [1,0.1,0.01,0.001,0.0001],\n",
    "#           'kernel': [\"linear\", \"poly\", \"rbf\", \"sigmoid\"]}\n",
    "\n",
    "params = {'C': [1.75],\n",
    "          'gamma': [.75],\n",
    "          'kernel': [\"rbf\"]}\n",
    "svc_gs = GridSearchCV(SVC(),\n",
    "                      param_grid=params,\n",
    "                      scoring='accuracy',\n",
    "                      cv=5)\n",
    "svc_gs.fit(x_train, y_train.ravel())\n",
    "\n",
    "print(\"Best params:\", svc_gs.best_params_)\n",
    "print(svc_gs.score(x_train, y_train))"
   ]
  },
  {
   "cell_type": "code",
   "execution_count": 15,
   "id": "12691d16-be05-45bf-9960-fe8c0bb94e72",
   "metadata": {},
   "outputs": [
    {
     "data": {
      "text/plain": [
       "array([0, 0, 0, ..., 0, 0, 0])"
      ]
     },
     "execution_count": 15,
     "metadata": {},
     "output_type": "execute_result"
    }
   ],
   "source": [
    "# # Run optimized model on test set (make predictions)\n",
    "x_test = spam[\"test_data\"]\n",
    "x_train = spam_train_shuffled\n",
    "y_train = spam_labels_shuffled\n",
    "\n",
    "# normalize full dataset\n",
    "x_train = x_train + 1\n",
    "x_train = np.log(x_train)\n",
    "x_test = x_test + 1\n",
    "x_test = np.log(x_test)\n",
    "\n",
    "# run best model on test set\n",
    "svc = SVC(C=1.75, gamma=.75, kernel='rbf')\n",
    "svc.fit(x_train, y_train.ravel())\n",
    "y_test = svc.predict(x_test)\n",
    "y_test"
   ]
  },
  {
   "cell_type": "code",
   "execution_count": 16,
   "id": "fa37c70b-f6fd-4d6f-8c9b-7f039608fcfd",
   "metadata": {},
   "outputs": [],
   "source": [
    "#Download csv format for submission to kaggle\n",
    "def results_to_csv(y_test):\n",
    "    y_test = y_test.astype(int)\n",
    "    df = pd.DataFrame({'Category': y_test})\n",
    "    df.index += 1  # Ensures that the index starts at 1. \n",
    "    df.to_csv('spam_submission9.csv', index_label='Id')\n",
    "results_to_csv(y_test)    "
   ]
  },
  {
   "cell_type": "code",
   "execution_count": 17,
   "id": "37da6dab-3923-439e-87d0-7e12c85d4254",
   "metadata": {},
   "outputs": [
    {
     "name": "stdout",
     "output_type": "stream",
     "text": [
      "Best params: {'C': 2.7, 'gamma': 0.005, 'kernel': 'rbf'}\n",
      "1.0\n"
     ]
    }
   ],
   "source": [
    "#cifar image classifier\n",
    "#Method: Initially, try many gridsearch inputs and then fine tune the \"Best params\" outputted\n",
    "\n",
    "#Select cifar data and normalize\n",
    "x_train = cifar[\"training_data\"][:100]\n",
    "y_train = cifar[\"training_labels\"][:100]\n",
    "x_train = x_train / 255\n",
    "\n",
    "#Grid search SVC\n",
    "\n",
    "# untuned_params = {'C': [0.000001,.00001, 0.0001,0.001,0.01,0.1,1],\n",
    "#           'gamma': [1,0.1,0.01,0.001,0.0001],\n",
    "#           'kernel': [\"linear\", \"poly\", \"rbf\", \"sigmoid\"]}\n",
    "\n",
    "params = {'C': [2.5,2.7,2.3],\n",
    "          'gamma': [.001,.005,.01],\n",
    "          'kernel': [\"rbf\"]}\n",
    "svc_gs = GridSearchCV(SVC(),\n",
    "                      param_grid=params,\n",
    "                      scoring='accuracy',\n",
    "                      cv=5)\n",
    "svc_gs.fit(x_train, y_train.ravel())\n",
    "\n",
    "print(\"Best params:\", svc_gs.best_params_)\n",
    "print(svc_gs.score(x_train, y_train))"
   ]
  },
  {
   "cell_type": "code",
   "execution_count": 18,
   "id": "4665eb22-7a8b-421a-9011-3a0ac237fa78",
   "metadata": {},
   "outputs": [
    {
     "data": {
      "text/plain": [
       "array([9, 0, 7, ..., 6, 1, 3])"
      ]
     },
     "execution_count": 18,
     "metadata": {},
     "output_type": "execute_result"
    }
   ],
   "source": [
    "# run optimized model on test set (make predictions)\n",
    "x_test = cifar[\"test_data\"]\n",
    "x_train = cifar_train_shuffled\n",
    "y_train = cifar_labels_shuffled\n",
    "\n",
    "# normalize full dataset\n",
    "x_train = x_train/ 255\n",
    "x_test = x_test / 255\n",
    "\n",
    "# run best model on test set\n",
    "svc = SVC(C=2.5, gamma=.005, kernel=\"rbf\")\n",
    "svc.fit(x_train, y_train.ravel())\n",
    "y_test = svc.predict(x_test)\n",
    "y_test"
   ]
  },
  {
   "cell_type": "code",
   "execution_count": 19,
   "id": "4c875c97-33f1-4a3a-85ab-d02b728e161c",
   "metadata": {},
   "outputs": [],
   "source": [
    "#Download csv format for submission to kaggle\n",
    "def results_to_csv(y_test):\n",
    "    y_test = y_test.astype(int)\n",
    "    df = pd.DataFrame({'Category': y_test})\n",
    "    df.index += 1  # Ensures that the index starts at 1. \n",
    "    df.to_csv('cifar_submission4.csv', index_label='Id')\n",
    "results_to_csv(y_test)    "
   ]
  },
  {
   "cell_type": "code",
   "execution_count": 23,
   "id": "75901bf7-eaeb-4164-bc3f-6828f50c2612",
   "metadata": {},
   "outputs": [
    {
     "data": {
      "text/plain": [
       "array([[1],\n",
       "       [1],\n",
       "       [1],\n",
       "       [1],\n",
       "       [1],\n",
       "       [1],\n",
       "       [1],\n",
       "       [1],\n",
       "       [1],\n",
       "       [1],\n",
       "       [1],\n",
       "       [1],\n",
       "       [1],\n",
       "       [1],\n",
       "       [1],\n",
       "       [1],\n",
       "       [1],\n",
       "       [1],\n",
       "       [1],\n",
       "       [1],\n",
       "       [1],\n",
       "       [1],\n",
       "       [1],\n",
       "       [1],\n",
       "       [1],\n",
       "       [1],\n",
       "       [1],\n",
       "       [1],\n",
       "       [1],\n",
       "       [1],\n",
       "       [1],\n",
       "       [1],\n",
       "       [1],\n",
       "       [1],\n",
       "       [1],\n",
       "       [1],\n",
       "       [1],\n",
       "       [1],\n",
       "       [1],\n",
       "       [1],\n",
       "       [1],\n",
       "       [1],\n",
       "       [1],\n",
       "       [1],\n",
       "       [1],\n",
       "       [1],\n",
       "       [1],\n",
       "       [1],\n",
       "       [1],\n",
       "       [1],\n",
       "       [1],\n",
       "       [1],\n",
       "       [1],\n",
       "       [1],\n",
       "       [1],\n",
       "       [1],\n",
       "       [1],\n",
       "       [1],\n",
       "       [1],\n",
       "       [1],\n",
       "       [1],\n",
       "       [1],\n",
       "       [1],\n",
       "       [1],\n",
       "       [1],\n",
       "       [1],\n",
       "       [1],\n",
       "       [1],\n",
       "       [1],\n",
       "       [1],\n",
       "       [1],\n",
       "       [1],\n",
       "       [1],\n",
       "       [1],\n",
       "       [1],\n",
       "       [1],\n",
       "       [1],\n",
       "       [1],\n",
       "       [1],\n",
       "       [1],\n",
       "       [1],\n",
       "       [1],\n",
       "       [1],\n",
       "       [1],\n",
       "       [1],\n",
       "       [1],\n",
       "       [1],\n",
       "       [1],\n",
       "       [1],\n",
       "       [1],\n",
       "       [1],\n",
       "       [1],\n",
       "       [1],\n",
       "       [1],\n",
       "       [1],\n",
       "       [1],\n",
       "       [1],\n",
       "       [1],\n",
       "       [1],\n",
       "       [1]])"
      ]
     },
     "execution_count": 23,
     "metadata": {},
     "output_type": "execute_result"
    }
   ],
   "source": [
    "spam['training_labels']"
   ]
  },
  {
   "cell_type": "code",
   "execution_count": null,
   "id": "ca5177e9-91ed-4edb-a74a-e2e4bed1cefd",
   "metadata": {},
   "outputs": [],
   "source": []
  }
 ],
 "metadata": {
  "kernelspec": {
   "display_name": "Python 3 (ipykernel)",
   "language": "python",
   "name": "python3"
  },
  "language_info": {
   "codemirror_mode": {
    "name": "ipython",
    "version": 3
   },
   "file_extension": ".py",
   "mimetype": "text/x-python",
   "name": "python",
   "nbconvert_exporter": "python",
   "pygments_lexer": "ipython3",
   "version": "3.9.7"
  }
 },
 "nbformat": 4,
 "nbformat_minor": 5
}
